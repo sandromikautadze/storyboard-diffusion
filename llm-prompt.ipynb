{
 "cells": [
  {
   "cell_type": "code",
   "execution_count": 1,
   "metadata": {},
   "outputs": [],
   "source": [
    "from dotenv import load_dotenv\n",
    "import json\n",
    "from together import Together\n",
    "from pydantic import BaseModel, Field\n",
    "from typing import List, Dict"
   ]
  },
  {
   "cell_type": "code",
   "execution_count": 2,
   "metadata": {},
   "outputs": [],
   "source": [
    "load_dotenv()\n",
    "together = Together() # add .env file with TOGETHER_API_KEY variable"
   ]
  },
  {
   "cell_type": "code",
   "execution_count": 3,
   "metadata": {},
   "outputs": [],
   "source": [
    "characters_dict = {\n",
    "    \"Don Vito Corleone\": {\n",
    "        \"age\": \"early 60s\", \"gender\": \"male\", \"hair\": \"slicked-back gray-black hair\",\n",
    "        \"clothing\": \"dark three-piece suit\",\n",
    "        \"body_type\": \"stocky, slightly hunched posture\",\n",
    "        \"accessories\": \"gold ring on right hand, pocket watch\",\n",
    "        \"ethnicity\": \"Italian-American\"\n",
    "    },\n",
    "    \"Tom Hagen\": {\n",
    "        \"age\": \"early 40s\", \"gender\": \"male\", \"hair\": \"short, neatly combed brown hair\",\n",
    "        \"facial_hair\": \"clean-shaven\", \"clothing\": \"gray suit, dark tie\",\n",
    "        \"body_type\": \"medium build, upright posture\", \"ethnicity\": \"German-Irish\"\n",
    "    },\n",
    "    \"Johnny Fontane\": {\n",
    "        \"age\": \"late 30s\", \"gender\": \"male\", \"hair\": \"short, slicked-back black hair\",\n",
    "        \"facial_hair\": \"clean shaven\", \"clothing\": \"dark, stylish suit with an open collar\",\n",
    "        \"body_type\": \"slim and fit\", \"accessories\": \"gold ring, cigarette\"\n",
    "    },\n",
    "    \"Sonny\": {\n",
    "        \"age\": \"early 30s\", \"gender\": \"male\", \"hair\": \"curly, dark brown hair\",\n",
    "        \"facial_hair\": \"clean-shaven\", \"clothing\": \"formal suit, slightly disheveled\",\n",
    "        \"body_type\": \"athletic build\", \"ethnicity\": \"Italian-American\",\n",
    "    }\n",
    "\n",
    "}"
   ]
  },
  {
   "cell_type": "code",
   "execution_count": 4,
   "metadata": {},
   "outputs": [],
   "source": [
    "def _build_character_description(characters_dict: Dict[str, str]):\n",
    "    \"\"\"\n",
    "    Generates text description of character from the dictionary\n",
    "    \"\"\"\n",
    "    features = [\n",
    "        characters_dict.get(\"ethnicity\", \"\"),\n",
    "        characters_dict.get(\"age\", \"\"),\n",
    "        characters_dict.get(\"gender\", \"\"),\n",
    "        characters_dict.get(\"hair\", \"\"),\n",
    "        characters_dict.get(\"facial_hair\", \"\"),\n",
    "        characters_dict.get(\"body_type\", \"\"),\n",
    "        f\"wearing {characters_dict.get('clothing', '')}\",\n",
    "        f\"with {characters_dict.get('accessories', '')}\" if characters_dict.get(\"accessories\") else \"\"\n",
    "    ]\n",
    "    \n",
    "    return \", \".join(filter(None, features))"
   ]
  },
  {
   "cell_type": "code",
   "execution_count": 5,
   "metadata": {},
   "outputs": [],
   "source": [
    "ORIENTATIONS = [\n",
    "    \"Front View\", \"Profile View\", \"Back View\", \"From Behind\", \"From Above\",\n",
    "    \"From Below\", \"Three-Quarters View\", \"Long Shot\", \"Three-Quarters Rear View\"\n",
    "]\n",
    "\n",
    "CAMERA_SHOTS = [\n",
    "    \"Aerial View\", \"Bird’s-Eye View\", \"Close-Up\", \"Cowboy Shot\", \"Dolly Zoom\",\n",
    "    \"Dutch Angle\", \"Establishing Shot\", \"Extreme Close-Up\", \"Extreme Long Shot\",\n",
    "    \"Full Shot\", \"Long Shot\", \"Medium Close-Up\", \"Medium Long Shot\", \"Medium Shot\",\n",
    "    \"Over-the-Shoulder Shot\", \"Point-of-View Shot\", \"Two-Shot\", \"Fisheye Shot\",\n",
    "    \"Worm's Eye\", \"Low-Angle Shot\", \"Macro Shot\", \"Tilt-Shift Shot\", \"Telephoto Shot\"\n",
    "]\n",
    "\n",
    "class Character(BaseModel):\n",
    "    name: str  # Only name is needed per your example output\n",
    "    \n",
    "class Scene(BaseModel):\n",
    "    scene_number: int\n",
    "    shot_type: str\n",
    "    orientation: str\n",
    "    characters: List[Character]\n",
    "    environment: str  # This was missing in your Scene class\n",
    "    description: str\n",
    "    \n",
    "class SceneList(BaseModel):\n",
    "    scenes: List[Scene]"
   ]
  },
  {
   "cell_type": "code",
   "execution_count": 6,
   "metadata": {},
   "outputs": [],
   "source": [
    "def input_to_json(script: str, characters: Dict[str, Dict], temperature: int = 0.7):\n",
    "    \"\"\"\n",
    "    Converts a script and character descriptions into a JSON format for storyboard generation.\n",
    "    \"\"\"\n",
    "    character_descriptions = {name: _build_character_description(desc) for name, desc in characters.items()}\n",
    "    \n",
    "    # Create the content outside of f-string to avoid nesting\n",
    "    script_section = f\"Here is the film script: \\n{script}\"\n",
    "    characters_section = f\"The characters in the script have the following descriptions: \\n{json.dumps(character_descriptions, indent=2)}\"\n",
    "    \n",
    "    instructions = \"\"\"\n",
    "### Storyboard Generation Instructions\n",
    "1. **Number of Scenes**: Divide the entire script into a reasonable number of scenes (typically between 4 to 7 scenes), not too many or too few.\n",
    "2. **Single Distinct Moment**: Each scene captures a single moment.\n",
    "3. **Camera Angles & Orientation**: Choose from these shot types: {CAMERA_SHOTS}.  \n",
    "Choose from these orientations: {ORIENTATIONS}.\n",
    "4. **Location & Time**: Clearly derive environment from the script (e.g. INT DAY, DON'S OFFICE, etc.). Describe it in its details (size, lighhting, mood, organization of the objects, etc.). Notice that if it's the same across the different scenes, it must be written in the same way\n",
    "5. **Characters**:\n",
    "- List only characters relevant to the single moment in each scene.\n",
    "- Each character must have the name and a short description (consistent from provided descriptions).\n",
    "6. Clearly describe the scene including actions, character positions (foreground, background, left, right), emotions, and expressions.\n",
    "7. **Scene Format**: Return JSON with a key 'scenes' as an array of structured objects:\n",
    "- \"scene_number\": integer\n",
    "- \"shot_type\": camera shot type (from provided list) \n",
    "- \"orientation\": orientation (from provided list)\n",
    "- \"characters\": list of objects with:\n",
    "        - \"name\": character's name, not as they appear on the script but as they were given to you in the description.\n",
    "- \"environment\": short description of the location\n",
    "- \"description\": short, vivid description focusing on actions, expressions, emotions of each single character. Also their relative position is clearly described. The description must be succint, without extra articles or words, it should be visual and useful for an image generation prompt. Ensure it makes sense with the shot type (e.g., if it's medium shot, don't say that the facce is covering the full image, otherwise it should be a close up).\n",
    "\n",
    "Follow the above instructions very carefully. Notice that the scenes have no knowledge of each other's contents. So in case something is necessary, describe it again. \n",
    "\"\"\"\n",
    "\n",
    "    example_input = \"\"\"\n",
    "### Example\n",
    "Input: \n",
    "- Script is \n",
    "INT DAY: DON'S OFFICE (SUMMER 1945)\n",
    "\n",
    "        DON CORLEONE\n",
    "ACT LIKE A MAN!  By Christ in\n",
    "Heaven, is it possible you turned\n",
    "out no better than a Hollywood\n",
    "finocchio.\n",
    "\n",
    "Both HAGEN and JOHNNY cannot refrain from laughing.  The DON\n",
    "smiles.  SONNY enters as noiselessly as possible, still\n",
    "adjusting his clothes.\n",
    "\n",
    "        DON CORLEONE\n",
    "All right, Hollywood...Now tell me\n",
    "about this Hollywood Pezzonovanta\n",
    "who won't let you work.\n",
    "\n",
    "        JOHNNY\n",
    "He owns the studio.  Just a month\n",
    "ago he bought the movie rights to\n",
    "this book, a best seller.  And the\n",
    "main character is a guy just like\n",
    "me.  I wouldn't even have to act,\n",
    "just be myself.\n",
    "\n",
    "The DON is silent, stern.\n",
    "\n",
    "        DON CORLEONE\n",
    "You take care of your family?\n",
    "\n",
    "        JOHNNY\n",
    "Sure.\n",
    "\n",
    "He glances at SONNY, who makes himself as inconspicuous as\n",
    "he can.\n",
    "\n",
    "        DON CORLEONE\n",
    "You look terrible.  I want you to\n",
    "eat well, to rest.  And spend time\n",
    "with your family.  And then, at the\n",
    "end of the month, this big shot\n",
    "will give you the part you want.\n",
    "\n",
    "        JOHNNY\n",
    "It's too late.  All the contracts\n",
    "have been signed, they're almost\n",
    "ready to shoot.\n",
    "\n",
    "        DON CORLEONE\n",
    "I'll make him an offer he can't\n",
    "refuse.\n",
    "\n",
    "He takes JOHNNY to the door, pinching his cheek hard enough\n",
    "to hurt.\n",
    "\n",
    "        DON CORLEONE\n",
    "Now go back to the party and leave\n",
    "it to me.\n",
    "\n",
    "He closes the door, smiling to himself.  Turns to HAGEN.\n",
    "\n",
    "        DON CORLEONE\n",
    "When does my daughter leave with\n",
    "her bridegroom?\n",
    "\n",
    "        HAGEN\n",
    "They'll cut the cake in a few\n",
    "minutes...leave right after that.\n",
    "Your new son-in-law, do we give him\n",
    "something important?\n",
    "\n",
    "        DON CORLEONE\n",
    "No, give him a living.  But never\n",
    "let him know the family's business.\n",
    "What else, Tom?\n",
    "\n",
    "        HAGEN\n",
    "I've called the hospital; they've\n",
    "notified Consigliere Genco's family\n",
    "to come and wait.  He won't last\n",
    "out the night.\n",
    "\n",
    "This saddens the DON.  He sighs.\n",
    "\n",
    "        DON CORLEONE\n",
    "Genco will wait for me.  Santino,\n",
    "tell your brothers they will come\n",
    "with me to the hospital to see\n",
    "Genco.  Tell Fredo to drive the big\n",
    "car, and ask Johnny to come with us.\n",
    "\n",
    "        SONNY\n",
    "And Michael?\n",
    "\n",
    "        DON CORLEONE\n",
    "All my sons.\n",
    "        (to HAGEN)\n",
    "Tom, I want you to go to California\n",
    "tonight.  Make the arrangements.\n",
    "But don't leave until I come back\n",
    "from the hospital and speak to you.\n",
    "Understood?\n",
    "\n",
    "        HAGEN\n",
    "Understood.\n",
    "\n",
    "- Characters description from the dictionary gives\n",
    "        - Don Vito Corleone: 'Italian-American, early 60s, male, slicked-back gray-black hair, stocky, slightly hunched posture, wearing dark three-piece suit, with gold ring on right hand, pocket watch'\n",
    "        - Johnny Fontane: 'late 30s, male, short, slicked-back black hair, clean shaven, slim and fit, wearing dark, stylish suit with an open collar, with gold ring, cigarette'\n",
    "        - Tom Hagen: 'German-Irish, early 40s, male, short, neatly combed brown hair, clean-shaven, medium build, upright posture, wearing gray suit, dark tie'\n",
    "        - Sonny: 'Italian-American, early 30s, male, curly, dark brown hair, clean-shaven, athletic build, wearing formal suit, slightly disheveled'\n",
    "\"\"\"\n",
    "\n",
    "    example_output = \"\"\"\n",
    "Example Output:\n",
    "{\n",
    "   \"scenes\": [\n",
    "   {\n",
    "   \"scene_number\": 1,\n",
    "   \"shot_type\": \"Medium Shot\",\n",
    "   \"orientation\": \"Front View\",\n",
    "   \"characters\": [\n",
    "           {\n",
    "           \"name\": \"Don Vito Corleone\"\n",
    "           },\n",
    "           {\n",
    "           \"name\": \"Johnny Fontane\"\n",
    "           },\n",
    "           {\n",
    "           \"name\": \"Tom Hagen\"\n",
    "           }\n",
    "   ],\n",
    "   \"environment\": \"Don's office, daytime, summer 1945. Elegant wood-paneled room with large desk, leather chairs, warm lighting filtering through venetian blinds.\",\n",
    "   \"description\": \"Don Corleone stands imposingly behind desk, face stern with righteous anger, pointing finger at Johnny. Johnny appears embarrassed, head slightly bowed. Hagen stands to the right, barely containing laughter. Tension and amusement mix in intimate office atmosphere.\"\n",
    "   },\n",
    "   {\n",
    "   \"scene_number\": 2,\n",
    "   \"shot_type\": \"Two-Shot\",\n",
    "   \"orientation\": \"Profile View\",\n",
    "   \"characters\": [\n",
    "           {\n",
    "           \"name\": \"Don Vito Corleone\"\n",
    "           },\n",
    "           {\n",
    "           \"name\": \"Johnny Fontane\"\n",
    "           },\n",
    "           {\n",
    "           \"name\": \"Tom Hagen\"\n",
    "           },\n",
    "           {\n",
    "           \"name\": \"Sonny\"\n",
    "           }\n",
    "   ],\n",
    "   \"environment\": \"Don's office, daytime, summer 1945. Elegant wood-paneled room with large desk, leather chairs, warm lighting filtering through venetian blinds.\",\n",
    "   \"description\": \"Sonny quietly enters room from right, adjusting disheveled clothes. Don leans forward at desk, expression softening to business-like focus. Johnny stands center, straightening posture. Hagen observes from left corner. Atmosphere shifts from personal rebuke to business discussion.\"\n",
    "   },\n",
    "   {\n",
    "   \"scene_number\": 3,\n",
    "   \"shot_type\": \"Close-Up\",\n",
    "   \"orientation\": \"Front View\",\n",
    "   \"characters\": [\n",
    "           {\n",
    "           \"name\": \"Don Vito Corleone\"\n",
    "           }\n",
    "   ],\n",
    "   \"environment\": \"Don's office, daytime, summer 1945. Elegant wood-paneled room with large desk, leather chairs, warm lighting filtering through venetian blinds.\",\n",
    "   \"description\": \"Don Corleone's face fills frame, stern and contemplative. Eyes narrowed, jaw set firmly. Saying 'I'll make him an offer he can't refuse' with quiet, confident menace. Power and authority emanate from his expression.\"\n",
    "   },\n",
    "   {\n",
    "   \"scene_number\": 4,\n",
    "   \"shot_type\": \"Medium Close-Up\",\n",
    "   \"orientation\": \"Three-Quarters View\",\n",
    "   \"characters\": [\n",
    "           {\n",
    "           \"name\": \"Don Vito Corleone\"\n",
    "           },\n",
    "           {\n",
    "           \"name\": \"Johnny Fontane\"\n",
    "           }\n",
    "   ],\n",
    "   \"environment\": \"Don's office, daytime, summer 1945. Elegant wood-paneled room with large desk, leather chairs, warm lighting filtering through venetian blinds.\",\n",
    "   \"description\": \"Don Corleone escorts Johnny to door, pinching his cheek firmly. Don's expression shows affection mixed with dominance. Johnny winces slightly at pain while showing relief and gratitude. Door frame visible on right edge of shot.\"\n",
    "   },\n",
    "   {\n",
    "   \"scene_number\": 5,\n",
    "   \"shot_type\": \"Medium Shot\",\n",
    "   \"orientation\": \"Front View\",\n",
    "   \"characters\": [\n",
    "           {\n",
    "           \"name\": \"Don Vito Corleone\"\n",
    "           },\n",
    "           {\n",
    "           \"name\": \"Tom Hagen\"\n",
    "           }\n",
    "   ],\n",
    "   \"environment\": \"Don's office, daytime, summer 1945. Elegant wood-paneled room with large desk, leather chairs, warm lighting filtering through venetian blinds.\",\n",
    "   \"description\": \"Don Corleone turns from closed door, small smile fading to serious business expression. Hagen stands attentively near desk, notepad ready. Don moves toward chair, shoulders slightly hunched, gold ring catching light as he gestures.\"\n",
    "   },\n",
    "   {\n",
    "   \"scene_number\": 6,\n",
    "   \"shot_type\": \"Over-the-Shoulder Shot\",\n",
    "   \"orientation\": \"Profile View\",\n",
    "   \"characters\": [\n",
    "           {\n",
    "           \"name\": \"Don Vito Corleone\"\n",
    "           },\n",
    "           {\n",
    "           \"name\": \"Tom Hagen\"\n",
    "           },\n",
    "           {\n",
    "           \"name\": \"Sonny\"\n",
    "           }\n",
    "   ],\n",
    "   \"environment\": \"Don's office, daytime, summer 1945. Elegant wood-paneled room with large desk, leather chairs, warm lighting filtering through venetian blinds.\",\n",
    "   \"description\": \"Camera over Don's shoulder, facing Hagen and Sonny. Don's gray-black hair and dark suit visible in foreground. Hagen's face shows respectful attention. Sonny stands beside him, now composed. Don's voice carries weight as he issues final instructions about hospital visit.\"\n",
    "   }\n",
    "   ]\n",
    "}\n",
    "\"\"\"\n",
    "\n",
    "    # Combine all content together without nesting f-strings\n",
    "    user_content = f\"{script_section}\\n\\n{characters_section}\\n\\n{instructions}\\n{example_input}\\n{example_output}\"\n",
    "    \n",
    "    messages = [\n",
    "        {\"role\": \"system\", \"content\": (\n",
    "            \"You are an AI specialized in creating structured storyboard scenes from a film script \"\n",
    "            \"for image generation (e.g., stable diffusion). Each scene must capture a single distinct moment, \"\n",
    "            \"should list relevant characters with consistent appearances, specify the environment, camera shot, \"\n",
    "            \"and orientation, and provide direct clues for a diffusion model to generate images.\"\n",
    "            )},\n",
    "        {\"role\": \"user\", \"content\": user_content}\n",
    "    ]\n",
    "    \n",
    "    response = together.chat.completions.create(\n",
    "        model=\"meta-llama/Meta-Llama-3.1-8B-Instruct-Turbo\",\n",
    "        messages=messages,\n",
    "        max_tokens=10000,\n",
    "        temperature=temperature,\n",
    "        response_format={\"type\": \"json_object\", \"schema\": SceneList.model_json_schema()}\n",
    "    )\n",
    "\n",
    "    try:\n",
    "        output_json = response.choices[0].message.content\n",
    "        return json.loads(output_json)[\"scenes\"]\n",
    "    except (json.JSONDecodeError, KeyError) as e:\n",
    "        print(\"Error parsing JSON output:\", e)\n",
    "        return []"
   ]
  },
  {
   "cell_type": "code",
   "execution_count": 7,
   "metadata": {},
   "outputs": [],
   "source": [
    "script = \"\"\"\n",
    "INT DAY: DON'S OFFICE (SUMMER 1945)\n",
    "\n",
    "\t\t\t\tDON CORLEONE\n",
    "\t\tACT LIKE A MAN!  By Christ in\n",
    "\t\tHeaven, is it possible you turned\n",
    "\t\tout no better than a Hollywood\n",
    "\t\tfinocchio.\n",
    "\n",
    "\tBoth HAGEN and JOHNNY cannot refrain from laughing.  The DON\n",
    "\tsmiles.  SONNY enters as noiselessly as possible, still\n",
    "\tadjusting his clothes.\n",
    "\n",
    "\t\t\t\tDON CORLEONE\n",
    "\t\tAll right, Hollywood...Now tell me\n",
    "\t\tabout this Hollywood Pezzonovanta\n",
    "\t\twho won't let you work.\n",
    "\n",
    "\t\t\t\tJOHNNY\n",
    "\t\tHe owns the studio.  Just a month\n",
    "\t\tago he bought the movie rights to\n",
    "\t\tthis book, a best seller.  And the\n",
    "\t\tmain character is a guy just like\n",
    "\t\tme.  I wouldn't even have to act,\n",
    "\t\tjust be myself.\n",
    "\n",
    "\tThe DON is silent, stern.\n",
    "\n",
    "\t\t\t\tDON CORLEONE\n",
    "\t\tYou take care of your family?\n",
    "\n",
    "\t\t\t\tJOHNNY\n",
    "\t\tSure.\n",
    "\n",
    "\tHe glances at SONNY, who makes himself as inconspicuous as\n",
    "\the can.\n",
    "\n",
    "\t\t\t\tDON CORLEONE\n",
    "\t\tYou look terrible.  I want you to\n",
    "\t\teat well, to rest.  And spend time\n",
    "\t\twith your family.  And then, at the\n",
    "\t\tend of the month, this big shot\n",
    "\t\twill give you the part you want.\n",
    "\n",
    "\t\t\t\tJOHNNY\n",
    "\t\tIt's too late.  All the contracts\n",
    "\t\thave been signed, they're almost\n",
    "\t\tready to shoot.\n",
    "\n",
    "\t\t\t\tDON CORLEONE\n",
    "\t\tI'll make him an offer he can't\n",
    "\t\trefuse.\n",
    "\n",
    "\tHe takes JOHNNY to the door, pinching his cheek hard enough\n",
    "\tto hurt.\n",
    "\n",
    "\t\t\t\tDON CORLEONE\n",
    "\t\tNow go back to the party and leave\n",
    "\t\tit to me.\n",
    "\n",
    "\tHe closes the door, smiling to himself.  Turns to HAGEN.\n",
    "\n",
    "\t\t\t\tDON CORLEONE\n",
    "\t\tWhen does my daughter leave with\n",
    "\t\ther bridegroom?\n",
    "\n",
    "\t\t\t\tHAGEN\n",
    "\t\tThey'll cut the cake in a few\n",
    "\t\tminutes...leave right after that.\n",
    "\t\tYour new son-in-law, do we give him\n",
    "\t\tsomething important?\n",
    "\n",
    "\t\t\t\tDON CORLEONE\n",
    "\t\tNo, give him a living.  But never\n",
    "\t\tlet him know the family's business.\n",
    "\t\tWhat else, Tom?\n",
    "\n",
    "\t\t\t\tHAGEN\n",
    "\t\tI've called the hospital; they've\n",
    "\t\tnotified Consiglere Genco's family\n",
    "\t\tto come and wait.  He won't last\n",
    "\t\tout the night.\n",
    "\n",
    "\tThis saddens the DON.  He sighs.\n",
    "\n",
    "\t\t\t\tDON CORLEONE\n",
    "\t\tGenco will wait for me.  Santino,\n",
    "\t\ttell your brothers they will come\n",
    "\t\twith me to the hospital to see\n",
    "\t\tGenco.  Tell Fredo to drive the big\n",
    "\t\tcar, and ask Johnny to come with us.\n",
    "\n",
    "\t\t\t\tSONNY\n",
    "\t\tAnd Michael?\n",
    "\n",
    "\t\t\t\tDON CORLEONE\n",
    "\t\tAll my sons.\n",
    "\t\t\t  (to HAGEN)\n",
    "\t\tTom, I want you to go to California\n",
    "\t\ttonight.  Make the arrangements.\n",
    "\t\tBut don't leave until I come back\n",
    "\t\tfrom the hospital and speak to you.\n",
    "\t\tUnderstood?\n",
    "\n",
    "\t\t\t\tHAGEN\n",
    "\t\tUnderstood.\n",
    "\"\"\""
   ]
  },
  {
   "cell_type": "code",
   "execution_count": 8,
   "metadata": {},
   "outputs": [
    {
     "name": "stdout",
     "output_type": "stream",
     "text": [
      "[\n",
      "    {\n",
      "        \"scene_number\": 1,\n",
      "        \"shot_type\": \"Medium Shot\",\n",
      "        \"orientation\": \"Front View\",\n",
      "        \"characters\": [\n",
      "            {\n",
      "                \"name\": \"Don Vito Corleone\"\n",
      "            },\n",
      "            {\n",
      "                \"name\": \"Johnny Fontane\"\n",
      "            },\n",
      "            {\n",
      "                \"name\": \"Tom Hagen\"\n",
      "            }\n",
      "        ],\n",
      "        \"environment\": \"Don's office, daytime, summer 1945. Elegant wood-paneled room with large desk, leather chairs, warm lighting filtering through venetian blinds.\",\n",
      "        \"description\": \"Don Corleone stands imposingly behind desk, face stern with righteous anger, pointing finger at Johnny. Johnny appears embarrassed, head slightly bowed. Hagen stands to the right, barely containing laughter. Tension and amusement mix in intimate office atmosphere.\"\n",
      "    },\n",
      "    {\n",
      "        \"scene_number\": 2,\n",
      "        \"shot_type\": \"Two-Shot\",\n",
      "        \"orientation\": \"Profile View\",\n",
      "        \"characters\": [\n",
      "            {\n",
      "                \"name\": \"Don Vito Corleone\"\n",
      "            },\n",
      "            {\n",
      "                \"name\": \"Johnny Fontane\"\n",
      "            },\n",
      "            {\n",
      "                \"name\": \"Tom Hagen\"\n",
      "            },\n",
      "            {\n",
      "                \"name\": \"Sonny\"\n",
      "            }\n",
      "        ],\n",
      "        \"environment\": \"Don's office, daytime, summer 1945. Elegant wood-paneled room with large desk, leather chairs, warm lighting filtering through venetian blinds.\",\n",
      "        \"description\": \"Sonny quietly enters room from right, adjusting disheveled clothes. Don leans forward at desk, expression softening to business-like focus. Johnny stands center, straightening posture. Hagen observes from left corner. Atmosphere shifts from personal rebuke to business discussion.\"\n",
      "    },\n",
      "    {\n",
      "        \"scene_number\": 3,\n",
      "        \"shot_type\": \"Close-Up\",\n",
      "        \"orientation\": \"Front View\",\n",
      "        \"characters\": [\n",
      "            {\n",
      "                \"name\": \"Don Vito Corleone\"\n",
      "            }\n",
      "        ],\n",
      "        \"environment\": \"Don's office, daytime, summer 1945. Elegant wood-paneled room with large desk, leather chairs, warm lighting filtering through venetian blinds.\",\n",
      "        \"description\": \"Don Corleone's face fills frame, stern and contemplative. Eyes narrowed, jaw set firmly. Saying 'I'll make him an offer he can't refuse' with quiet, confident menace. Power and authority emanate from his expression.\"\n",
      "    },\n",
      "    {\n",
      "        \"scene_number\": 4,\n",
      "        \"shot_type\": \"Medium Close-Up\",\n",
      "        \"orientation\": \"Three-Quarters View\",\n",
      "        \"characters\": [\n",
      "            {\n",
      "                \"name\": \"Don Vito Corleone\"\n",
      "            },\n",
      "            {\n",
      "                \"name\": \"Johnny Fontane\"\n",
      "            }\n",
      "        ],\n",
      "        \"environment\": \"Don's office, daytime, summer 1945. Elegant wood-paneled room with large desk, leather chairs, warm lighting filtering through venetian blinds.\",\n",
      "        \"description\": \"Don Corleone escorts Johnny to door, pinching his cheek firmly. Don's expression shows affection mixed with dominance. Johnny winces slightly at pain while showing relief and gratitude. Door frame visible on right edge of shot.\"\n",
      "    },\n",
      "    {\n",
      "        \"scene_number\": 5,\n",
      "        \"shot_type\": \"Medium Shot\",\n",
      "        \"orientation\": \"Front View\",\n",
      "        \"characters\": [\n",
      "            {\n",
      "                \"name\": \"Don Vito Corleone\"\n",
      "            },\n",
      "            {\n",
      "                \"name\": \"Tom Hagen\"\n",
      "            }\n",
      "        ],\n",
      "        \"environment\": \"Don's office, daytime, summer 1945. Elegant wood-paneled room with large desk, leather chairs, warm lighting filtering through venetian blinds.\",\n",
      "        \"description\": \"Don Corleone turns from closed door, small smile fading to serious business expression. Hagen stands attentively near desk, notepad ready. Don moves toward chair, shoulders slightly hunched, gold ring catching light as he gestures.\"\n",
      "    },\n",
      "    {\n",
      "        \"scene_number\": 6,\n",
      "        \"shot_type\": \"Over-the-Shoulder Shot\",\n",
      "        \"orientation\": \"Profile View\",\n",
      "        \"characters\": [\n",
      "            {\n",
      "                \"name\": \"Don Vito Corleone\"\n",
      "            },\n",
      "            {\n",
      "                \"name\": \"Tom Hagen\"\n",
      "            },\n",
      "            {\n",
      "                \"name\": \"Sonny\"\n",
      "            }\n",
      "        ],\n",
      "        \"environment\": \"Don's office, daytime, summer 1945. Elegant wood-paneled room with large desk, leather chairs, warm lighting filtering through venetian blinds.\",\n",
      "        \"description\": \"Camera over Don's shoulder, facing Hagen and Sonny. Don's gray-black hair and dark suit visible in foreground. Hagen's face shows respectful attention. Sonny stands beside him, now composed. Don's voice carries weight as he issues final instructions about hospital visit.\"\n",
      "    },\n",
      "    {\n",
      "        \"scene_number\": 7,\n",
      "        \"shot_type\": \"Medium Shot\",\n",
      "        \"orientation\": \"Front View\",\n",
      "        \"characters\": [\n",
      "            {\n",
      "                \"name\": \"Don Vito Corleone\"\n",
      "            },\n",
      "            {\n",
      "                \"name\": \"Tom Hagen\"\n",
      "            }\n",
      "        ],\n",
      "        \"environment\": \"Don's office, daytime, summer 1945. Elegant wood-paneled room with large desk, leather chairs, warm lighting filtering through venetian blinds.\",\n",
      "        \"description\": \"Don Corleone stands behind desk, hands clasped together, looking gravely concerned. Hagen stands attentively near desk, a mixture of understanding and worry on his face.\"\n",
      "    },\n",
      "    {\n",
      "        \"scene_number\": 8,\n",
      "        \"shot_type\": \"Medium Close-Up\",\n",
      "        \"orientation\": \"Front View\",\n",
      "        \"characters\": [\n",
      "            {\n",
      "                \"name\": \"Don Vito Corleone\"\n",
      "            }\n",
      "        ],\n",
      "        \"environment\": \"Don's office, daytime, summer 1945. Elegant wood-paneled room with large desk, leather chairs, warm lighting filtering through venetian blinds.\",\n",
      "        \"description\": \"Don Corleone's face fills frame, a look of deep concern and sadness. Fingers steepled together, eyes cast downward. He utters words of resolve and final instructions.\"\n",
      "    },\n",
      "    {\n",
      "        \"scene_number\": 9,\n",
      "        \"shot_type\": \"Medium Shot\",\n",
      "        \"orientation\": \"Front View\",\n",
      "        \"characters\": [\n",
      "            {\n",
      "                \"name\": \"Don Vito Corleone\"\n",
      "            },\n",
      "            {\n",
      "                \"name\": \"Tom Hagen\"\n",
      "            },\n",
      "            {\n",
      "                \"name\": \"Sonny\"\n",
      "            }\n",
      "        ],\n",
      "        \"environment\": \"Don's office, daytime, summer 1945. Elegant wood-paneled room with large desk, leather chairs, warm lighting filtering through venetian blinds.\",\n",
      "        \"description\": \"Don Corleone gestures to Hagen and Sonny as he concludes his instructions. Hagen nods, taking a notepad and pen from his pocket. Sonny looks thoughtful, still processing the orders.\"\n",
      "    },\n",
      "    {\n",
      "        \"scene_number\": 10,\n",
      "        \"shot_type\": \"Over-the-Shoulder Shot\",\n",
      "        \"orientation\": \"Profile View\",\n",
      "        \"characters\": [\n",
      "            {\n",
      "                \"name\": \"Don Vito Corleone\"\n",
      "            },\n",
      "            {\n",
      "                \"name\": \"Tom Hagen\"\n",
      "            }\n",
      "        ],\n",
      "        \"environment\": \"Don's office, daytime, summer 1945. Elegant wood-paneled room with large desk, leather chairs, warm lighting filtering through venetian blinds.\",\n",
      "        \"description\": \"Camera over Don's shoulder, facing Hagen. Don's gray-black hair and dark suit visible in foreground. Hagen looks concerned, eyes cast downward as he listens intently to Don's final orders.\"\n",
      "    },\n",
      "    {\n",
      "        \"scene_number\": 11,\n",
      "        \"shot_type\": \"Medium Shot\",\n",
      "        \"orientation\": \"Front View\",\n",
      "        \"characters\": [\n",
      "            {\n",
      "                \"name\": \"Don Vito Corleone\"\n",
      "            },\n",
      "            {\n",
      "                \"name\": \"Tom Hagen\"\n",
      "            }\n",
      "        ],\n",
      "        \"environment\": \"Don's office, daytime, summer 1945. Elegant wood-paneled room with large desk, leather chairs, warm lighting filtering through venetian blinds.\",\n",
      "        \"description\": \"Don Corleone stands behind desk, looking at Hagen with a serious expression. Hagen stands attentively near desk, a mixture of understanding and worry on his face.\"\n",
      "    },\n",
      "    {\n",
      "        \"scene_number\": 12,\n",
      "        \"shot_type\": \"Over-the-Shoulder Shot\",\n",
      "        \"orientation\": \"Three-Quarters View\",\n",
      "        \"characters\": [\n",
      "            {\n",
      "                \"name\": \"Don Vito Corleone\"\n",
      "            },\n",
      "            {\n",
      "                \"name\": \"Tom Hagen\"\n",
      "            }\n",
      "        ],\n",
      "        \"environment\": \"Don's office, daytime, summer 1945. Elegant wood-paneled room with large desk, leather chairs, warm lighting filtering through venetian blinds.\",\n",
      "        \"description\": \"Camera over Don's shoulder, facing Hagen. Don's gray-black hair and dark suit visible in foreground. Hagen looks at Don with a serious expression, notepad and pen in hand.\"\n",
      "    }\n",
      "]\n"
     ]
    }
   ],
   "source": [
    "scenes = input_to_json(script, characters_dict)\n",
    "print(json.dumps(scenes, indent=4))"
   ]
  },
  {
   "cell_type": "code",
   "execution_count": 9,
   "metadata": {},
   "outputs": [
    {
     "data": {
      "text/plain": [
       "{'scene_number': 1,\n",
       " 'shot_type': 'Medium Shot',\n",
       " 'orientation': 'Front View',\n",
       " 'characters': [{'name': 'Don Vito Corleone'},\n",
       "  {'name': 'Johnny Fontane'},\n",
       "  {'name': 'Tom Hagen'}],\n",
       " 'environment': \"Don's office, daytime, summer 1945. Elegant wood-paneled room with large desk, leather chairs, warm lighting filtering through venetian blinds.\",\n",
       " 'description': 'Don Corleone stands imposingly behind desk, face stern with righteous anger, pointing finger at Johnny. Johnny appears embarrassed, head slightly bowed. Hagen stands to the right, barely containing laughter. Tension and amusement mix in intimate office atmosphere.'}"
      ]
     },
     "execution_count": 9,
     "metadata": {},
     "output_type": "execute_result"
    }
   ],
   "source": [
    "scene = scenes[0]\n",
    "scene"
   ]
  },
  {
   "cell_type": "code",
   "execution_count": 10,
   "metadata": {},
   "outputs": [],
   "source": [
    "def _scene_to_prompts(scene, characters_dict, style=\"storyboard\"):\n",
    "    \"\"\"\n",
    "    Converts a scene into structured sub-prompts, where each character gets their own entry (character1, character2, etc.).\n",
    "    \"\"\"\n",
    "    \n",
    "    if style == \"storyboard\":\n",
    "        style = \"rough b&w pencil sketch, simple sketch lines, minimal shading, rough hatching, draft-style, J.C. Leyendecker style\"\n",
    "    # TODO manga style\n",
    "\n",
    "    # subprompts = {\n",
    "    #     \"style\": style,\n",
    "    #     \"environment\": scene[\"environment\"],\n",
    "    #     \"shot\": f\"{scene['shot_type']}, {scene['orientation']}\",\n",
    "    #     \"description\": scene[\"description\"]\n",
    "    # }\n",
    "    \n",
    "    subprompts = {}\n",
    "\n",
    "    # Add each character as a separate sub-prompt\n",
    "    for i, char in enumerate(scene[\"characters\"]):\n",
    "        char_name = char[\"name\"]\n",
    "        char_desc = _build_character_description(characters_dict[char_name])\n",
    "        subprompts[f\"character{i+1}\"] = f\"{char_name}: {char_desc}\"\n",
    "        \n",
    "    subprompts[\"style\"] = style\n",
    "    subprompts[\"environment\"] = scene[\"environment\"]\n",
    "    subprompts[\"shot\"] = f\"{scene['shot_type']}, {scene['orientation']}\"\n",
    "    subprompts[\"description\"] = scene[\"description\"]\n",
    "\n",
    "    return subprompts"
   ]
  },
  {
   "cell_type": "code",
   "execution_count": 11,
   "metadata": {},
   "outputs": [
    {
     "data": {
      "text/plain": [
       "{'character1': 'Don Vito Corleone: Italian-American, early 60s, male, slicked-back gray-black hair, stocky, slightly hunched posture, wearing dark three-piece suit, with gold ring on right hand, pocket watch',\n",
       " 'character2': 'Johnny Fontane: late 30s, male, short, slicked-back black hair, clean shaven, slim and fit, wearing dark, stylish suit with an open collar, with gold ring, cigarette',\n",
       " 'character3': 'Tom Hagen: German-Irish, early 40s, male, short, neatly combed brown hair, clean-shaven, medium build, upright posture, wearing gray suit, dark tie',\n",
       " 'style': 'rough b&w pencil sketch, simple sketch lines, minimal shading, rough hatching, draft-style, J.C. Leyendecker style',\n",
       " 'environment': \"Don's office, daytime, summer 1945. Elegant wood-paneled room with large desk, leather chairs, warm lighting filtering through venetian blinds.\",\n",
       " 'shot': 'Medium Shot, Front View',\n",
       " 'description': 'Don Corleone stands imposingly behind desk, face stern with righteous anger, pointing finger at Johnny. Johnny appears embarrassed, head slightly bowed. Hagen stands to the right, barely containing laughter. Tension and amusement mix in intimate office atmosphere.'}"
      ]
     },
     "execution_count": 11,
     "metadata": {},
     "output_type": "execute_result"
    }
   ],
   "source": [
    "_scene_to_prompts(scene, characters_dict)"
   ]
  },
  {
   "cell_type": "code",
   "execution_count": 12,
   "metadata": {},
   "outputs": [],
   "source": [
    "def all_scenes_to_prompts(scenes, characters_dict, style=\"storyboard\"):\n",
    "    \"\"\"\n",
    "    Converts all scenes into structured diffusion model prompts.\n",
    "\n",
    "    Parameters:\n",
    "    - scenes (list): List of structured scenes.\n",
    "    - style (str): The desired artistic style.\n",
    "\n",
    "    Returns:\n",
    "    - list: List of formatted text prompts.\n",
    "    \"\"\"\n",
    "    \n",
    "    if style == \"storyboard\":\n",
    "        style = \"rough b&w pencil sketch, simple sketch lines, minimal shading, rough hatching, draft-style, J.C. Leyendecker style\"\n",
    "    \n",
    "    return [_scene_to_prompts(scene, characters_dict, style) for scene in scenes]"
   ]
  },
  {
   "cell_type": "code",
   "execution_count": 13,
   "metadata": {},
   "outputs": [
    {
     "data": {
      "text/plain": [
       "{'character1': 'Don Vito Corleone: Italian-American, early 60s, male, slicked-back gray-black hair, stocky, slightly hunched posture, wearing dark three-piece suit, with gold ring on right hand, pocket watch',\n",
       " 'character2': 'Johnny Fontane: late 30s, male, short, slicked-back black hair, clean shaven, slim and fit, wearing dark, stylish suit with an open collar, with gold ring, cigarette',\n",
       " 'character3': 'Tom Hagen: German-Irish, early 40s, male, short, neatly combed brown hair, clean-shaven, medium build, upright posture, wearing gray suit, dark tie',\n",
       " 'style': 'rough b&w pencil sketch, simple sketch lines, minimal shading, rough hatching, draft-style, J.C. Leyendecker style',\n",
       " 'environment': \"Don's office, daytime, summer 1945. Elegant wood-paneled room with large desk, leather chairs, warm lighting filtering through venetian blinds.\",\n",
       " 'shot': 'Medium Shot, Front View',\n",
       " 'description': 'Don Corleone stands imposingly behind desk, face stern with righteous anger, pointing finger at Johnny. Johnny appears embarrassed, head slightly bowed. Hagen stands to the right, barely containing laughter. Tension and amusement mix in intimate office atmosphere.'}"
      ]
     },
     "execution_count": 13,
     "metadata": {},
     "output_type": "execute_result"
    }
   ],
   "source": [
    "all_scenes_to_prompts(scenes, characters_dict)[0]"
   ]
  },
  {
   "cell_type": "code",
   "execution_count": 14,
   "metadata": {},
   "outputs": [],
   "source": [
    "def format_subprompts_for_diffusion(scene_prompts, prompt_weights = [2, 1.0, 1.2, 1.5, 0.9]):\n",
    "\n",
    "    # Define weighting rules (can be tuned)\n",
    "    weights = {\n",
    "        \"style\": prompt_weights[0],\n",
    "        \"environment\": prompt_weights[1],\n",
    "        \"shot\": prompt_weights[2],\n",
    "        \"description\": prompt_weights[3]\n",
    "    }\n",
    "\n",
    "    # Assign slightly higher weight to character details\n",
    "    character_weight = prompt_weights[4]\n",
    "\n",
    "    subprompt_texts = []\n",
    "    subprompt_weights = []\n",
    "\n",
    "    for key, text in scene_prompts.items():\n",
    "        # Give higher weight to characters\n",
    "        if key.startswith(\"character\"):\n",
    "            subprompt_texts.append(text)\n",
    "            subprompt_weights.append(character_weight)\n",
    "        else:\n",
    "            subprompt_texts.append(text)\n",
    "            subprompt_weights.append(weights.get(key, 1.0))  # Default weight is 1.0\n",
    "\n",
    "    return subprompt_texts, subprompt_weights"
   ]
  },
  {
   "cell_type": "code",
   "execution_count": 15,
   "metadata": {},
   "outputs": [
    {
     "data": {
      "text/plain": [
       "(['Don Vito Corleone: Italian-American, early 60s, male, slicked-back gray-black hair, stocky, slightly hunched posture, wearing dark three-piece suit, with gold ring on right hand, pocket watch',\n",
       "  'Johnny Fontane: late 30s, male, short, slicked-back black hair, clean shaven, slim and fit, wearing dark, stylish suit with an open collar, with gold ring, cigarette',\n",
       "  'Tom Hagen: German-Irish, early 40s, male, short, neatly combed brown hair, clean-shaven, medium build, upright posture, wearing gray suit, dark tie',\n",
       "  'rough b&w pencil sketch, simple sketch lines, minimal shading, rough hatching, draft-style, J.C. Leyendecker style',\n",
       "  \"Don's office, daytime, summer 1945. Elegant wood-paneled room with large desk, leather chairs, warm lighting filtering through venetian blinds.\",\n",
       "  'Medium Shot, Front View',\n",
       "  'Don Corleone stands imposingly behind desk, face stern with righteous anger, pointing finger at Johnny. Johnny appears embarrassed, head slightly bowed. Hagen stands to the right, barely containing laughter. Tension and amusement mix in intimate office atmosphere.'],\n",
       " [0.9, 0.9, 0.9, 2, 1.0, 1.2, 1.5])"
      ]
     },
     "execution_count": 15,
     "metadata": {},
     "output_type": "execute_result"
    }
   ],
   "source": [
    "format_subprompts_for_diffusion(all_scenes_to_prompts(scenes, characters_dict)[0])"
   ]
  },
  {
   "cell_type": "code",
   "execution_count": 16,
   "metadata": {},
   "outputs": [],
   "source": [
    "import torch\n",
    "from diffusers import StableDiffusionPipeline, UniPCMultistepScheduler"
   ]
  },
  {
   "cell_type": "code",
   "execution_count": 17,
   "metadata": {},
   "outputs": [],
   "source": [
    "def weighted_sum_prompt_embeddings(pipe, subprompt_texts, subprompt_weights, device, num_images_per_prompt=1):\n",
    "    \"\"\"\n",
    "    Computes a weighted sum of text embeddings for a list of subprompts.\n",
    "    \n",
    "    Args:\n",
    "        pipe: The Stable Diffusion pipeline instance.\n",
    "        subprompt_texts (List[str]): List of subprompt strings.\n",
    "        subprompt_weights (List[float]): Corresponding weights for each subprompt.\n",
    "        device (str): The device to run on (\"cuda\" or \"cpu\").\n",
    "        num_images_per_prompt (int): Number of images to generate per prompt.\n",
    "    \n",
    "    Returns:\n",
    "        torch.Tensor: Combined prompt embeddings of shape (batch_size * num_images_per_prompt, seq_len, embed_dim)\n",
    "    \"\"\"\n",
    "    encoded_prompts = []\n",
    "    for text in subprompt_texts:\n",
    "        # Tokenize the subprompt text\n",
    "        text_inputs = pipe.tokenizer(\n",
    "            text,\n",
    "            padding=\"max_length\",\n",
    "            max_length=pipe.tokenizer.model_max_length,\n",
    "            truncation=True,\n",
    "            return_tensors=\"pt\",\n",
    "        )\n",
    "        input_ids = text_inputs.input_ids.to(device)\n",
    "        attention_mask = text_inputs.attention_mask.to(device) if \"attention_mask\" in text_inputs else None\n",
    "\n",
    "        # Encode the subprompt into text embeddings\n",
    "        text_embeds = pipe.text_encoder(input_ids, attention_mask=attention_mask)[0]\n",
    "        encoded_prompts.append(text_embeds)\n",
    "    \n",
    "    # Compute the weighted sum of the embeddings\n",
    "    weighted_embedding = sum(weight * embeds for weight, embeds in zip(subprompt_weights, encoded_prompts))\n",
    "    weight_total = sum(subprompt_weights)\n",
    "    combined_embedding = weighted_embedding / weight_total  # Normalize if desired\n",
    "\n",
    "    # Duplicate embeddings for each image per prompt if necessary\n",
    "    batch_size, seq_len, embed_dim = combined_embedding.shape\n",
    "    combined_embedding = combined_embedding.repeat(1, num_images_per_prompt, 1)\n",
    "    combined_embedding = combined_embedding.view(batch_size * num_images_per_prompt, seq_len, embed_dim)\n",
    "    \n",
    "    return combined_embedding"
   ]
  },
  {
   "cell_type": "code",
   "execution_count": 18,
   "metadata": {},
   "outputs": [
    {
     "data": {
      "application/vnd.jupyter.widget-view+json": {
       "model_id": "632df365d71e4c338ed633a44cbc5e84",
       "version_major": 2,
       "version_minor": 0
      },
      "text/plain": [
       "Loading pipeline components...:   0%|          | 0/7 [00:00<?, ?it/s]"
      ]
     },
     "metadata": {},
     "output_type": "display_data"
    }
   ],
   "source": [
    "device = \"cuda\" if torch.cuda.is_available() else \"cpu\"\n",
    "pipe = StableDiffusionPipeline.from_pretrained(\"runwayml/stable-diffusion-v1-5\", torch_dtype=torch.float16)\n",
    "pipe = pipe.to(device)\n",
    "pipe.scheduler = UniPCMultistepScheduler.from_config(pipe.scheduler.config)\n",
    "pipe.enable_model_cpu_offload()\n",
    "pipe.enable_attention_slicing()"
   ]
  },
  {
   "cell_type": "code",
   "execution_count": 19,
   "metadata": {},
   "outputs": [],
   "source": [
    "# scene_prompts = _scene_to_prompts(scenes[1], characters_dict)\n",
    "# subprompt_texts, subprompt_weights = format_subprompts_for_diffusion(scene_prompts)\n",
    "# combined_embeddings = weighted_sum_prompt_embeddings(pipe, subprompt_texts, subprompt_weights, device)\n",
    "# with torch.no_grad():\n",
    "#     output = pipe(prompt_embeds=combined_embeddings,\n",
    "#                   negative_prompt=\"low quality, photorealistic, 3d render, overly detailed, digital art, painting, vibrant colors, fine art, NSFW\",\n",
    "#                   num_inference_steps=50)\n",
    "# generated_image = output.images[0]\n",
    "# generated_image.save(\"weighted_prompt_image1newnewnewnewnew.png\")"
   ]
  },
  {
   "cell_type": "code",
   "execution_count": 20,
   "metadata": {},
   "outputs": [],
   "source": [
    "import os\n",
    "import torch\n",
    "\n",
    "def generate_and_save_images(scenes, characters_dict, pipe, save_dir, device,\n",
    "                             negative_prompt=\"low quality, photorealistic, 3d render, overly detailed, digital art, painting, vibrant colors, fine art, NSFW\",\n",
    "                             num_inference_steps=50):\n",
    "    \"\"\"\n",
    "    Generate images for each scene using prompt embeddings from the provided pipeline\n",
    "    and save each image to the specified directory with a unique filename.\n",
    "\n",
    "    Args:\n",
    "        scenes (list): List of scene objects.\n",
    "        characters_dict (dict): Dictionary of character descriptions.\n",
    "        pipe: The Stable Diffusion pipeline instance.\n",
    "        save_dir (str): The directory where images will be saved.\n",
    "        device (str): The device to use (\"cuda\" or \"cpu\").\n",
    "        negative_prompt (str, optional): Negative prompt to steer generation.\n",
    "        num_inference_steps (int, optional): Number of inference steps for image generation.\n",
    "\n",
    "    Returns:\n",
    "        list: List of generated PIL.Image objects.\n",
    "    \"\"\"\n",
    "    os.makedirs(save_dir, exist_ok=True)\n",
    "    generated_images = []\n",
    "    for i, scene in enumerate(scenes):\n",
    "        scene_prompts = _scene_to_prompts(scene, characters_dict)\n",
    "        subprompt_texts, subprompt_weights = format_subprompts_for_diffusion(scene_prompts)\n",
    "        combined_embeddings = weighted_sum_prompt_embeddings(pipe, subprompt_texts, subprompt_weights, device)\n",
    "        \n",
    "        with torch.no_grad():\n",
    "            output = pipe(prompt_embeds=combined_embeddings,\n",
    "                          negative_prompt=negative_prompt,\n",
    "                          num_inference_steps=num_inference_steps)\n",
    "        generated_image = output.images[0]\n",
    "        generated_images.append(generated_image)\n",
    "        image_path = os.path.join(save_dir, f\"image_{i+1}.png\")\n",
    "        generated_image.save(image_path)\n",
    "        print(f\"Image {i+1} saved to {image_path}\")\n",
    "        \n",
    "    return generated_images"
   ]
  },
  {
   "cell_type": "code",
   "execution_count": null,
   "metadata": {},
   "outputs": [
    {
     "data": {
      "application/vnd.jupyter.widget-view+json": {
       "model_id": "a690c82fce4e4ff7b8ea8a786a737098",
       "version_major": 2,
       "version_minor": 0
      },
      "text/plain": [
       "  0%|          | 0/50 [00:00<?, ?it/s]"
      ]
     },
     "metadata": {},
     "output_type": "display_data"
    },
    {
     "name": "stdout",
     "output_type": "stream",
     "text": [
      "Image 1 saved to stories/prompt_weight\\image_1.png\n"
     ]
    },
    {
     "data": {
      "application/vnd.jupyter.widget-view+json": {
       "model_id": "6010f535d423437696171283c53871ff",
       "version_major": 2,
       "version_minor": 0
      },
      "text/plain": [
       "  0%|          | 0/50 [00:00<?, ?it/s]"
      ]
     },
     "metadata": {},
     "output_type": "display_data"
    },
    {
     "name": "stdout",
     "output_type": "stream",
     "text": [
      "Image 2 saved to stories/prompt_weight\\image_2.png\n"
     ]
    },
    {
     "data": {
      "application/vnd.jupyter.widget-view+json": {
       "model_id": "7d9b9a0d11b84daab540c3700608f647",
       "version_major": 2,
       "version_minor": 0
      },
      "text/plain": [
       "  0%|          | 0/50 [00:00<?, ?it/s]"
      ]
     },
     "metadata": {},
     "output_type": "display_data"
    },
    {
     "name": "stdout",
     "output_type": "stream",
     "text": [
      "Image 3 saved to stories/prompt_weight\\image_3.png\n"
     ]
    },
    {
     "data": {
      "application/vnd.jupyter.widget-view+json": {
       "model_id": "04f44cf4872a4d1290436a4f86a59033",
       "version_major": 2,
       "version_minor": 0
      },
      "text/plain": [
       "  0%|          | 0/50 [00:00<?, ?it/s]"
      ]
     },
     "metadata": {},
     "output_type": "display_data"
    },
    {
     "name": "stdout",
     "output_type": "stream",
     "text": [
      "Image 4 saved to stories/prompt_weight\\image_4.png\n"
     ]
    },
    {
     "data": {
      "application/vnd.jupyter.widget-view+json": {
       "model_id": "71d77d2a39ca49158d357597b434509d",
       "version_major": 2,
       "version_minor": 0
      },
      "text/plain": [
       "  0%|          | 0/50 [00:00<?, ?it/s]"
      ]
     },
     "metadata": {},
     "output_type": "display_data"
    },
    {
     "name": "stdout",
     "output_type": "stream",
     "text": [
      "Image 5 saved to stories/prompt_weight\\image_5.png\n"
     ]
    },
    {
     "data": {
      "application/vnd.jupyter.widget-view+json": {
       "model_id": "bc05bdcba455469793004635e13e1858",
       "version_major": 2,
       "version_minor": 0
      },
      "text/plain": [
       "  0%|          | 0/50 [00:00<?, ?it/s]"
      ]
     },
     "metadata": {},
     "output_type": "display_data"
    },
    {
     "name": "stdout",
     "output_type": "stream",
     "text": [
      "Image 6 saved to stories/prompt_weight\\image_6.png\n"
     ]
    },
    {
     "data": {
      "application/vnd.jupyter.widget-view+json": {
       "model_id": "9283472e416643c7852f453879e73541",
       "version_major": 2,
       "version_minor": 0
      },
      "text/plain": [
       "  0%|          | 0/50 [00:00<?, ?it/s]"
      ]
     },
     "metadata": {},
     "output_type": "display_data"
    },
    {
     "name": "stdout",
     "output_type": "stream",
     "text": [
      "Image 7 saved to stories/prompt_weight\\image_7.png\n"
     ]
    },
    {
     "data": {
      "application/vnd.jupyter.widget-view+json": {
       "model_id": "6733fe3029644c08a460d08170ae61b0",
       "version_major": 2,
       "version_minor": 0
      },
      "text/plain": [
       "  0%|          | 0/50 [00:00<?, ?it/s]"
      ]
     },
     "metadata": {},
     "output_type": "display_data"
    },
    {
     "name": "stdout",
     "output_type": "stream",
     "text": [
      "Image 8 saved to stories/prompt_weight\\image_8.png\n"
     ]
    },
    {
     "data": {
      "application/vnd.jupyter.widget-view+json": {
       "model_id": "a9a61a984b7547999739397fce16246f",
       "version_major": 2,
       "version_minor": 0
      },
      "text/plain": [
       "  0%|          | 0/50 [00:00<?, ?it/s]"
      ]
     },
     "metadata": {},
     "output_type": "display_data"
    }
   ],
   "source": [
    "save_directory = \"stories/prompt_weight\"\n",
    "generated_images = generate_and_save_images(scenes, characters_dict, pipe, save_directory, device)"
   ]
  },
  {
   "cell_type": "code",
   "execution_count": null,
   "metadata": {},
   "outputs": [],
   "source": []
  },
  {
   "cell_type": "code",
   "execution_count": null,
   "metadata": {},
   "outputs": [],
   "source": []
  },
  {
   "cell_type": "code",
   "execution_count": null,
   "metadata": {},
   "outputs": [],
   "source": []
  },
  {
   "cell_type": "code",
   "execution_count": null,
   "metadata": {},
   "outputs": [],
   "source": []
  },
  {
   "cell_type": "code",
   "execution_count": null,
   "metadata": {},
   "outputs": [],
   "source": []
  },
  {
   "cell_type": "markdown",
   "metadata": {},
   "source": [
    "# OLD"
   ]
  },
  {
   "cell_type": "code",
   "execution_count": null,
   "metadata": {},
   "outputs": [],
   "source": [
    "# class Scene(BaseModel):\n",
    "#     scene_number: int = Field(description=\"The sequential number of the scene\")\n",
    "#     description: str = Field(description=\"A single-moment scene optimized for diffusion model sketch prompting\")\n",
    "#     orientation: str = Field(description=\"Character orientation chosen from predefined list\")\n",
    "#     expression: str = Field(description=\"Character facial expressions with names, e.g., 'John is worried'\")\n",
    "#     setting: str = Field(description=\"Where is it happening? Time of day? Environmental details?\")\n",
    "#     shot_type: str = Field(description=\"Camera shot chosen from predefined list\")\n",
    "#     character_positions: str = Field(description=\"Where are the characters in the scene?\")\n",
    "\n",
    "# class SceneList(BaseModel):\n",
    "#     scenes: List[Scene]\n",
    "\n",
    "# class CharacterInScene(BaseModel):\n",
    "#     name: str\n",
    "#     description: str\n",
    "#     action: str\n",
    "#     expression: str\n",
    "\n",
    "# class Scene(BaseModel):\n",
    "#     scene_number: int\n",
    "#     description: str\n",
    "#     shot_type: str\n",
    "#     orientation: str\n",
    "#     characters: List[CharacterInScene]\n",
    "#     character_positions: str\n",
    "\n",
    "# class SceneList(BaseModel):\n",
    "#     scenes: List[Scene]\n",
    "\n",
    "# def build_character_description(char: Dict[str, str]) -> str:\n",
    "#     \"\"\"Generates a concise physical description from a character dictionary.\"\"\"\n",
    "#     features = [\n",
    "#         char.get(\"ethnicity\", \"\"),\n",
    "#         char.get(\"age\", \"\"),\n",
    "#         char.get(\"gender\", \"\"),\n",
    "#         char.get(\"hair\", \"\"),\n",
    "#         char.get(\"facial_hair\", \"\"),\n",
    "#         char.get(\"body_type\", \"\"),\n",
    "#         f\"wearing {char.get('clothing', '')}\",\n",
    "#         f\"with {char.get('accessories', '')}\" if char.get(\"accessories\") else \"\"\n",
    "#     ]\n",
    "#     return \", \".join(filter(None, features))"
   ]
  },
  {
   "cell_type": "code",
   "execution_count": null,
   "metadata": {},
   "outputs": [],
   "source": [
    "# def extract_scenes(story_text: str, characters: Dict[str, Dict], num_scenes=5, style=\"sketch storyboard\") -> List[Scene]:\n",
    "#     \"\"\"Extracts structured storyboard scenes optimized for diffusion model prompting.\"\"\"\n",
    "    \n",
    "#     # character_descriptions = {name: build_character_description(desc) for name, desc in characters.items()}\n",
    "\n",
    "#     messages = [\n",
    "#         {\"role\": \"system\", \"content\": \"You are an AI specialized in structured storyboard scene generation for diffusion models.\"},\n",
    "#         {\"role\": \"user\", \"content\": f'''\n",
    "# The following story needs to be split into {num_scenes} structured storyboard scenes.\n",
    "\n",
    "# ### **Story:**\n",
    "# \"{story_text}\"\n",
    "\n",
    "# ### **Character Descriptions:**\n",
    "# These characters appear in the storyboard with **consistent appearance**:\n",
    "# {json.dumps(character_descriptions, indent=2)}\n",
    "\n",
    "# ### **Scene Format & Requirements**\n",
    "# - Each scene represents a **single distinct moment** (no multiple actions).\n",
    "# - **Characters are placed in the scene** with relative positions: (foreground, background, left, right, etc.).\n",
    "# - **Shot Type & Orientation** must be defined.\n",
    "# - **Each character's description is referenced**, but avoid full repetition.\n",
    "# - Expressions & actions must be directly tied to the characters.\n",
    "\n",
    "# ### **Output Format (JSON)**\n",
    "# Each scene should include:\n",
    "# 1. `\"scene_number\"`: Sequential index.\n",
    "# 2. `\"description\"`: A single-moment, vivid summary.\n",
    "# 3. `\"shot_type\"`: Camera shot from {CAMERA_SHOTS}.\n",
    "# 4. `\"orientation\"`: Character orientation from {ORIENTATIONS}.\n",
    "# 5. `\"characters\"`: A list of objects, each with:\n",
    "#    - `\"name\"`: Character name\n",
    "#    - `\"description\"`: Shortened version from provided character descriptions\n",
    "#    - `\"action\"`: What the character is actively doing\n",
    "#    - `\"expression\"`: Emotional state\n",
    "# 6. `\"character_positions\"`: A sentence explaining where each character is in the frame.\n",
    "\n",
    "# Return **valid JSON** with `\"scenes\"` as a list.\n",
    "# '''}\n",
    "#     ]\n",
    "\n",
    "#     response = together.chat.completions.create(\n",
    "#         model=\"meta-llama/Meta-Llama-3.1-8B-Instruct-Turbo\",\n",
    "#         messages=messages,\n",
    "#         max_tokens=10000,\n",
    "#         temperature=0.7,\n",
    "#         response_format={\"type\": \"json_object\", \"schema\": SceneList.model_json_schema()}\n",
    "#     )\n",
    "\n",
    "#     try:\n",
    "#         output_json = response.choices[0].message.content\n",
    "#         return json.loads(output_json)[\"scenes\"]  # Extract only the scenes list\n",
    "#     except (json.JSONDecodeError, KeyError) as e:\n",
    "#         print(\"Error: Could not parse JSON output\", e)\n",
    "#         return []"
   ]
  },
  {
   "cell_type": "code",
   "execution_count": null,
   "metadata": {},
   "outputs": [],
   "source": [
    "# story_text = \"\"\"\n",
    "# Late in the evening, Don Vito Corleone sits quietly in his office, the dim glow of a single lamp illuminating\n",
    "# his desk. Tom Hagen enters with an urgent message about a family matter, his brow furrowed with concern.\n",
    "# They exchange a few words in hushed tones, aware of how each stray sound can echo in the silent corridors.\n",
    "\n",
    "# In the adjacent parlor, Johnny Fontane, fresh from a performance, sips whiskey while contemplating\n",
    "# his next move. His gaze shifts between the gilded clock on the wall and the doorway leading to Don Vito's office.\n",
    "# Outside, the autumn wind rustles through the garden, carrying with it the faint scent of oranges.\n",
    "\n",
    "# Don Vito stands to greet Johnny, inviting him to share what's on his mind. Tom Hagen steps aside, quietly\n",
    "# observing their exchange, ready to step in with legal advice if needed. The tension in the air is palpable\n",
    "# as old loyalties and new opportunities hang in the balance. \n",
    "# \"\"\"\n",
    "\n",
    "# characters = {\n",
    "#     \"Don Vito Corleone\": {\n",
    "#         \"age\": \"early 60s\", \"gender\": \"male\", \"hair\": \"slicked-back gray-black hair\",\n",
    "#         \"clothing\": \"dark three-piece suit\",\n",
    "#         \"body_type\": \"stocky, slightly hunched posture\",\n",
    "#         \"accessories\": \"gold ring on right hand, pocket watch\",\n",
    "#         \"ethnicity\": \"Italian-American\"\n",
    "#     },\n",
    "#     \"Tom Hagen\": {\n",
    "#         \"age\": \"early 40s\", \"gender\": \"male\", \"hair\": \"short, neatly combed brown hair\",\n",
    "#         \"facial_hair\": \"clean-shaven\", \"clothing\": \"gray suit, dark tie\",\n",
    "#         \"body_type\": \"medium build, upright posture\", \"ethnicity\": \"German-Irish\"\n",
    "#     },\n",
    "#     \"Johnny Fontane\": {\n",
    "#         \"age\": \"late 30s\", \"gender\": \"male\", \"hair\": \"short, slicked-back black hair\",\n",
    "#         \"facial_hair\": \"clean shaven\", \"clothing\": \"dark, stylish suit with an open collar\",\n",
    "#         \"body_type\": \"slim and fit\", \"accessories\": \"gold ring, cigarette\"\n",
    "#     }\n",
    "# }"
   ]
  },
  {
   "cell_type": "code",
   "execution_count": null,
   "metadata": {},
   "outputs": [
    {
     "name": "stdout",
     "output_type": "stream",
     "text": [
      "[\n",
      "    {\n",
      "        \"scene_number\": 1,\n",
      "        \"description\": \"Don Vito sits quietly in his office, awaiting a message.\",\n",
      "        \"shot_type\": \"Establishing Shot\",\n",
      "        \"orientation\": \"Front View\",\n",
      "        \"characters\": [\n",
      "            {\n",
      "                \"name\": \"Don Vito Corleone\",\n",
      "                \"description\": \"Italian-American, early 60s, male\",\n",
      "                \"action\": \"sitting\",\n",
      "                \"expression\": \"serious\"\n",
      "            },\n",
      "            {\n",
      "                \"name\": \"Tom Hagen\",\n",
      "                \"description\": \"German-Irish, early 40s, male\",\n",
      "                \"action\": \"entering\",\n",
      "                \"expression\": \"concerned\"\n",
      "            }\n",
      "        ],\n",
      "        \"character_positions\": \"Don Vito is in the foreground, and Tom Hagen is in the background.\"\n",
      "    },\n",
      "    {\n",
      "        \"scene_number\": 2,\n",
      "        \"description\": \"Johnny Fontane sips whiskey in the parlor, contemplating his next move.\",\n",
      "        \"shot_type\": \"Medium Close-Up\",\n",
      "        \"orientation\": \"Three-Quarters View\",\n",
      "        \"characters\": [\n",
      "            {\n",
      "                \"name\": \"Johnny Fontane\",\n",
      "                \"description\": \"late 30s, male\",\n",
      "                \"action\": \"sipping whiskey\",\n",
      "                \"expression\": \"contemplative\"\n",
      "            },\n",
      "            {\n",
      "                \"name\": \"Tom Hagen\",\n",
      "                \"description\": \"German-Irish, early 40s, male\",\n",
      "                \"action\": \"observing\",\n",
      "                \"expression\": \"neutral\"\n",
      "            }\n",
      "        ],\n",
      "        \"character_positions\": \"Johnny Fontane is in the foreground, with Tom Hagen in the background, observing from across the room.\"\n",
      "    },\n",
      "    {\n",
      "        \"scene_number\": 3,\n",
      "        \"description\": \"Don Vito stands to greet Johnny, inviting him to share his concerns.\",\n",
      "        \"shot_type\": \"Over-the-Shoulder Shot\",\n",
      "        \"orientation\": \"Front View\",\n",
      "        \"characters\": [\n",
      "            {\n",
      "                \"name\": \"Don Vito Corleone\",\n",
      "                \"description\": \"Italian-American, early 60s, male\",\n",
      "                \"action\": \"greeting\",\n",
      "                \"expression\": \"welcoming\"\n",
      "            },\n",
      "            {\n",
      "                \"name\": \"Johnny Fontane\",\n",
      "                \"description\": \"late 30s, male\",\n",
      "                \"action\": \"approaching\",\n",
      "                \"expression\": \"hopeful\"\n",
      "            }\n",
      "        ],\n",
      "        \"character_positions\": \"Don Vito is in the foreground, with Johnny Fontane behind him, looking over his shoulder.\"\n",
      "    },\n",
      "    {\n",
      "        \"scene_number\": 4,\n",
      "        \"description\": \"Tom Hagen observes the exchange between Don Vito and Johnny.\",\n",
      "        \"shot_type\": \"Medium Long Shot\",\n",
      "        \"orientation\": \"Front View\",\n",
      "        \"characters\": [\n",
      "            {\n",
      "                \"name\": \"Tom Hagen\",\n",
      "                \"description\": \"German-Irish, early 40s, male\",\n",
      "                \"action\": \"observing\",\n",
      "                \"expression\": \"neutral\"\n",
      "            }\n",
      "        ],\n",
      "        \"character_positions\": \"Tom Hagen is standing in the background, observing the exchange between Don Vito and Johnny.\"\n",
      "    },\n",
      "    {\n",
      "        \"scene_number\": 5,\n",
      "        \"description\": \"The tension between old loyalties and new opportunities hangs in the balance.\",\n",
      "        \"shot_type\": \"Establishing Shot\",\n",
      "        \"orientation\": \"Front View\",\n",
      "        \"characters\": [\n",
      "            {\n",
      "                \"name\": \"Don Vito Corleone\",\n",
      "                \"description\": \"Italian-American, early 60s, male\",\n",
      "                \"action\": \"standing\",\n",
      "                \"expression\": \"serious\"\n",
      "            },\n",
      "            {\n",
      "                \"name\": \"Johnny Fontane\",\n",
      "                \"description\": \"late 30s, male\",\n",
      "                \"action\": \"standing\",\n",
      "                \"expression\": \"hopeful\"\n",
      "            }\n",
      "        ],\n",
      "        \"character_positions\": \"Don Vito and Johnny are standing in the foreground, with Tom Hagen in the background, observing the scene.\"\n",
      "    }\n",
      "]\n"
     ]
    }
   ],
   "source": [
    "# scenes = extract_scenes(story_text, characters, num_scenes=5)\n",
    "# print(json.dumps(scenes, indent=4))"
   ]
  },
  {
   "cell_type": "code",
   "execution_count": null,
   "metadata": {},
   "outputs": [
    {
     "name": "stdout",
     "output_type": "stream",
     "text": [
      "rough storyboard sketch, simple sketch lines, minimal shading, rough hatching, draft-style. With Italian-American, early 60s, male, sitting, serious expression, and German-Irish, early 40s, male, entering, concerned expression,.Don Vito sits quietly in his office, awaiting a message.Establishing Shot, Front View. Positioning: Don Vito is in the foreground, and Tom Hagen is in the background.. \n"
     ]
    }
   ],
   "source": [
    "# def scene_to_prompt(scene, style=\"rough storyboard sketch\"):\n",
    "#     \"\"\"\n",
    "#     Converts a structured scene JSON into an optimized prompt for Stable Diffusion.\n",
    "\n",
    "#     Parameters:\n",
    "#     - scene (dict): A single scene's structured representation.\n",
    "#     - style (str): The desired artistic style (default is \"rough storyboard sketch\").\n",
    "\n",
    "#     Returns:\n",
    "#     - str: A structured text prompt optimized for image generation.\n",
    "#     \"\"\"\n",
    "\n",
    "#     # Extract core elements\n",
    "#     description = scene[\"description\"]\n",
    "#     shot_type = scene[\"shot_type\"]\n",
    "#     orientation = scene[\"orientation\"]\n",
    "#     character_positions = scene[\"character_positions\"]\n",
    "\n",
    "#     # Build character descriptions with actions & expressions\n",
    "#     character_details = []\n",
    "#     for char in scene[\"characters\"]:\n",
    "#         char_text = (\n",
    "#             f\"{char['description']}, {char['action']}, \"\n",
    "#             f\"{char['expression']} expression,\"\n",
    "#         )\n",
    "#         character_details.append(char_text)\n",
    "    \n",
    "#     character_text = \" and \".join(character_details)  # Separate multiple characters with \"|\"\n",
    "\n",
    "#     # Construct final structured prompt\n",
    "#     prompt = (\n",
    "#         f\"{style}. With {character_text}.\"\n",
    "#         f\"{description}\"\n",
    "#         f\"{shot_type}, {orientation}. \"\n",
    "#         f\"{character_positions}. \"\n",
    "#     )\n",
    "\n",
    "#     return prompt\n",
    "\n",
    "# def generate_all_prompts(scenes, style=\"rough storyboard sketch\"):\n",
    "#     \"\"\"\n",
    "#     Converts all scenes into structured diffusion model prompts.\n",
    "\n",
    "#     Parameters:\n",
    "#     - scenes (list): List of structured scenes.\n",
    "#     - style (str): The desired artistic style.\n",
    "\n",
    "#     Returns:\n",
    "#     - list: List of formatted text prompts.\n",
    "#     \"\"\"\n",
    "#     return [scene_to_prompt(scene, style) for scene in scenes]\n",
    "\n",
    "# print(scene_to_prompt(scenes[0]))"
   ]
  },
  {
   "cell_type": "code",
   "execution_count": null,
   "metadata": {},
   "outputs": [
    {
     "name": "stdout",
     "output_type": "stream",
     "text": [
      "Scene 1 Prompt:\n",
      "rough storyboard sketch, simple sketch lines, minimal shading, rough hatching, draft-style. With Italian-American, early 60s, male, sitting, serious expression, and German-Irish, early 40s, male, entering, concerned expression,.Don Vito sits quietly in his office, awaiting a message.Establishing Shot, Front View. Positioning: Don Vito is in the foreground, and Tom Hagen is in the background.. \n",
      "\n",
      "Scene 2 Prompt:\n",
      "rough storyboard sketch, simple sketch lines, minimal shading, rough hatching, draft-style. With late 30s, male, sipping whiskey, contemplative expression, and German-Irish, early 40s, male, observing, neutral expression,.Johnny Fontane sips whiskey in the parlor, contemplating his next move.Medium Close-Up, Three-Quarters View. Positioning: Johnny Fontane is in the foreground, with Tom Hagen in the background, observing from across the room.. \n",
      "\n",
      "Scene 3 Prompt:\n",
      "rough storyboard sketch, simple sketch lines, minimal shading, rough hatching, draft-style. With Italian-American, early 60s, male, greeting, welcoming expression, and late 30s, male, approaching, hopeful expression,.Don Vito stands to greet Johnny, inviting him to share his concerns.Over-the-Shoulder Shot, Front View. Positioning: Don Vito is in the foreground, with Johnny Fontane behind him, looking over his shoulder.. \n",
      "\n",
      "Scene 4 Prompt:\n",
      "rough storyboard sketch, simple sketch lines, minimal shading, rough hatching, draft-style. With German-Irish, early 40s, male, observing, neutral expression,.Tom Hagen observes the exchange between Don Vito and Johnny.Medium Long Shot, Front View. Positioning: Tom Hagen is standing in the background, observing the exchange between Don Vito and Johnny.. \n",
      "\n",
      "Scene 5 Prompt:\n",
      "rough storyboard sketch, simple sketch lines, minimal shading, rough hatching, draft-style. With Italian-American, early 60s, male, standing, serious expression, and late 30s, male, standing, hopeful expression,.The tension between old loyalties and new opportunities hangs in the balance.Establishing Shot, Front View. Positioning: Don Vito and Johnny are standing in the foreground, with Tom Hagen in the background, observing the scene.. \n",
      "\n"
     ]
    }
   ],
   "source": [
    "# # Convert all scenes and print\n",
    "# prompts = generate_all_prompts(scenes)\n",
    "# for i, prompt in enumerate(prompts):\n",
    "#     print(f\"Scene {i+1} Prompt:\\n{prompt}\\n\")"
   ]
  },
  {
   "cell_type": "markdown",
   "metadata": {},
   "source": [
    "# Prompt Weighting"
   ]
  },
  {
   "cell_type": "code",
   "execution_count": null,
   "metadata": {},
   "outputs": [
    {
     "data": {
      "application/vnd.jupyter.widget-view+json": {
       "model_id": "5af2e8c4876f46ad87e8f673ee62876f",
       "version_major": 2,
       "version_minor": 0
      },
      "text/plain": [
       "Loading pipeline components...:   0%|          | 0/7 [00:00<?, ?it/s]"
      ]
     },
     "metadata": {},
     "output_type": "display_data"
    },
    {
     "data": {
      "text/plain": [
       "StableDiffusionPipeline {\n",
       "  \"_class_name\": \"StableDiffusionPipeline\",\n",
       "  \"_diffusers_version\": \"0.32.1\",\n",
       "  \"_name_or_path\": \"CompVis/stable-diffusion-v1-4\",\n",
       "  \"feature_extractor\": [\n",
       "    \"transformers\",\n",
       "    \"CLIPImageProcessor\"\n",
       "  ],\n",
       "  \"image_encoder\": [\n",
       "    null,\n",
       "    null\n",
       "  ],\n",
       "  \"requires_safety_checker\": true,\n",
       "  \"safety_checker\": [\n",
       "    \"stable_diffusion\",\n",
       "    \"StableDiffusionSafetyChecker\"\n",
       "  ],\n",
       "  \"scheduler\": [\n",
       "    \"diffusers\",\n",
       "    \"PNDMScheduler\"\n",
       "  ],\n",
       "  \"text_encoder\": [\n",
       "    \"transformers\",\n",
       "    \"CLIPTextModel\"\n",
       "  ],\n",
       "  \"tokenizer\": [\n",
       "    \"transformers\",\n",
       "    \"CLIPTokenizer\"\n",
       "  ],\n",
       "  \"unet\": [\n",
       "    \"diffusers\",\n",
       "    \"UNet2DConditionModel\"\n",
       "  ],\n",
       "  \"vae\": [\n",
       "    \"diffusers\",\n",
       "    \"AutoencoderKL\"\n",
       "  ]\n",
       "}"
      ]
     },
     "execution_count": 11,
     "metadata": {},
     "output_type": "execute_result"
    }
   ],
   "source": [
    "# from diffusers import StableDiffusionPipeline\n",
    "# import torch\n",
    "\n",
    "# pipe = StableDiffusionPipeline.from_pretrained(\"CompVis/stable-diffusion-v1-4\", torch_dtype=torch.float16)\n",
    "# pipe.to(\"cuda\")\n",
    "# negative_prompt = \"low_quality, photorealistic, 3d render, overly detailed, digital art, painting, vibrant colors, fine art, NSFW\""
   ]
  },
  {
   "cell_type": "code",
   "execution_count": null,
   "metadata": {},
   "outputs": [
    {
     "name": "stderr",
     "output_type": "stream",
     "text": [
      "The following part of your input was truncated because CLIP can only handle sequences up to 77 tokens: ['view . positioning : johnny fontane is in the foreground , with tom hagen in the background , observing from across the room ..']\n"
     ]
    },
    {
     "data": {
      "application/vnd.jupyter.widget-view+json": {
       "model_id": "b7943c7b65004703b1211f244e794e0f",
       "version_major": 2,
       "version_minor": 0
      },
      "text/plain": [
       "  0%|          | 0/50 [00:00<?, ?it/s]"
      ]
     },
     "metadata": {},
     "output_type": "display_data"
    }
   ],
   "source": [
    "# image = pipe(prompts[1], negative_prompt=negative_prompt).images[0]\n",
    "# image.save(\"scene2_storyboard.png\")\n",
    "# generate_and_save_scene(scenes[1], pipe, negative_prompt, f\"{path}/scene2.png\")"
   ]
  },
  {
   "cell_type": "code",
   "execution_count": null,
   "metadata": {},
   "outputs": [
    {
     "name": "stderr",
     "output_type": "stream",
     "text": [
      "The following part of your input was truncated because CLIP can only handle sequences up to 77 tokens: [': don vito is in the foreground , with johnny fontane behind him , looking over his shoulder ..']\n"
     ]
    },
    {
     "data": {
      "application/vnd.jupyter.widget-view+json": {
       "model_id": "963e4c0cd75a465a826b300c530f0e76",
       "version_major": 2,
       "version_minor": 0
      },
      "text/plain": [
       "  0%|          | 0/50 [00:00<?, ?it/s]"
      ]
     },
     "metadata": {},
     "output_type": "display_data"
    }
   ],
   "source": [
    "# image = pipe(prompts[2], negative_prompt=negative_prompt).images[0]\n",
    "# image.save(\"scene3_storyboard.png\")\n",
    "# generate_and_save_scene(scenes[2], pipe, negative_prompt, f\"{path}/scene3.png\")"
   ]
  },
  {
   "cell_type": "code",
   "execution_count": null,
   "metadata": {},
   "outputs": [
    {
     "data": {
      "application/vnd.jupyter.widget-view+json": {
       "model_id": "a4cfeff2b8694d629235453fb9e644e6",
       "version_major": 2,
       "version_minor": 0
      },
      "text/plain": [
       "  0%|          | 0/50 [00:00<?, ?it/s]"
      ]
     },
     "metadata": {},
     "output_type": "display_data"
    }
   ],
   "source": [
    "# image = pipe(prompts[3], negative_prompt=negative_prompt).images[0]\n",
    "# image.save(\"scene4_storyboard.png\")\n",
    "# generate_and_save_scene(scenes[3], pipe, negative_prompt, f\"{path}/scene4.png\")"
   ]
  },
  {
   "cell_type": "code",
   "execution_count": null,
   "metadata": {},
   "outputs": [
    {
     "name": "stderr",
     "output_type": "stream",
     "text": [
      "The following part of your input was truncated because CLIP can only handle sequences up to 77 tokens: ['johnny are standing in the foreground , with tom hagen in the background , observing the scene ..']\n"
     ]
    },
    {
     "data": {
      "application/vnd.jupyter.widget-view+json": {
       "model_id": "d3afe290c00a4a468b6e51548cf8ab5b",
       "version_major": 2,
       "version_minor": 0
      },
      "text/plain": [
       "  0%|          | 0/50 [00:00<?, ?it/s]"
      ]
     },
     "metadata": {},
     "output_type": "display_data"
    }
   ],
   "source": [
    "# image = pipe(prompts[4], negative_prompt=negative_prompt).images[0]\n",
    "# image.save(\"scene5_storyboard.png\")\n",
    "# generate_and_save_scene(scenes[4], pipe, negative_prompt, f\"{path}/scene5.png\")"
   ]
  }
 ],
 "metadata": {
  "kernelspec": {
   "display_name": "mldl-ecole",
   "language": "python",
   "name": "python3"
  },
  "language_info": {
   "codemirror_mode": {
    "name": "ipython",
    "version": 3
   },
   "file_extension": ".py",
   "mimetype": "text/x-python",
   "name": "python",
   "nbconvert_exporter": "python",
   "pygments_lexer": "ipython3",
   "version": "3.11.10"
  }
 },
 "nbformat": 4,
 "nbformat_minor": 2
}
