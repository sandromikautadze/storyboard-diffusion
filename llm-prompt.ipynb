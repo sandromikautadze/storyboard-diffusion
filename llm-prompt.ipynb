{
 "cells": [
  {
   "cell_type": "code",
   "execution_count": 1,
   "metadata": {},
   "outputs": [],
   "source": [
    "from dotenv import load_dotenv\n",
    "import json\n",
    "from together import Together\n",
    "from pydantic import BaseModel, Field\n",
    "from typing import List, Dict"
   ]
  },
  {
   "cell_type": "code",
   "execution_count": 2,
   "metadata": {},
   "outputs": [],
   "source": [
    "load_dotenv()\n",
    "together = Together() # add .env file with TOGETHER_API_KEY variable"
   ]
  },
  {
   "cell_type": "code",
   "execution_count": 3,
   "metadata": {},
   "outputs": [],
   "source": [
    "ORIENTATIONS = [\n",
    "    \"Front View\", \"Profile View\", \"Back View\", \"From Behind\", \"From Above\",\n",
    "    \"From Below\", \"Three-Quarters View\", \"Long Shot\", \"Three-Quarters Rear View\"\n",
    "]\n",
    "\n",
    "# EXPRESSIONS = [\n",
    "#     \"afraid\", \"amused\", \"angry\", \"anxious\", \"ashamed\", \"bored\", \"confident\",\n",
    "#     \"confused\", \"contempt\", \"curious\", \"depressed\", \"determined\", \"disgusted\",\n",
    "#     \"ecstatic\", \"embarrassed\", \"enraged\", \"excited\", \"fear\", \"frightened\", \"frown\",\n",
    "#     \"frustrated\", \"guilty\", \"happy\", \"hopeful\", \"hurt\", \"indifferent\", \"jealous\",\n",
    "#     \"joyful\", \"miserable\", \"nervous\", \"neutral\", \"optimistic\", \"proud\", \"puzzled\",\n",
    "#     \"relieved\", \"sad\", \"scared\", \"shocked\", \"shy\", \"skeptical\", \"sleepy\", \"smile\",\n",
    "#     \"smug\", \"sorry\", \"stubborn\", \"surprised\", \"suspicious\", \"thoughtful\", \"tired\",\n",
    "#     \"withdrawn\", \"worried\"\n",
    "# ]\n",
    "\n",
    "CAMERA_SHOTS = [\n",
    "    \"Aerial View\", \"Bird’s-Eye View\", \"Close-Up\", \"Cowboy Shot\", \"Dolly Zoom\",\n",
    "    \"Dutch Angle\", \"Establishing Shot\", \"Extreme Close-Up\", \"Extreme Long Shot\",\n",
    "    \"Full Shot\", \"Long Shot\", \"Medium Close-Up\", \"Medium Long Shot\", \"Medium Shot\",\n",
    "    \"Over-the-Shoulder Shot\", \"Point-of-View Shot\", \"Two-Shot\", \"Fisheye Shot\",\n",
    "    \"Worm's Eye\", \"Low-Angle Shot\", \"Macro Shot\", \"Tilt-Shift Shot\", \"Telephoto Shot\"\n",
    "]"
   ]
  },
  {
   "cell_type": "code",
   "execution_count": 4,
   "metadata": {},
   "outputs": [],
   "source": [
    "# class Scene(BaseModel):\n",
    "#     scene_number: int = Field(description=\"The sequential number of the scene\")\n",
    "#     description: str = Field(description=\"A single-moment scene optimized for diffusion model sketch prompting\")\n",
    "#     orientation: str = Field(description=\"Character orientation chosen from predefined list\")\n",
    "#     expression: str = Field(description=\"Character facial expressions with names, e.g., 'John is worried'\")\n",
    "#     setting: str = Field(description=\"Where is it happening? Time of day? Environmental details?\")\n",
    "#     shot_type: str = Field(description=\"Camera shot chosen from predefined list\")\n",
    "#     character_positions: str = Field(description=\"Where are the characters in the scene?\")\n",
    "\n",
    "# class SceneList(BaseModel):\n",
    "#     scenes: List[Scene]\n",
    "\n",
    "class CharacterInScene(BaseModel):\n",
    "    name: str\n",
    "    description: str\n",
    "    action: str\n",
    "    expression: str\n",
    "\n",
    "class Scene(BaseModel):\n",
    "    scene_number: int\n",
    "    description: str\n",
    "    shot_type: str\n",
    "    orientation: str\n",
    "    characters: List[CharacterInScene]\n",
    "    character_positions: str\n",
    "\n",
    "class SceneList(BaseModel):\n",
    "    scenes: List[Scene]"
   ]
  },
  {
   "cell_type": "code",
   "execution_count": 5,
   "metadata": {},
   "outputs": [],
   "source": [
    "def build_character_description(char: Dict[str, str]) -> str:\n",
    "    \"\"\"Generates a concise physical description from a character dictionary.\"\"\"\n",
    "    features = [\n",
    "        char.get(\"ethnicity\", \"\"),\n",
    "        char.get(\"age\", \"\"),\n",
    "        char.get(\"gender\", \"\"),\n",
    "        char.get(\"hair\", \"\"),\n",
    "        char.get(\"facial_hair\", \"\"),\n",
    "        char.get(\"body_type\", \"\"),\n",
    "        f\"wearing {char.get('clothing', '')}\",\n",
    "        f\"with {char.get('accessories', '')}\" if char.get(\"accessories\") else \"\"\n",
    "    ]\n",
    "    return \", \".join(filter(None, features))"
   ]
  },
  {
   "cell_type": "code",
   "execution_count": null,
   "metadata": {},
   "outputs": [],
   "source": [
    "def extract_scenes(story_text: str, characters: Dict[str, Dict], num_scenes=5, style=\"sketch storyboard\") -> List[Scene]:\n",
    "    \"\"\"Extracts structured storyboard scenes optimized for diffusion model prompting.\"\"\"\n",
    "    \n",
    "    character_descriptions = {name: build_character_description(desc) for name, desc in characters.items()}\n",
    "\n",
    "    messages = [\n",
    "        {\"role\": \"system\", \"content\": \"You are an AI specialized in structured storyboard scene generation for diffusion models.\"},\n",
    "        {\"role\": \"user\", \"content\": f'''\n",
    "The following story needs to be split into {num_scenes} structured storyboard scenes.\n",
    "\n",
    "### **Story:**\n",
    "\"{story_text}\"\n",
    "\n",
    "### **Character Descriptions:**\n",
    "These characters appear in the storyboard with **consistent appearance**:\n",
    "{json.dumps(character_descriptions, indent=2)}\n",
    "\n",
    "### **Scene Format & Requirements**\n",
    "- Each scene represents a **single distinct moment** (no multiple actions).\n",
    "- **Characters are placed in the scene** with relative positions: (foreground, background, left, right, etc.).\n",
    "- **Shot Type & Orientation** must be defined.\n",
    "- **Each character's description is referenced**, but avoid full repetition.\n",
    "- Expressions & actions must be directly tied to the characters.\n",
    "\n",
    "### **Output Format (JSON)**\n",
    "Each scene should include:\n",
    "1. `\"scene_number\"`: Sequential index.\n",
    "2. `\"description\"`: A single-moment, vivid summary.\n",
    "3. `\"shot_type\"`: Camera shot from {CAMERA_SHOTS}.\n",
    "4. `\"orientation\"`: Character orientation from {ORIENTATIONS}.\n",
    "5. `\"characters\"`: A list of objects, each with:\n",
    "   - `\"name\"`: Character name\n",
    "   - `\"description\"`: Shortened version from provided character descriptions\n",
    "   - `\"action\"`: What the character is actively doing\n",
    "   - `\"expression\"`: Emotional state\n",
    "6. `\"character_positions\"`: A sentence explaining where each character is in the frame.\n",
    "\n",
    "Return **valid JSON** with `\"scenes\"` as a list.\n",
    "'''}\n",
    "    ]\n",
    "\n",
    "    response = together.chat.completions.create(\n",
    "        model=\"meta-llama/Meta-Llama-3.1-8B-Instruct-Turbo\",\n",
    "        messages=messages,\n",
    "        max_tokens=10000,\n",
    "        temperature=0.7,\n",
    "        response_format={\"type\": \"json_object\", \"schema\": SceneList.model_json_schema()}\n",
    "    )\n",
    "\n",
    "    try:\n",
    "        output_json = response.choices[0].message.content\n",
    "        return json.loads(output_json)[\"scenes\"]  # Extract only the scenes list\n",
    "    except (json.JSONDecodeError, KeyError) as e:\n",
    "        print(\"Error: Could not parse JSON output\", e)\n",
    "        return []"
   ]
  },
  {
   "cell_type": "code",
   "execution_count": 19,
   "metadata": {},
   "outputs": [],
   "source": [
    "story_text = \"\"\"\n",
    "Late in the evening, Don Vito Corleone sits quietly in his office, the dim glow of a single lamp illuminating\n",
    "his desk. Tom Hagen enters with an urgent message about a family matter, his brow furrowed with concern.\n",
    "They exchange a few words in hushed tones, aware of how each stray sound can echo in the silent corridors.\n",
    "\n",
    "In the adjacent parlor, Johnny Fontane, fresh from a performance, sips whiskey while contemplating\n",
    "his next move. His gaze shifts between the gilded clock on the wall and the doorway leading to Don Vito's office.\n",
    "Outside, the autumn wind rustles through the garden, carrying with it the faint scent of oranges.\n",
    "\n",
    "Don Vito stands to greet Johnny, inviting him to share what's on his mind. Tom Hagen steps aside, quietly\n",
    "observing their exchange, ready to step in with legal advice if needed. The tension in the air is palpable\n",
    "as old loyalties and new opportunities hang in the balance. \n",
    "\"\"\"\n",
    "\n",
    "characters = {\n",
    "    \"Don Vito Corleone\": {\n",
    "        \"age\": \"early 60s\", \"gender\": \"male\", \"hair\": \"slicked-back gray-black hair\",\n",
    "        \"clothing\": \"dark three-piece suit\",\n",
    "        \"body_type\": \"stocky, slightly hunched posture\",\n",
    "        \"accessories\": \"gold ring on right hand, pocket watch\",\n",
    "        \"ethnicity\": \"Italian-American\"\n",
    "    },\n",
    "    \"Tom Hagen\": {\n",
    "        \"age\": \"early 40s\", \"gender\": \"male\", \"hair\": \"short, neatly combed brown hair\",\n",
    "        \"facial_hair\": \"clean-shaven\", \"clothing\": \"gray suit, dark tie\",\n",
    "        \"body_type\": \"medium build, upright posture\", \"ethnicity\": \"German-Irish\"\n",
    "    },\n",
    "    \"Johnny Fontane\": {\n",
    "        \"age\": \"late 30s\", \"gender\": \"male\", \"hair\": \"short, slicked-back black hair\",\n",
    "        \"facial_hair\": \"clean shaven\", \"clothing\": \"dark, stylish suit with an open collar\",\n",
    "        \"body_type\": \"slim and fit\", \"accessories\": \"gold ring, cigarette\"\n",
    "    }\n",
    "}"
   ]
  },
  {
   "cell_type": "code",
   "execution_count": 20,
   "metadata": {},
   "outputs": [
    {
     "name": "stdout",
     "output_type": "stream",
     "text": [
      "[\n",
      "    {\n",
      "        \"scene_number\": 1,\n",
      "        \"description\": \"Don Vito sits quietly in his office, awaiting a message.\",\n",
      "        \"shot_type\": \"Establishing Shot\",\n",
      "        \"orientation\": \"Front View\",\n",
      "        \"characters\": [\n",
      "            {\n",
      "                \"name\": \"Don Vito Corleone\",\n",
      "                \"description\": \"Italian-American, early 60s, male\",\n",
      "                \"action\": \"sitting\",\n",
      "                \"expression\": \"serious\"\n",
      "            },\n",
      "            {\n",
      "                \"name\": \"Tom Hagen\",\n",
      "                \"description\": \"German-Irish, early 40s, male\",\n",
      "                \"action\": \"entering\",\n",
      "                \"expression\": \"concerned\"\n",
      "            }\n",
      "        ],\n",
      "        \"character_positions\": \"Don Vito is in the foreground, and Tom Hagen is in the background.\"\n",
      "    },\n",
      "    {\n",
      "        \"scene_number\": 2,\n",
      "        \"description\": \"Johnny Fontane sips whiskey in the parlor, contemplating his next move.\",\n",
      "        \"shot_type\": \"Medium Close-Up\",\n",
      "        \"orientation\": \"Three-Quarters View\",\n",
      "        \"characters\": [\n",
      "            {\n",
      "                \"name\": \"Johnny Fontane\",\n",
      "                \"description\": \"late 30s, male\",\n",
      "                \"action\": \"sipping whiskey\",\n",
      "                \"expression\": \"contemplative\"\n",
      "            },\n",
      "            {\n",
      "                \"name\": \"Tom Hagen\",\n",
      "                \"description\": \"German-Irish, early 40s, male\",\n",
      "                \"action\": \"observing\",\n",
      "                \"expression\": \"neutral\"\n",
      "            }\n",
      "        ],\n",
      "        \"character_positions\": \"Johnny Fontane is in the foreground, with Tom Hagen in the background, observing from across the room.\"\n",
      "    },\n",
      "    {\n",
      "        \"scene_number\": 3,\n",
      "        \"description\": \"Don Vito stands to greet Johnny, inviting him to share his concerns.\",\n",
      "        \"shot_type\": \"Over-the-Shoulder Shot\",\n",
      "        \"orientation\": \"Front View\",\n",
      "        \"characters\": [\n",
      "            {\n",
      "                \"name\": \"Don Vito Corleone\",\n",
      "                \"description\": \"Italian-American, early 60s, male\",\n",
      "                \"action\": \"greeting\",\n",
      "                \"expression\": \"welcoming\"\n",
      "            },\n",
      "            {\n",
      "                \"name\": \"Johnny Fontane\",\n",
      "                \"description\": \"late 30s, male\",\n",
      "                \"action\": \"approaching\",\n",
      "                \"expression\": \"hopeful\"\n",
      "            }\n",
      "        ],\n",
      "        \"character_positions\": \"Don Vito is in the foreground, with Johnny Fontane behind him, looking over his shoulder.\"\n",
      "    },\n",
      "    {\n",
      "        \"scene_number\": 4,\n",
      "        \"description\": \"Tom Hagen observes the exchange between Don Vito and Johnny.\",\n",
      "        \"shot_type\": \"Medium Long Shot\",\n",
      "        \"orientation\": \"Front View\",\n",
      "        \"characters\": [\n",
      "            {\n",
      "                \"name\": \"Tom Hagen\",\n",
      "                \"description\": \"German-Irish, early 40s, male\",\n",
      "                \"action\": \"observing\",\n",
      "                \"expression\": \"neutral\"\n",
      "            }\n",
      "        ],\n",
      "        \"character_positions\": \"Tom Hagen is standing in the background, observing the exchange between Don Vito and Johnny.\"\n",
      "    },\n",
      "    {\n",
      "        \"scene_number\": 5,\n",
      "        \"description\": \"The tension between old loyalties and new opportunities hangs in the balance.\",\n",
      "        \"shot_type\": \"Establishing Shot\",\n",
      "        \"orientation\": \"Front View\",\n",
      "        \"characters\": [\n",
      "            {\n",
      "                \"name\": \"Don Vito Corleone\",\n",
      "                \"description\": \"Italian-American, early 60s, male\",\n",
      "                \"action\": \"standing\",\n",
      "                \"expression\": \"serious\"\n",
      "            },\n",
      "            {\n",
      "                \"name\": \"Johnny Fontane\",\n",
      "                \"description\": \"late 30s, male\",\n",
      "                \"action\": \"standing\",\n",
      "                \"expression\": \"hopeful\"\n",
      "            }\n",
      "        ],\n",
      "        \"character_positions\": \"Don Vito and Johnny are standing in the foreground, with Tom Hagen in the background, observing the scene.\"\n",
      "    }\n",
      "]\n"
     ]
    }
   ],
   "source": [
    "scenes = extract_scenes(story_text, characters, num_scenes=5)\n",
    "print(json.dumps(scenes, indent=4))"
   ]
  },
  {
   "cell_type": "code",
   "execution_count": null,
   "metadata": {},
   "outputs": [
    {
     "name": "stdout",
     "output_type": "stream",
     "text": [
      "rough storyboard sketch, simple sketch lines, minimal shading, rough hatching, draft-style. With Italian-American, early 60s, male, sitting, serious expression, and German-Irish, early 40s, male, entering, concerned expression,.Don Vito sits quietly in his office, awaiting a message.Establishing Shot, Front View. Positioning: Don Vito is in the foreground, and Tom Hagen is in the background.. \n"
     ]
    }
   ],
   "source": [
    "def scene_to_prompt(scene, style=\"rough storyboard sketch\"):\n",
    "    \"\"\"\n",
    "    Converts a structured scene JSON into an optimized prompt for Stable Diffusion.\n",
    "\n",
    "    Parameters:\n",
    "    - scene (dict): A single scene's structured representation.\n",
    "    - style (str): The desired artistic style (default is \"rough storyboard sketch\").\n",
    "\n",
    "    Returns:\n",
    "    - str: A structured text prompt optimized for image generation.\n",
    "    \"\"\"\n",
    "\n",
    "    # Extract core elements\n",
    "    description = scene[\"description\"]\n",
    "    shot_type = scene[\"shot_type\"]\n",
    "    orientation = scene[\"orientation\"]\n",
    "    character_positions = scene[\"character_positions\"]\n",
    "\n",
    "    # Build character descriptions with actions & expressions\n",
    "    character_details = []\n",
    "    for char in scene[\"characters\"]:\n",
    "        char_text = (\n",
    "            f\"{char['description']}, {char['action']}, \"\n",
    "            f\"{char['expression']} expression,\"\n",
    "        )\n",
    "        character_details.append(char_text)\n",
    "    \n",
    "    character_text = \" and \".join(character_details)  # Separate multiple characters with \"|\"\n",
    "\n",
    "    # Construct final structured prompt\n",
    "    prompt = (\n",
    "        f\"{style}. With {character_text}.\"\n",
    "        f\"{description}\"\n",
    "        f\"{shot_type}, {orientation}. \"\n",
    "        f\"{character_positions}. \"\n",
    "    )\n",
    "\n",
    "    return prompt\n",
    "\n",
    "def generate_all_prompts(scenes, style=\"rough storyboard sketch\"):\n",
    "    \"\"\"\n",
    "    Converts all scenes into structured diffusion model prompts.\n",
    "\n",
    "    Parameters:\n",
    "    - scenes (list): List of structured scenes.\n",
    "    - style (str): The desired artistic style.\n",
    "\n",
    "    Returns:\n",
    "    - list: List of formatted text prompts.\n",
    "    \"\"\"\n",
    "    return [scene_to_prompt(scene, style) for scene in scenes]\n",
    "\n",
    "print(scene_to_prompt(scenes[0]))"
   ]
  },
  {
   "cell_type": "code",
   "execution_count": 22,
   "metadata": {},
   "outputs": [
    {
     "name": "stdout",
     "output_type": "stream",
     "text": [
      "Scene 1 Prompt:\n",
      "rough storyboard sketch, simple sketch lines, minimal shading, rough hatching, draft-style. With Italian-American, early 60s, male, sitting, serious expression, and German-Irish, early 40s, male, entering, concerned expression,.Don Vito sits quietly in his office, awaiting a message.Establishing Shot, Front View. Positioning: Don Vito is in the foreground, and Tom Hagen is in the background.. \n",
      "\n",
      "Scene 2 Prompt:\n",
      "rough storyboard sketch, simple sketch lines, minimal shading, rough hatching, draft-style. With late 30s, male, sipping whiskey, contemplative expression, and German-Irish, early 40s, male, observing, neutral expression,.Johnny Fontane sips whiskey in the parlor, contemplating his next move.Medium Close-Up, Three-Quarters View. Positioning: Johnny Fontane is in the foreground, with Tom Hagen in the background, observing from across the room.. \n",
      "\n",
      "Scene 3 Prompt:\n",
      "rough storyboard sketch, simple sketch lines, minimal shading, rough hatching, draft-style. With Italian-American, early 60s, male, greeting, welcoming expression, and late 30s, male, approaching, hopeful expression,.Don Vito stands to greet Johnny, inviting him to share his concerns.Over-the-Shoulder Shot, Front View. Positioning: Don Vito is in the foreground, with Johnny Fontane behind him, looking over his shoulder.. \n",
      "\n",
      "Scene 4 Prompt:\n",
      "rough storyboard sketch, simple sketch lines, minimal shading, rough hatching, draft-style. With German-Irish, early 40s, male, observing, neutral expression,.Tom Hagen observes the exchange between Don Vito and Johnny.Medium Long Shot, Front View. Positioning: Tom Hagen is standing in the background, observing the exchange between Don Vito and Johnny.. \n",
      "\n",
      "Scene 5 Prompt:\n",
      "rough storyboard sketch, simple sketch lines, minimal shading, rough hatching, draft-style. With Italian-American, early 60s, male, standing, serious expression, and late 30s, male, standing, hopeful expression,.The tension between old loyalties and new opportunities hangs in the balance.Establishing Shot, Front View. Positioning: Don Vito and Johnny are standing in the foreground, with Tom Hagen in the background, observing the scene.. \n",
      "\n"
     ]
    }
   ],
   "source": [
    "# Convert all scenes and print\n",
    "prompts = generate_all_prompts(scenes)\n",
    "for i, prompt in enumerate(prompts):\n",
    "    print(f\"Scene {i+1} Prompt:\\n{prompt}\\n\")"
   ]
  },
  {
   "cell_type": "code",
   "execution_count": 11,
   "metadata": {},
   "outputs": [
    {
     "data": {
      "application/vnd.jupyter.widget-view+json": {
       "model_id": "5af2e8c4876f46ad87e8f673ee62876f",
       "version_major": 2,
       "version_minor": 0
      },
      "text/plain": [
       "Loading pipeline components...:   0%|          | 0/7 [00:00<?, ?it/s]"
      ]
     },
     "metadata": {},
     "output_type": "display_data"
    },
    {
     "data": {
      "text/plain": [
       "StableDiffusionPipeline {\n",
       "  \"_class_name\": \"StableDiffusionPipeline\",\n",
       "  \"_diffusers_version\": \"0.32.1\",\n",
       "  \"_name_or_path\": \"CompVis/stable-diffusion-v1-4\",\n",
       "  \"feature_extractor\": [\n",
       "    \"transformers\",\n",
       "    \"CLIPImageProcessor\"\n",
       "  ],\n",
       "  \"image_encoder\": [\n",
       "    null,\n",
       "    null\n",
       "  ],\n",
       "  \"requires_safety_checker\": true,\n",
       "  \"safety_checker\": [\n",
       "    \"stable_diffusion\",\n",
       "    \"StableDiffusionSafetyChecker\"\n",
       "  ],\n",
       "  \"scheduler\": [\n",
       "    \"diffusers\",\n",
       "    \"PNDMScheduler\"\n",
       "  ],\n",
       "  \"text_encoder\": [\n",
       "    \"transformers\",\n",
       "    \"CLIPTextModel\"\n",
       "  ],\n",
       "  \"tokenizer\": [\n",
       "    \"transformers\",\n",
       "    \"CLIPTokenizer\"\n",
       "  ],\n",
       "  \"unet\": [\n",
       "    \"diffusers\",\n",
       "    \"UNet2DConditionModel\"\n",
       "  ],\n",
       "  \"vae\": [\n",
       "    \"diffusers\",\n",
       "    \"AutoencoderKL\"\n",
       "  ]\n",
       "}"
      ]
     },
     "execution_count": 11,
     "metadata": {},
     "output_type": "execute_result"
    }
   ],
   "source": [
    "from diffusers import StableDiffusionPipeline\n",
    "# from diffusers import DiffusionPipeline\n",
    "import torch\n",
    "\n",
    "# Load Stable Diffusion model\n",
    "pipe = StableDiffusionPipeline.from_pretrained(\"CompVis/stable-diffusion-v1-4\", torch_dtype=torch.float16)\n",
    "# pipe = StableDiffusionPipeline.from_pretrained(\"stabilityai/stable-diffusion-2-1\", torch_dtype=torch.float16)\n",
    "# pipe = DiffusionPipeline.from_pretrained(\"DeepFloyd/IF-I-XL-v1.0\", torch_dtype=torch.float16)\n",
    "pipe.to(\"cuda\")  # Move to GPU if available"
   ]
  },
  {
   "cell_type": "code",
   "execution_count": 12,
   "metadata": {},
   "outputs": [],
   "source": [
    "negative_prompt = \"photorealistic, 3d render, overly detailed, digital art, painting, vibrant colors, fine art, NSFW\""
   ]
  },
  {
   "cell_type": "code",
   "execution_count": 23,
   "metadata": {},
   "outputs": [
    {
     "name": "stderr",
     "output_type": "stream",
     "text": [
      "The following part of your input was truncated because CLIP can only handle sequences up to 77 tokens: ['vito is in the foreground , and tom hagen is in the background ..']\n"
     ]
    },
    {
     "data": {
      "application/vnd.jupyter.widget-view+json": {
       "model_id": "f1e2e6a4c61745dfaef2cea41f1a73c9",
       "version_major": 2,
       "version_minor": 0
      },
      "text/plain": [
       "  0%|          | 0/50 [00:00<?, ?it/s]"
      ]
     },
     "metadata": {},
     "output_type": "display_data"
    }
   ],
   "source": [
    "# Generate image from first prompt\n",
    "image = pipe(prompts[0], negative_prompt=negative_prompt).images[0]\n",
    "\n",
    "# Save image\n",
    "image.save(\"scene1_storyboard.png\")"
   ]
  },
  {
   "cell_type": "code",
   "execution_count": 24,
   "metadata": {},
   "outputs": [
    {
     "name": "stderr",
     "output_type": "stream",
     "text": [
      "The following part of your input was truncated because CLIP can only handle sequences up to 77 tokens: ['view . positioning : johnny fontane is in the foreground , with tom hagen in the background , observing from across the room ..']\n"
     ]
    },
    {
     "data": {
      "application/vnd.jupyter.widget-view+json": {
       "model_id": "b7943c7b65004703b1211f244e794e0f",
       "version_major": 2,
       "version_minor": 0
      },
      "text/plain": [
       "  0%|          | 0/50 [00:00<?, ?it/s]"
      ]
     },
     "metadata": {},
     "output_type": "display_data"
    }
   ],
   "source": [
    "# Generate image from first prompt\n",
    "image = pipe(prompts[1], negative_prompt=negative_prompt).images[0]\n",
    "# Save image\n",
    "image.save(\"scene2_storyboard.png\")"
   ]
  },
  {
   "cell_type": "code",
   "execution_count": 25,
   "metadata": {},
   "outputs": [
    {
     "name": "stderr",
     "output_type": "stream",
     "text": [
      "The following part of your input was truncated because CLIP can only handle sequences up to 77 tokens: [': don vito is in the foreground , with johnny fontane behind him , looking over his shoulder ..']\n"
     ]
    },
    {
     "data": {
      "application/vnd.jupyter.widget-view+json": {
       "model_id": "963e4c0cd75a465a826b300c530f0e76",
       "version_major": 2,
       "version_minor": 0
      },
      "text/plain": [
       "  0%|          | 0/50 [00:00<?, ?it/s]"
      ]
     },
     "metadata": {},
     "output_type": "display_data"
    }
   ],
   "source": [
    "# Generate image from first prompt\n",
    "image = pipe(prompts[2], negative_prompt=negative_prompt).images[0]\n",
    "# Save image\n",
    "image.save(\"scene3_storyboard.png\")"
   ]
  },
  {
   "cell_type": "code",
   "execution_count": 26,
   "metadata": {},
   "outputs": [
    {
     "data": {
      "application/vnd.jupyter.widget-view+json": {
       "model_id": "a4cfeff2b8694d629235453fb9e644e6",
       "version_major": 2,
       "version_minor": 0
      },
      "text/plain": [
       "  0%|          | 0/50 [00:00<?, ?it/s]"
      ]
     },
     "metadata": {},
     "output_type": "display_data"
    }
   ],
   "source": [
    "# Generate image from first prompt\n",
    "image = pipe(prompts[3], negative_prompt=negative_prompt).images[0]\n",
    "# Save image\n",
    "image.save(\"scene4_storyboard.png\")"
   ]
  },
  {
   "cell_type": "code",
   "execution_count": 27,
   "metadata": {},
   "outputs": [
    {
     "name": "stderr",
     "output_type": "stream",
     "text": [
      "The following part of your input was truncated because CLIP can only handle sequences up to 77 tokens: ['johnny are standing in the foreground , with tom hagen in the background , observing the scene ..']\n"
     ]
    },
    {
     "data": {
      "application/vnd.jupyter.widget-view+json": {
       "model_id": "d3afe290c00a4a468b6e51548cf8ab5b",
       "version_major": 2,
       "version_minor": 0
      },
      "text/plain": [
       "  0%|          | 0/50 [00:00<?, ?it/s]"
      ]
     },
     "metadata": {},
     "output_type": "display_data"
    }
   ],
   "source": [
    "# Generate image from first prompt\n",
    "image = pipe(prompts[4], negative_prompt=negative_prompt).images[0]\n",
    "# Save image\n",
    "image.save(\"scene5_storyboard.png\")"
   ]
  }
 ],
 "metadata": {
  "kernelspec": {
   "display_name": "mldl-ecole",
   "language": "python",
   "name": "python3"
  },
  "language_info": {
   "codemirror_mode": {
    "name": "ipython",
    "version": 3
   },
   "file_extension": ".py",
   "mimetype": "text/x-python",
   "name": "python",
   "nbconvert_exporter": "python",
   "pygments_lexer": "ipython3",
   "version": "3.11.10"
  }
 },
 "nbformat": 4,
 "nbformat_minor": 2
}
