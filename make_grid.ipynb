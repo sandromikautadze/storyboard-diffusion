{
 "cells": [
  {
   "cell_type": "code",
   "execution_count": 1,
   "metadata": {},
   "outputs": [],
   "source": [
    "from PIL import Image, ImageDraw, ImageFont\n",
    "import os"
   ]
  },
  {
   "cell_type": "markdown",
   "metadata": {},
   "source": [
    "# the godfather"
   ]
  },
  {
   "cell_type": "code",
   "execution_count": null,
   "metadata": {},
   "outputs": [],
   "source": [
    "def create_collage_with_text(folder_path):\n",
    "    \"\"\"\n",
    "    Creates a 1x7 collage from 7 images in the specified folder,\n",
    "    adds text labels (\"Panel 1\", \"Panel 2\", …, \"Panel 7\") on each image,\n",
    "    and saves the resulting collage in the same folder as 'collage_with_text.png'.\n",
    "\n",
    "    Assumes the images are named image_1.png, image_2.png, ..., image_7.png.\n",
    "    \n",
    "    Parameters:\n",
    "        folder_path (str): Path to the folder containing the images.\n",
    "    \"\"\"\n",
    "    images = []\n",
    "    \n",
    "    # Load images (assumes images are named image_1.png to image_7.png)\n",
    "    for i in range(1, 8):\n",
    "        image_path = os.path.join(folder_path, f\"image_{i}.png\")\n",
    "        img = Image.open(image_path)\n",
    "        images.append(img)\n",
    "    \n",
    "    # Assume all images have the same size\n",
    "    width, height = images[0].size\n",
    "    \n",
    "    # Create a new blank image for the collage (7 columns x 1 row)\n",
    "    collage = Image.new(\"RGB\", (width * 7, height))\n",
    "    \n",
    "    # Prepare drawing context and load a TrueType font for larger text\n",
    "    draw = ImageDraw.Draw(collage)\n",
    "    try:\n",
    "        # Attempt to load Arial font with size 30\n",
    "        font = ImageFont.truetype(\"arial.ttf\", size=30)\n",
    "    except IOError:\n",
    "        # Fallback: use the default PIL font if Arial is not available\n",
    "        font = ImageFont.load_default()\n",
    "    \n",
    "    # Paste each image and add its label\n",
    "    for idx, img in enumerate(images):\n",
    "        x = idx * width\n",
    "        y = 0  # single row: y remains 0\n",
    "        collage.paste(img, (x, y))\n",
    "        \n",
    "        # Create text label (e.g., \"Panel 1\", \"Panel 2\", etc.)\n",
    "        label = f\"Panel {idx + 1}\"\n",
    "        text_position = (x + 10, y + 10)  # adjust padding as needed\n",
    "        draw.text(text_position, label, fill=\"white\", font=font)\n",
    "    \n",
    "    # Save the collage image with text\n",
    "    collage_path = os.path.join(folder_path, \"collage_with_text.png\")\n",
    "    collage.save(collage_path)\n",
    "    print(f\"Collage with text created and saved as '{collage_path}'\")"
   ]
  },
  {
   "cell_type": "code",
   "execution_count": 14,
   "metadata": {},
   "outputs": [
    {
     "name": "stdout",
     "output_type": "stream",
     "text": [
      "Collage with text created and saved as 'storyboards/the_godfather/unique\\collage_with_text.png'\n",
      "Collage with text created and saved as 'storyboards/the_godfather/prompt_weights\\collage_with_text.png'\n",
      "Collage with text created and saved as 'storyboards/the_godfather/modified-cfg\\collage_with_text.png'\n"
     ]
    }
   ],
   "source": [
    "create_collage_with_text(\"storyboards/the_godfather/unique\")\n",
    "create_collage_with_text(\"storyboards/the_godfather/prompt_weights\")\n",
    "create_collage_with_text(\"storyboards/the_godfather/modified-cfg\")"
   ]
  },
  {
   "cell_type": "markdown",
   "metadata": {},
   "source": [
    "# titanic"
   ]
  },
  {
   "cell_type": "code",
   "execution_count": 2,
   "metadata": {},
   "outputs": [],
   "source": [
    "def create_collage_with_text(folder_path):\n",
    "    \"\"\"\n",
    "    Creates a 2x5 collage from 10 images in the specified folder,\n",
    "    adds text labels (\"Panel 1\", \"Panel 2\", …, \"Panel 10\") on each image,\n",
    "    and saves the resulting collage in the same folder as 'collage_with_text.png'.\n",
    "\n",
    "    Parameters:\n",
    "        folder_path (str): Path to the folder containing the images.\n",
    "                           Images should be named image_1.png, image_2.png, ..., image_10.png.\n",
    "    \"\"\"\n",
    "    images = []\n",
    "    \n",
    "    # Load images (assumes images are named image_1.png to image_10.png)\n",
    "    for i in range(1, 11):\n",
    "        image_path = os.path.join(folder_path, f\"image_{i}.png\")\n",
    "        img = Image.open(image_path)\n",
    "        images.append(img)\n",
    "    \n",
    "    # Assume all images have the same size\n",
    "    width, height = images[0].size\n",
    "    \n",
    "    # Create a new blank image for the collage (5 columns x 2 rows)\n",
    "    collage = Image.new(\"RGB\", (width * 5, height * 2))\n",
    "    \n",
    "    # Prepare drawing context and load a TrueType font for larger text\n",
    "    draw = ImageDraw.Draw(collage)\n",
    "    try:\n",
    "        # Attempt to load Arial font with size 30\n",
    "        font = ImageFont.truetype(\"arial.ttf\", size=30)\n",
    "    except IOError:\n",
    "        # Fallback: use the default font if Arial is not available\n",
    "        font = ImageFont.load_default()\n",
    "    \n",
    "    # Paste each image and add its label\n",
    "    for idx, img in enumerate(images):\n",
    "        row = idx // 5   # 0 for first row, 1 for second row\n",
    "        col = idx % 5    # 0 to 4 for each row\n",
    "        x = col * width\n",
    "        y = row * height\n",
    "        collage.paste(img, (x, y))\n",
    "        \n",
    "        # Create text label (e.g., \"Panel 1\", \"Panel 2\", etc.)\n",
    "        label = f\"Panel {idx + 1}\"\n",
    "        text_position = (x + 10, y + 10)  # Adjust padding as needed\n",
    "        draw.text(text_position, label, fill=\"white\", font=font)\n",
    "    \n",
    "    # Save the collage image with text\n",
    "    collage_path = os.path.join(folder_path, \"collage_with_text.png\")\n",
    "    collage.save(collage_path)\n",
    "    print(f\"Collage with text created and saved as '{collage_path}'\")\n"
   ]
  },
  {
   "cell_type": "code",
   "execution_count": 3,
   "metadata": {},
   "outputs": [
    {
     "name": "stdout",
     "output_type": "stream",
     "text": [
      "Collage with text created and saved as 'storyboards/titanic/unique/collage_with_text.png'\n",
      "Collage with text created and saved as 'storyboards/titanic/prompt_weights/collage_with_text.png'\n",
      "Collage with text created and saved as 'storyboards/titanic/modified-cfg/collage_with_text.png'\n"
     ]
    }
   ],
   "source": [
    "create_collage_with_text(\"storyboards/titanic/unique/\")\n",
    "create_collage_with_text(\"storyboards/titanic/prompt_weights/\")\n",
    "create_collage_with_text(\"storyboards/titanic/modified-cfg/\")"
   ]
  },
  {
   "cell_type": "markdown",
   "metadata": {},
   "source": [
    "# the dictator"
   ]
  },
  {
   "cell_type": "code",
   "execution_count": 17,
   "metadata": {},
   "outputs": [],
   "source": [
    "def create_collage_with_text(folder_path):\n",
    "    images = []\n",
    "    \n",
    "    # Load images (assumes images are named image_1.png to image_6.png)\n",
    "    for i in range(1, 7):\n",
    "        image_path = os.path.join(folder_path, f\"image_{i}.png\")\n",
    "        img = Image.open(image_path)\n",
    "        images.append(img)\n",
    "    \n",
    "    # Assume all images have the same size\n",
    "    width, height = images[0].size\n",
    "    \n",
    "    # Create a new blank image for the collage (7 columns x 1 row)\n",
    "    collage = Image.new(\"RGB\", (width * 6, height))\n",
    "    \n",
    "    # Prepare drawing context and load a TrueType font for larger text\n",
    "    draw = ImageDraw.Draw(collage)\n",
    "    try:\n",
    "        # Attempt to load Arial font with size 30\n",
    "        font = ImageFont.truetype(\"arial.ttf\", size=30)\n",
    "    except IOError:\n",
    "        # Fallback: use the default PIL font if Arial is not available\n",
    "        font = ImageFont.load_default()\n",
    "    \n",
    "    # Paste each image and add its label\n",
    "    for idx, img in enumerate(images):\n",
    "        x = idx * width\n",
    "        y = 0  # single row: y remains 0\n",
    "        collage.paste(img, (x, y))\n",
    "        \n",
    "        # Create text label (e.g., \"Panel 1\", \"Panel 2\", etc.)\n",
    "        label = f\"Panel {idx + 1}\"\n",
    "        text_position = (x + 10, y + 10)  # adjust padding as needed\n",
    "        draw.text(text_position, label, fill=\"white\", font=font)\n",
    "    \n",
    "    # Save the collage image with text\n",
    "    collage_path = os.path.join(folder_path, \"collage_with_text.png\")\n",
    "    collage.save(collage_path)\n",
    "    print(f\"Collage with text created and saved as '{collage_path}'\")"
   ]
  },
  {
   "cell_type": "code",
   "execution_count": 18,
   "metadata": {},
   "outputs": [
    {
     "name": "stdout",
     "output_type": "stream",
     "text": [
      "Collage with text created and saved as 'storyboards/the_dictator/unique\\collage_with_text.png'\n",
      "Collage with text created and saved as 'storyboards/the_dictator/prompt_weights\\collage_with_text.png'\n",
      "Collage with text created and saved as 'storyboards/the_dictator/modified-cfg\\collage_with_text.png'\n"
     ]
    }
   ],
   "source": [
    "create_collage_with_text(\"storyboards/the_dictator/unique\")\n",
    "create_collage_with_text(\"storyboards/the_dictator/prompt_weights\")\n",
    "create_collage_with_text(\"storyboards/the_dictator/modified-cfg\")"
   ]
  },
  {
   "cell_type": "markdown",
   "metadata": {},
   "source": [
    "# oppenheimer"
   ]
  },
  {
   "cell_type": "code",
   "execution_count": 19,
   "metadata": {},
   "outputs": [],
   "source": [
    "from PIL import Image, ImageDraw, ImageFont\n",
    "import os\n",
    "\n",
    "def create_collage_with_text(folder_path):\n",
    "    \"\"\"\n",
    "    Creates a 2x4 collage from 8 images in the specified folder,\n",
    "    adds text labels (\"Panel 1\", \"Panel 2\", …, \"Panel 8\") on each image,\n",
    "    and saves the resulting collage as 'collage_with_text.png' in the same folder.\n",
    "\n",
    "    Assumes the images are named image_1.png, image_2.png, ..., image_8.png.\n",
    "\n",
    "    Parameters:\n",
    "        folder_path (str): Path to the folder containing the images.\n",
    "    \"\"\"\n",
    "    images = []\n",
    "    \n",
    "    # Load images (assumes images are named image_1.png to image_8.png)\n",
    "    for i in range(1, 9):\n",
    "        image_path = os.path.join(folder_path, f\"image_{i}.png\")\n",
    "        img = Image.open(image_path)\n",
    "        images.append(img)\n",
    "    \n",
    "    # Assume all images have the same size\n",
    "    width, height = images[0].size\n",
    "    \n",
    "    # Create a new blank image for the collage (4 columns x 2 rows)\n",
    "    collage = Image.new(\"RGB\", (width * 4, height * 2))\n",
    "    \n",
    "    # Prepare drawing context and load a TrueType font for larger text\n",
    "    draw = ImageDraw.Draw(collage)\n",
    "    try:\n",
    "        # Attempt to load Arial font with size 30\n",
    "        font = ImageFont.truetype(\"arial.ttf\", size=30)\n",
    "    except IOError:\n",
    "        # Fallback: use the default PIL font if Arial is not available\n",
    "        font = ImageFont.load_default()\n",
    "    \n",
    "    # Paste each image and add its label\n",
    "    for idx, img in enumerate(images):\n",
    "        row = idx // 4   # 0 for the first row, 1 for the second row\n",
    "        col = idx % 4    # 0 to 3 for each row\n",
    "        x = col * width\n",
    "        y = row * height\n",
    "        collage.paste(img, (x, y))\n",
    "        \n",
    "        # Create text label (e.g., \"Panel 1\", \"Panel 2\", etc.)\n",
    "        label = f\"Panel {idx + 1}\"\n",
    "        text_position = (x + 10, y + 10)  # Adjust padding as needed\n",
    "        draw.text(text_position, label, fill=\"white\", font=font)\n",
    "    \n",
    "    # Save the collage image with text\n",
    "    collage_path = os.path.join(folder_path, \"collage_with_text.png\")\n",
    "    collage.save(collage_path)\n",
    "    print(f\"Collage with text created and saved as '{collage_path}'\")"
   ]
  },
  {
   "cell_type": "code",
   "execution_count": 20,
   "metadata": {},
   "outputs": [
    {
     "name": "stdout",
     "output_type": "stream",
     "text": [
      "Collage with text created and saved as 'storyboards/oppenheimer/unique\\collage_with_text.png'\n",
      "Collage with text created and saved as 'storyboards/oppenheimer/prompt_weights\\collage_with_text.png'\n",
      "Collage with text created and saved as 'storyboards/oppenheimer/modified-cfg\\collage_with_text.png'\n"
     ]
    }
   ],
   "source": [
    "create_collage_with_text(\"storyboards/oppenheimer/unique\")\n",
    "create_collage_with_text(\"storyboards/oppenheimer/prompt_weights\")\n",
    "create_collage_with_text(\"storyboards/oppenheimer/modified-cfg\")"
   ]
  }
 ],
 "metadata": {
  "kernelspec": {
   "display_name": "mldl-ecole",
   "language": "python",
   "name": "python3"
  },
  "language_info": {
   "codemirror_mode": {
    "name": "ipython",
    "version": 3
   },
   "file_extension": ".py",
   "mimetype": "text/x-python",
   "name": "python",
   "nbconvert_exporter": "python",
   "pygments_lexer": "ipython3",
   "version": "3.11.10"
  }
 },
 "nbformat": 4,
 "nbformat_minor": 2
}
