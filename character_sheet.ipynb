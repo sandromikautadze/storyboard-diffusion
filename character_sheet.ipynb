{
 "cells": [
  {
   "cell_type": "markdown",
   "metadata": {},
   "source": [
    "Used to generate the character sheet."
   ]
  },
  {
   "cell_type": "code",
   "execution_count": null,
   "metadata": {},
   "outputs": [],
   "source": [
    "# from diffusers import StableDiffusionControlNetPipeline, ControlNetModel, UniPCMultistepScheduler\n",
    "# import torch\n",
    "# from PIL import Image\n",
    "# device = torch.device(\"cuda\" if torch.cuda.is_available() else \"cpu\")"
   ]
  },
  {
   "cell_type": "code",
   "execution_count": null,
   "metadata": {},
   "outputs": [],
   "source": [
    "# Load ControlNet (Pose + Style)\n",
    "# controlnet_pose = ControlNetModel.from_pretrained(\"lllyasviel/control_v11p_sd15_openpose\", torch_dtype=torch.float16).to(device)\n",
    "\n",
    "# controlnet_depth = ControlNetModel.from_pretrained(\"lllyasviel/control_v11f1p_sd15_depth\", torch_dtype=torch.float16).to(device)\n",
    "\n",
    "# controlnet_style = ControlNetModel.from_pretrained(\"lllyasviel/control_v11p_sd15_scribble\", torch_dtype=torch.float16).to(device)\n",
    "# controlnets = [controlnet_pose, controlnet_style]"
   ]
  },
  {
   "cell_type": "code",
   "execution_count": null,
   "metadata": {},
   "outputs": [],
   "source": [
    "# pipe = StableDiffusionControlNetPipeline.from_pretrained(\n",
    "#     \"runwayml/stable-diffusion-v1-5\", \n",
    "#     # controlnet=controlnet_depth,\n",
    "#     controlnet=controlnet_pose, \n",
    "#     # controlnet=controlnets,\n",
    "#     torch_dtype=torch.float16\n",
    "# ).to(device)\n",
    "\n",
    "# pipe.scheduler = UniPCMultistepScheduler.from_config(pipe.scheduler.config)\n",
    "# pipe.enable_model_cpu_offload()\n",
    "# pipe.enable_attention_slicing()\n",
    "\n",
    "# # style_image = Image.open(\"./poses/style_reference.png\").convert(\"RGB\")"
   ]
  },
  {
   "cell_type": "code",
   "execution_count": null,
   "metadata": {},
   "outputs": [],
   "source": [
    "# prompts = [\n",
    "#     \"rough b&w pencil sketch of a 30-year-old man, beard, wearing a t-shirt, full-body shot, front view, simple sketch lines, minimal shading, rough hatching, draft-style, white background, J.C. Leyendecker style\",\n",
    "#     \"rough b&w pencil sketch of a 30-year-old man, beard, wearing a t-shirt, medium shot, side view, simple sketch lines, minimal shading, rough hatching, draft-style, white background, J.C. Leyendecker style\",\n",
    "#     \"rough b&w pencil sketch of a 30-year-old man, beard, wearing a t-shirt, full-body shot, walking pose, back-side view, simple sketch lines, minimal shading, rough hatching, draft-style, white background, J.C. Leyendecker style\",\n",
    "#     \"rough b&w pencil sketch of a 30-year-old man, beard, wearing a t-shirt, medium shot, waving in greeting, three-quarters view, simple sketch lines, minimal shading, rough hatching, draft-style, white background, J.C. Leyendecker style\",\n",
    "#     \"rough b&w pencil sketch of a 30-year-old man, beard, wearing a t-shirt, close-up shot, neutral expression, face fully visible, simple sketch lines, minimal shading, rough hatching, draft-style, white background, J.C. Leyendecker style\",\n",
    "#     \"rough b&w pencil sketch of a 30-year-old man, beard, wearing a t-shirt, close-up shot, slight smile, looking away, simple sketch lines, minimal shading, rough hatching, draft-style, white background, J.C. Leyendecker style\"\n",
    "# ]\n",
    "\n",
    "# negative_prompts = [\n",
    "#     \"photorealistic, 3d render, overly detailed, digital art, painting, vibrant colors, fine art, NSFW\",\n",
    "#     \"photorealistic, 3d render, overly detailed, digital art, painting, vibrant colors, fine art, NSFW\",\n",
    "#     \"photorealistic, 3d render, overly detailed, digital art, painting, vibrant colors, fine art, NSFW\",\n",
    "#     \"photorealistic, 3d render, overly detailed, digital art, painting, vibrant colors, fine art, NSFW\",\n",
    "#     \"photorealistic, 3d render, overly detailed, digital art, painting, vibrant colors, fine art, NSFW\",\n",
    "#     \"photorealistic, 3d render, overly detailed, digital art, painting, vibrant colors, fine art, NSFW\"\n",
    "# ]\n",
    "\n",
    "# pose_image_paths = [\n",
    "#     \"./poses/front.png\",\n",
    "#     \"./poses/side.png\",\n",
    "#     \"./poses/walking.png\",\n",
    "#     \"./poses/greetings.png\",\n",
    "#     \"./poses/head.png\",\n",
    "#     \"./poses/head2.png\",\n",
    "# ]"
   ]
  },
  {
   "cell_type": "code",
   "execution_count": null,
   "metadata": {},
   "outputs": [],
   "source": [
    "# SEED = 43\n",
    "# generated_images = []\n",
    "# for i, (pose_path, prompt, negative_prompt) in enumerate(zip(pose_image_paths, prompts, negative_prompts)):\n",
    "#     pose_image = Image.open(pose_path).convert(\"RGB\")\n",
    "    \n",
    "#     generator = torch.Generator(device).manual_seed(SEED)\n",
    "    \n",
    "#     generated_image = pipe(\n",
    "#         prompt,\n",
    "#         guidance_scale=8.0, # prompt adherence (the higher, the stronger)\n",
    "#         image=pose_image,\n",
    "#         num_inference_steps=25,\n",
    "#         negative_prompt=negative_prompt,\n",
    "#         generator=generator\n",
    "#     ).images[0]\n",
    "\n",
    "#     output_path = f\"./poses/character_sheet_{i + 1}.png\"\n",
    "#     generated_image.save(output_path)\n",
    "#     print(f\"Image {i + 1} saved.\")\n",
    "#     generated_images.append(output_path)\n",
    "\n",
    "# print(\"Done!\")"
   ]
  },
  {
   "cell_type": "markdown",
   "metadata": {},
   "source": [
    "# Putting it all together"
   ]
  },
  {
   "cell_type": "code",
   "execution_count": 1,
   "metadata": {},
   "outputs": [],
   "source": [
    "from diffusers import StableDiffusionControlNetPipeline, ControlNetModel, UniPCMultistepScheduler\n",
    "import torch\n",
    "from src.character_sheet import generate_character_sheet\n",
    "device = torch.device(\"cuda\" if torch.cuda.is_available() else \"cpu\")"
   ]
  },
  {
   "cell_type": "code",
   "execution_count": 2,
   "metadata": {},
   "outputs": [
    {
     "data": {
      "application/vnd.jupyter.widget-view+json": {
       "model_id": "7cababa9c7ef49c4a26f3695a744f7f3",
       "version_major": 2,
       "version_minor": 0
      },
      "text/plain": [
       "Loading pipeline components...:   0%|          | 0/7 [00:00<?, ?it/s]"
      ]
     },
     "metadata": {},
     "output_type": "display_data"
    }
   ],
   "source": [
    "controlnet_pose = ControlNetModel.from_pretrained(\n",
    "    \"lllyasviel/control_v11p_sd15_openpose\", \n",
    "    torch_dtype=torch.float16\n",
    ").to(device)\n",
    "\n",
    "pipe = StableDiffusionControlNetPipeline.from_pretrained(\n",
    "    \"runwayml/stable-diffusion-v1-5\", \n",
    "    controlnet=controlnet_pose, \n",
    "    torch_dtype=torch.float16\n",
    ").to(device)\n",
    "\n",
    "pipe.scheduler = UniPCMultistepScheduler.from_config(pipe.scheduler.config)\n",
    "pipe.enable_model_cpu_offload()\n",
    "pipe.enable_attention_slicing()"
   ]
  },
  {
   "cell_type": "code",
   "execution_count": null,
   "metadata": {},
   "outputs": [],
   "source": [
    "story_name = \"The Godfather\"\n",
    "\n",
    "character1 = {\n",
    "    \"name\": \"Don Vito Corleone\",\n",
    "    \"age\": \"early 60s\",\n",
    "    \"gender\": \"male\",\n",
    "    \"hair\": \"slicked-back gray-black hair\",\n",
    "    \"clothing\": \"dark three-piece suit, white shirt, black tie, red rose in the lapel\",\n",
    "    \"body_type\": \"stocky, slghtly hunched posture\",\n",
    "    \"accessories\": \"gold ring on right hand, pocket watch\",\n",
    "    \"ethnicity\": \"Italian-American\"\n",
    "}\n",
    "\n",
    "character2 = {\n",
    "    \"name\": \"Tom Hagen\",\n",
    "    \"age\": \"early 40s\",\n",
    "    \"gender\": \"male\",\n",
    "    \"hair\": \"short, neatly combed brown hair\",\n",
    "    \"facial_hair\": \"clean-shaven\",\n",
    "    \"clothing\": \"brown or gray suit, white shirt, dark tie\",\n",
    "    \"body_type\": \"medium build, upright posture\",\n",
    "    \"accessories\": \"a wristwatch\",\n",
    "    \"ethnicity\": \"German-Irish\"\n",
    "}\n",
    "\n",
    "character3 = {\n",
    "    \"name\": \"Johnny Fontane\",\n",
    "    \"age\": \"late 30s\",\n",
    "    \"gender\": \"male\",\n",
    "    \"hair\": \"short, slicked-back black hair\",\n",
    "    \"facial_hair\": \"clean shaven\",\n",
    "    \"clothing\": \"dark, stylish suit with an open collar\",\n",
    "    \"body_type\": \"slim and fit\",\n",
    "    \"accessories\": \"gold ring, cigarette\"\n",
    "}"
   ]
  },
  {
   "cell_type": "markdown",
   "metadata": {},
   "source": [
    "If the images are not satisafactory, most often just changing the seed should suffice (the default is 42)."
   ]
  },
  {
   "cell_type": "code",
   "execution_count": 4,
   "metadata": {},
   "outputs": [
    {
     "data": {
      "application/vnd.jupyter.widget-view+json": {
       "model_id": "f821aad8ec6b46b9a73bd618afe1f8fe",
       "version_major": 2,
       "version_minor": 0
      },
      "text/plain": [
       "  0%|          | 0/25 [00:00<?, ?it/s]"
      ]
     },
     "metadata": {},
     "output_type": "display_data"
    },
    {
     "data": {
      "application/vnd.jupyter.widget-view+json": {
       "model_id": "41490a993d7242dc9fc30f1ba8038a06",
       "version_major": 2,
       "version_minor": 0
      },
      "text/plain": [
       "  0%|          | 0/25 [00:00<?, ?it/s]"
      ]
     },
     "metadata": {},
     "output_type": "display_data"
    },
    {
     "data": {
      "application/vnd.jupyter.widget-view+json": {
       "model_id": "de69562e9de2454796d92629096787bd",
       "version_major": 2,
       "version_minor": 0
      },
      "text/plain": [
       "  0%|          | 0/25 [00:00<?, ?it/s]"
      ]
     },
     "metadata": {},
     "output_type": "display_data"
    },
    {
     "data": {
      "application/vnd.jupyter.widget-view+json": {
       "model_id": "9d28bcaac2c4437bab4fd965e9bca09f",
       "version_major": 2,
       "version_minor": 0
      },
      "text/plain": [
       "  0%|          | 0/25 [00:00<?, ?it/s]"
      ]
     },
     "metadata": {},
     "output_type": "display_data"
    },
    {
     "data": {
      "application/vnd.jupyter.widget-view+json": {
       "model_id": "97d50a6196014f96925d8fe5a04de869",
       "version_major": 2,
       "version_minor": 0
      },
      "text/plain": [
       "  0%|          | 0/25 [00:00<?, ?it/s]"
      ]
     },
     "metadata": {},
     "output_type": "display_data"
    },
    {
     "data": {
      "application/vnd.jupyter.widget-view+json": {
       "model_id": "1ca968b020a046d3891cdac53bee1759",
       "version_major": 2,
       "version_minor": 0
      },
      "text/plain": [
       "  0%|          | 0/25 [00:00<?, ?it/s]"
      ]
     },
     "metadata": {},
     "output_type": "display_data"
    },
    {
     "name": "stdout",
     "output_type": "stream",
     "text": [
      "Character sheet generated for 'Alice'.\n"
     ]
    }
   ],
   "source": [
    "cs1 = generate_character_sheet(story_name=story_name, character_description=character1, pipe=pipe, device=device)"
   ]
  },
  {
   "cell_type": "code",
   "execution_count": 5,
   "metadata": {},
   "outputs": [
    {
     "data": {
      "application/vnd.jupyter.widget-view+json": {
       "model_id": "aa0464dd3def45f99c4c133174de2565",
       "version_major": 2,
       "version_minor": 0
      },
      "text/plain": [
       "  0%|          | 0/25 [00:00<?, ?it/s]"
      ]
     },
     "metadata": {},
     "output_type": "display_data"
    },
    {
     "data": {
      "application/vnd.jupyter.widget-view+json": {
       "model_id": "d6b981f5f02942e2ade585f47cbeeeb7",
       "version_major": 2,
       "version_minor": 0
      },
      "text/plain": [
       "  0%|          | 0/25 [00:00<?, ?it/s]"
      ]
     },
     "metadata": {},
     "output_type": "display_data"
    },
    {
     "data": {
      "application/vnd.jupyter.widget-view+json": {
       "model_id": "74dda5984b0e471198b16897f3277859",
       "version_major": 2,
       "version_minor": 0
      },
      "text/plain": [
       "  0%|          | 0/25 [00:00<?, ?it/s]"
      ]
     },
     "metadata": {},
     "output_type": "display_data"
    },
    {
     "data": {
      "application/vnd.jupyter.widget-view+json": {
       "model_id": "ce8d517d723b49bbb968854cc0e893cb",
       "version_major": 2,
       "version_minor": 0
      },
      "text/plain": [
       "  0%|          | 0/25 [00:00<?, ?it/s]"
      ]
     },
     "metadata": {},
     "output_type": "display_data"
    },
    {
     "data": {
      "application/vnd.jupyter.widget-view+json": {
       "model_id": "c5e2f34b5cf44a0fb2c43daccc3036f7",
       "version_major": 2,
       "version_minor": 0
      },
      "text/plain": [
       "  0%|          | 0/25 [00:00<?, ?it/s]"
      ]
     },
     "metadata": {},
     "output_type": "display_data"
    },
    {
     "data": {
      "application/vnd.jupyter.widget-view+json": {
       "model_id": "1f56fdb463c1493b98869e84784546b5",
       "version_major": 2,
       "version_minor": 0
      },
      "text/plain": [
       "  0%|          | 0/25 [00:00<?, ?it/s]"
      ]
     },
     "metadata": {},
     "output_type": "display_data"
    },
    {
     "name": "stdout",
     "output_type": "stream",
     "text": [
      "Character sheet generated for 'Bob'.\n"
     ]
    }
   ],
   "source": [
    "cs2 = generate_character_sheet(story_name=story_name, character_description=character2, pipe=pipe, device=device)"
   ]
  },
  {
   "cell_type": "code",
   "execution_count": 6,
   "metadata": {},
   "outputs": [
    {
     "data": {
      "application/vnd.jupyter.widget-view+json": {
       "model_id": "ad43677634174c16821c182d3ee3002c",
       "version_major": 2,
       "version_minor": 0
      },
      "text/plain": [
       "  0%|          | 0/25 [00:00<?, ?it/s]"
      ]
     },
     "metadata": {},
     "output_type": "display_data"
    },
    {
     "data": {
      "application/vnd.jupyter.widget-view+json": {
       "model_id": "5458335702a04d27ad44d2f13e0fe41e",
       "version_major": 2,
       "version_minor": 0
      },
      "text/plain": [
       "  0%|          | 0/25 [00:00<?, ?it/s]"
      ]
     },
     "metadata": {},
     "output_type": "display_data"
    },
    {
     "data": {
      "application/vnd.jupyter.widget-view+json": {
       "model_id": "9ff86085e760435cbcb58eb23cdc1f1b",
       "version_major": 2,
       "version_minor": 0
      },
      "text/plain": [
       "  0%|          | 0/25 [00:00<?, ?it/s]"
      ]
     },
     "metadata": {},
     "output_type": "display_data"
    },
    {
     "data": {
      "application/vnd.jupyter.widget-view+json": {
       "model_id": "188bdd00bb89445895b1aafe5c5b5c2e",
       "version_major": 2,
       "version_minor": 0
      },
      "text/plain": [
       "  0%|          | 0/25 [00:00<?, ?it/s]"
      ]
     },
     "metadata": {},
     "output_type": "display_data"
    },
    {
     "data": {
      "application/vnd.jupyter.widget-view+json": {
       "model_id": "5803901dc32b426aa76dccb06738c524",
       "version_major": 2,
       "version_minor": 0
      },
      "text/plain": [
       "  0%|          | 0/25 [00:00<?, ?it/s]"
      ]
     },
     "metadata": {},
     "output_type": "display_data"
    },
    {
     "data": {
      "application/vnd.jupyter.widget-view+json": {
       "model_id": "cba90e4877054d11ad634fcf428c4d6d",
       "version_major": 2,
       "version_minor": 0
      },
      "text/plain": [
       "  0%|          | 0/25 [00:00<?, ?it/s]"
      ]
     },
     "metadata": {},
     "output_type": "display_data"
    },
    {
     "name": "stdout",
     "output_type": "stream",
     "text": [
      "Character sheet generated for 'Jordan'.\n"
     ]
    }
   ],
   "source": [
    "cs3 = generate_character_sheet(story_name=story_name, character_description=character3, pipe=pipe, device=device)"
   ]
  }
 ],
 "metadata": {
  "kernelspec": {
   "display_name": "mldl-ecole",
   "language": "python",
   "name": "python3"
  },
  "language_info": {
   "codemirror_mode": {
    "name": "ipython",
    "version": 3
   },
   "file_extension": ".py",
   "mimetype": "text/x-python",
   "name": "python",
   "nbconvert_exporter": "python",
   "pygments_lexer": "ipython3",
   "version": "3.11.10"
  }
 },
 "nbformat": 4,
 "nbformat_minor": 2
}
