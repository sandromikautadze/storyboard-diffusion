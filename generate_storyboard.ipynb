{
 "cells": [
  {
   "cell_type": "code",
   "execution_count": 1,
   "metadata": {},
   "outputs": [],
   "source": [
    "from src.storyboard_generator import StoryboardGenerator\n",
    "import torch \n",
    "device = torch.device(\"cuda\" if torch.cuda.is_available() else \"cpu\")"
   ]
  },
  {
   "cell_type": "markdown",
   "metadata": {},
   "source": [
    "# Example - The Godfather"
   ]
  },
  {
   "cell_type": "markdown",
   "metadata": {},
   "source": [
    "The example below runs with the script of \"The Godfather\". The results are saved in `storyboards/the_godfather`."
   ]
  },
  {
   "cell_type": "markdown",
   "metadata": {},
   "source": [
    "## Data"
   ]
  },
  {
   "cell_type": "markdown",
   "metadata": {},
   "source": [
    "You either load a predefined movie script and its character descriptions, or you can manually input them. \n",
    "\n",
    "Predefined movies are \"The Godfather\", \"Titanic\", \"The Dictator\", \"Oppenheimer\" and the corresponding data can be accessed with with `get_movie_data` function from the `movies.py` module. The script must be a string, while characters must be in a dictionary with a key for every character in the script, each with specific attributes (see code below)."
   ]
  },
  {
   "cell_type": "code",
   "execution_count": null,
   "metadata": {},
   "outputs": [
    {
     "name": "stdout",
     "output_type": "stream",
     "text": [
      "Loaded script and character data for movie: The Godfather\n"
     ]
    }
   ],
   "source": [
    "# PREDEFINED SCRIPT\n",
    "from src.movies import get_movie_data # Import the function to get movie script data\n",
    "\n",
    "movie_title = \"The Godfather\" # change movie title to any movie in the list of movies\n",
    "script, characters = get_movie_data(movie_title)\n",
    "print(\"Loaded script and character data for movie:\", movie_title)\n",
    "\n",
    "# # USE CODE BELOW TO USE A CUSTOM SCRIPT AND CHARACTER DESCRIPTIONS AND COMMENT OUT THE ABOVE CODE\n",
    "# # MANUALLY SPECIFY DATA\n",
    "# movie_title = \"My Custom Movie\"\n",
    "# script = \"\"\"\n",
    "# INSERT YOUR SCRIPT HERE.\n",
    "# \"\"\"\n",
    "# characters = {\n",
    "#     # Provide a key for each character with their attributes.\n",
    "#     \"Character Name\": {\n",
    "#         \"age\": \"example age\",\n",
    "#         \"gender\": \"example gender\",\n",
    "#         \"hair\": \"example hair description\",\n",
    "#         \"clothing\": \"example clothing\",\n",
    "#         \"body_type\": \"example body type\",\n",
    "#         \"ethnicity\": \"example ethnicity\"\n",
    "#         # Optional\n",
    "#         # \"facial_hair\": \"example facial hair description\"\n",
    "#         # \"accessories\": \"example accessories\",\n",
    "#     },\n",
    "#     # Add additional characters as needed.\n",
    "# }\n",
    "# print(\"Manually specified script and character data for movie:\", movie_title)"
   ]
  },
  {
   "cell_type": "markdown",
   "metadata": {},
   "source": [
    "## Generation"
   ]
  },
  {
   "cell_type": "code",
   "execution_count": null,
   "metadata": {},
   "outputs": [],
   "source": [
    "# Define the available generation approaches\n",
    "generation_types = [\"unique\", \"prompt_weights\", \"modified-cfg\"]"
   ]
  },
  {
   "cell_type": "code",
   "execution_count": 4,
   "metadata": {},
   "outputs": [],
   "source": [
    "# Instantiate the storyboard generator with the loaded script and characters.\n",
    "generator = StoryboardGenerator(script, characters, device=device)"
   ]
  },
  {
   "cell_type": "code",
   "execution_count": null,
   "metadata": {},
   "outputs": [],
   "source": [
    "# Define the paths for saving the generated storyboards\n",
    "movie_title_dir = movie_title.lower().replace(' ', '_')\n",
    "generation_paths = [f\"storyboards/{movie_title_dir}/{generation_type}\" for generation_type in generation_types]"
   ]
  },
  {
   "cell_type": "code",
   "execution_count": 6,
   "metadata": {},
   "outputs": [
    {
     "data": {
      "application/vnd.jupyter.widget-view+json": {
       "model_id": "429cd4248c7341b2a7a5ceec0bff6be9",
       "version_major": 2,
       "version_minor": 0
      },
      "text/plain": [
       "Loading pipeline components...:   0%|          | 0/7 [00:00<?, ?it/s]"
      ]
     },
     "metadata": {},
     "output_type": "display_data"
    },
    {
     "name": "stderr",
     "output_type": "stream",
     "text": [
      "2025-03-23 14:08:15,710 INFO: Generating formatted prompts...\n",
      "2025-03-23 14:08:29,781 INFO: Formatted prompts generated successfully.\n"
     ]
    },
    {
     "data": {
      "application/vnd.jupyter.widget-view+json": {
       "model_id": "0b0c210501d14356a26a305363ffe135",
       "version_major": 2,
       "version_minor": 0
      },
      "text/plain": [
       "  0%|          | 0/50 [00:00<?, ?it/s]"
      ]
     },
     "metadata": {},
     "output_type": "display_data"
    },
    {
     "name": "stderr",
     "output_type": "stream",
     "text": [
      "2025-03-23 14:08:50,163 INFO: Image saved to storyboards/the_godfather/unique\\image_1.png\n",
      "Token indices sequence length is longer than the specified maximum sequence length for this model (78 > 77). Running this sequence through the model will result in indexing errors\n",
      "The following part of your input was truncated because CLIP can only handle sequences up to 77 tokens: ['.']\n"
     ]
    },
    {
     "data": {
      "application/vnd.jupyter.widget-view+json": {
       "model_id": "8ed00314b1fd4731869a34ef12911546",
       "version_major": 2,
       "version_minor": 0
      },
      "text/plain": [
       "  0%|          | 0/50 [00:00<?, ?it/s]"
      ]
     },
     "metadata": {},
     "output_type": "display_data"
    },
    {
     "name": "stderr",
     "output_type": "stream",
     "text": [
      "2025-03-23 14:09:09,815 INFO: Image saved to storyboards/the_godfather/unique\\image_2.png\n"
     ]
    },
    {
     "data": {
      "application/vnd.jupyter.widget-view+json": {
       "model_id": "6aa58d8fe82a4524b89c986024d2838c",
       "version_major": 2,
       "version_minor": 0
      },
      "text/plain": [
       "  0%|          | 0/50 [00:00<?, ?it/s]"
      ]
     },
     "metadata": {},
     "output_type": "display_data"
    },
    {
     "name": "stderr",
     "output_type": "stream",
     "text": [
      "2025-03-23 14:09:31,444 INFO: Image saved to storyboards/the_godfather/unique\\image_3.png\n"
     ]
    },
    {
     "data": {
      "application/vnd.jupyter.widget-view+json": {
       "model_id": "d3dcd687ac4f460c84031d7bf1c5bb01",
       "version_major": 2,
       "version_minor": 0
      },
      "text/plain": [
       "  0%|          | 0/50 [00:00<?, ?it/s]"
      ]
     },
     "metadata": {},
     "output_type": "display_data"
    },
    {
     "name": "stderr",
     "output_type": "stream",
     "text": [
      "2025-03-23 14:09:53,878 INFO: Image saved to storyboards/the_godfather/unique\\image_4.png\n"
     ]
    },
    {
     "data": {
      "application/vnd.jupyter.widget-view+json": {
       "model_id": "2a54b63f07994b17824f94594266bdd3",
       "version_major": 2,
       "version_minor": 0
      },
      "text/plain": [
       "  0%|          | 0/50 [00:00<?, ?it/s]"
      ]
     },
     "metadata": {},
     "output_type": "display_data"
    },
    {
     "name": "stderr",
     "output_type": "stream",
     "text": [
      "2025-03-23 14:10:16,780 INFO: Image saved to storyboards/the_godfather/unique\\image_5.png\n",
      "The following part of your input was truncated because CLIP can only handle sequences up to 77 tokens: ['instructions about hospital visit .']\n"
     ]
    },
    {
     "data": {
      "application/vnd.jupyter.widget-view+json": {
       "model_id": "9ac7a904a908433f97d742121351dbe3",
       "version_major": 2,
       "version_minor": 0
      },
      "text/plain": [
       "  0%|          | 0/50 [00:00<?, ?it/s]"
      ]
     },
     "metadata": {},
     "output_type": "display_data"
    },
    {
     "name": "stderr",
     "output_type": "stream",
     "text": [
      "2025-03-23 14:10:40,189 INFO: Image saved to storyboards/the_godfather/unique\\image_6.png\n"
     ]
    },
    {
     "data": {
      "application/vnd.jupyter.widget-view+json": {
       "model_id": "1956fc9cb7a443d99b6916a3ac8f4a47",
       "version_major": 2,
       "version_minor": 0
      },
      "text/plain": [
       "  0%|          | 0/50 [00:00<?, ?it/s]"
      ]
     },
     "metadata": {},
     "output_type": "display_data"
    },
    {
     "name": "stderr",
     "output_type": "stream",
     "text": [
      "2025-03-23 14:11:03,792 INFO: Image saved to storyboards/the_godfather/unique\\image_7.png\n",
      "2025-03-23 14:11:03,795 INFO: Prompts saved to storyboards/the_godfather/unique\\prompts.txt\n",
      "2025-03-23 14:11:03,796 INFO: Storyboard generation completed successfully.\n"
     ]
    }
   ],
   "source": [
    "# Generate and save images for each generation approach.\n",
    "# Approach 1: unique prompt\n",
    "generator.generate_and_save(save_dir=generation_paths[0], generation_type=generation_types[0])"
   ]
  },
  {
   "cell_type": "code",
   "execution_count": 7,
   "metadata": {},
   "outputs": [
    {
     "data": {
      "application/vnd.jupyter.widget-view+json": {
       "model_id": "2c8bf0a229b04e1f9c21fca0e9df6d62",
       "version_major": 2,
       "version_minor": 0
      },
      "text/plain": [
       "Loading pipeline components...:   0%|          | 0/7 [00:00<?, ?it/s]"
      ]
     },
     "metadata": {},
     "output_type": "display_data"
    },
    {
     "data": {
      "application/vnd.jupyter.widget-view+json": {
       "model_id": "ab34704765784350a2237e7bfa9d2a1e",
       "version_major": 2,
       "version_minor": 0
      },
      "text/plain": [
       "  0%|          | 0/50 [00:00<?, ?it/s]"
      ]
     },
     "metadata": {},
     "output_type": "display_data"
    },
    {
     "name": "stderr",
     "output_type": "stream",
     "text": [
      "2025-03-23 14:11:36,574 INFO: Image saved to storyboards/the_godfather/prompt_weights\\image_1.png\n"
     ]
    },
    {
     "data": {
      "application/vnd.jupyter.widget-view+json": {
       "model_id": "53508bcdad9740f09423635acdf9923f",
       "version_major": 2,
       "version_minor": 0
      },
      "text/plain": [
       "  0%|          | 0/50 [00:00<?, ?it/s]"
      ]
     },
     "metadata": {},
     "output_type": "display_data"
    },
    {
     "name": "stderr",
     "output_type": "stream",
     "text": [
      "2025-03-23 14:12:00,789 INFO: Image saved to storyboards/the_godfather/prompt_weights\\image_2.png\n"
     ]
    },
    {
     "data": {
      "application/vnd.jupyter.widget-view+json": {
       "model_id": "4d7388562c9c4bcdae50db7b5d8a6b78",
       "version_major": 2,
       "version_minor": 0
      },
      "text/plain": [
       "  0%|          | 0/50 [00:00<?, ?it/s]"
      ]
     },
     "metadata": {},
     "output_type": "display_data"
    },
    {
     "name": "stderr",
     "output_type": "stream",
     "text": [
      "2025-03-23 14:12:25,696 INFO: Image saved to storyboards/the_godfather/prompt_weights\\image_3.png\n"
     ]
    },
    {
     "data": {
      "application/vnd.jupyter.widget-view+json": {
       "model_id": "58783793669f40e8b3c777da39408593",
       "version_major": 2,
       "version_minor": 0
      },
      "text/plain": [
       "  0%|          | 0/50 [00:00<?, ?it/s]"
      ]
     },
     "metadata": {},
     "output_type": "display_data"
    },
    {
     "name": "stderr",
     "output_type": "stream",
     "text": [
      "2025-03-23 14:12:52,032 INFO: Image saved to storyboards/the_godfather/prompt_weights\\image_4.png\n"
     ]
    },
    {
     "data": {
      "application/vnd.jupyter.widget-view+json": {
       "model_id": "396646b46d094202a78844c1f68042ae",
       "version_major": 2,
       "version_minor": 0
      },
      "text/plain": [
       "  0%|          | 0/50 [00:00<?, ?it/s]"
      ]
     },
     "metadata": {},
     "output_type": "display_data"
    },
    {
     "name": "stderr",
     "output_type": "stream",
     "text": [
      "2025-03-23 14:13:17,762 INFO: Image saved to storyboards/the_godfather/prompt_weights\\image_5.png\n"
     ]
    },
    {
     "data": {
      "application/vnd.jupyter.widget-view+json": {
       "model_id": "4232518f85d247999660e8d0da5b990c",
       "version_major": 2,
       "version_minor": 0
      },
      "text/plain": [
       "  0%|          | 0/50 [00:00<?, ?it/s]"
      ]
     },
     "metadata": {},
     "output_type": "display_data"
    },
    {
     "name": "stderr",
     "output_type": "stream",
     "text": [
      "2025-03-23 14:13:43,608 INFO: Image saved to storyboards/the_godfather/prompt_weights\\image_6.png\n"
     ]
    },
    {
     "data": {
      "application/vnd.jupyter.widget-view+json": {
       "model_id": "1459fb0decdd41cb8dfb0bfc5909efdd",
       "version_major": 2,
       "version_minor": 0
      },
      "text/plain": [
       "  0%|          | 0/50 [00:00<?, ?it/s]"
      ]
     },
     "metadata": {},
     "output_type": "display_data"
    },
    {
     "name": "stderr",
     "output_type": "stream",
     "text": [
      "2025-03-23 14:14:09,033 INFO: Image saved to storyboards/the_godfather/prompt_weights\\image_7.png\n",
      "2025-03-23 14:14:09,041 INFO: Prompts saved to storyboards/the_godfather/prompt_weights\\prompts.txt\n",
      "2025-03-23 14:14:09,041 INFO: Storyboard generation completed successfully.\n"
     ]
    }
   ],
   "source": [
    "# Approach 2: prompt with weighted embeddings\n",
    "generator.generate_and_save(save_dir=generation_paths[1], generation_type=generation_types[1])"
   ]
  },
  {
   "cell_type": "code",
   "execution_count": 8,
   "metadata": {},
   "outputs": [
    {
     "data": {
      "application/vnd.jupyter.widget-view+json": {
       "model_id": "68af6986fb954a8a98cf0d075500df05",
       "version_major": 2,
       "version_minor": 0
      },
      "text/plain": [
       "Loading pipeline components...:   0%|          | 0/7 [00:00<?, ?it/s]"
      ]
     },
     "metadata": {},
     "output_type": "display_data"
    },
    {
     "name": "stderr",
     "output_type": "stream",
     "text": [
      "2025-03-23 14:14:22,919 INFO: Generating image for scene 1...\n",
      "2025-03-23 14:16:11,992 INFO: Image saved to storyboards/the_godfather/modified-cfg\\image_1.png\n",
      "2025-03-23 14:16:12,318 INFO: Generating image for scene 2...\n",
      "2025-03-23 14:18:22,348 INFO: Image saved to storyboards/the_godfather/modified-cfg\\image_2.png\n",
      "2025-03-23 14:18:22,527 INFO: Generating image for scene 3...\n",
      "2025-03-23 14:19:50,623 INFO: Image saved to storyboards/the_godfather/modified-cfg\\image_3.png\n",
      "2025-03-23 14:19:50,804 INFO: Generating image for scene 4...\n",
      "2025-03-23 14:21:33,556 INFO: Image saved to storyboards/the_godfather/modified-cfg\\image_4.png\n",
      "2025-03-23 14:21:33,734 INFO: Generating image for scene 5...\n",
      "2025-03-23 14:23:21,518 INFO: Image saved to storyboards/the_godfather/modified-cfg\\image_5.png\n",
      "2025-03-23 14:23:21,692 INFO: Generating image for scene 6...\n",
      "2025-03-23 14:25:21,969 INFO: Image saved to storyboards/the_godfather/modified-cfg\\image_6.png\n",
      "2025-03-23 14:25:22,132 INFO: Generating image for scene 7...\n",
      "2025-03-23 14:27:13,958 INFO: Image saved to storyboards/the_godfather/modified-cfg\\image_7.png\n",
      "2025-03-23 14:27:13,967 INFO: Prompts saved to storyboards/the_godfather/modified-cfg\\prompts.txt\n",
      "2025-03-23 14:27:13,968 INFO: Storyboard generation completed successfully.\n"
     ]
    }
   ],
   "source": [
    "# Approach 3: modified cfg\n",
    "generator.generate_and_save(save_dir=generation_paths[2], generation_type=generation_types[2])"
   ]
  },
  {
   "cell_type": "markdown",
   "metadata": {},
   "source": [
    "# Other Scripts"
   ]
  },
  {
   "cell_type": "markdown",
   "metadata": {},
   "source": [
    "## Titanic"
   ]
  },
  {
   "cell_type": "code",
   "execution_count": null,
   "metadata": {},
   "outputs": [],
   "source": [
    "movie_title = \"Titanic\" # change movie title to any movie in the list of movies\n",
    "script, characters = get_movie_data(movie_title)\n",
    "print(\"Loaded script and character data for movie:\", movie_title)\n",
    "generator = StoryboardGenerator(script, characters, device=device)\n",
    "# Define the paths for saving the generated storyboards\n",
    "movie_title_dir = movie_title.lower().replace(' ', '_')\n",
    "generation_paths = [f\"storyboards/{movie_title_dir}/{generation_type}\" for generation_type in generation_types]"
   ]
  },
  {
   "cell_type": "code",
   "execution_count": null,
   "metadata": {},
   "outputs": [],
   "source": [
    "# Approach 1: unique prompt\n",
    "generator.generate_and_save(save_dir=generation_paths[0], generation_type=generation_types[0])"
   ]
  },
  {
   "cell_type": "code",
   "execution_count": null,
   "metadata": {},
   "outputs": [],
   "source": [
    "# Approach 2: prompt with weighted embeddings\n",
    "generator.generate_and_save(save_dir=generation_paths[1], generation_type=generation_types[1])"
   ]
  },
  {
   "cell_type": "code",
   "execution_count": null,
   "metadata": {},
   "outputs": [],
   "source": [
    "# Approach 3: modified cfg\n",
    "generator.generate_and_save(save_dir=generation_paths[2], generation_type=generation_types[2])"
   ]
  },
  {
   "cell_type": "markdown",
   "metadata": {},
   "source": [
    "## The Dictator"
   ]
  },
  {
   "cell_type": "code",
   "execution_count": null,
   "metadata": {},
   "outputs": [],
   "source": [
    "movie_title = \"The Dictator\" # change movie title to any movie in the list of movies\n",
    "script, characters = get_movie_data(movie_title)\n",
    "print(\"Loaded script and character data for movie:\", movie_title)\n",
    "generator = StoryboardGenerator(script, characters, device=device)\n",
    "# Define the paths for saving the generated storyboards\n",
    "movie_title_dir = movie_title.lower().replace(' ', '_')\n",
    "generation_paths = [f\"storyboards/{movie_title_dir}/{generation_type}\" for generation_type in generation_types]"
   ]
  },
  {
   "cell_type": "code",
   "execution_count": null,
   "metadata": {},
   "outputs": [],
   "source": [
    "# Approach 1: unique prompt\n",
    "generator.generate_and_save(save_dir=generation_paths[0], generation_type=generation_types[0])"
   ]
  },
  {
   "cell_type": "code",
   "execution_count": null,
   "metadata": {},
   "outputs": [],
   "source": [
    "# Approach 2: prompt with weighted embeddings\n",
    "generator.generate_and_save(save_dir=generation_paths[1], generation_type=generation_types[1])"
   ]
  },
  {
   "cell_type": "code",
   "execution_count": null,
   "metadata": {},
   "outputs": [],
   "source": [
    "# Approach 3: modified cfg\n",
    "generator.generate_and_save(save_dir=generation_paths[2], generation_type=generation_types[2])"
   ]
  },
  {
   "cell_type": "markdown",
   "metadata": {},
   "source": [
    "## Oppenheimer"
   ]
  },
  {
   "cell_type": "code",
   "execution_count": null,
   "metadata": {},
   "outputs": [],
   "source": [
    "movie_title = \"Oppenheimer\" # change movie title to any movie in the list of movies\n",
    "script, characters = get_movie_data(movie_title)\n",
    "print(\"Loaded script and character data for movie:\", movie_title)\n",
    "generator = StoryboardGenerator(script, characters, device=device)\n",
    "# Define the paths for saving the generated storyboards\n",
    "movie_title_dir = movie_title.lower().replace(' ', '_')\n",
    "generation_paths = [f\"storyboards/{movie_title_dir}/{generation_type}\" for generation_type in generation_types]"
   ]
  },
  {
   "cell_type": "code",
   "execution_count": null,
   "metadata": {},
   "outputs": [],
   "source": [
    "# Approach 1: unique prompt\n",
    "generator.generate_and_save(save_dir=generation_paths[0], generation_type=generation_types[0])"
   ]
  },
  {
   "cell_type": "code",
   "execution_count": null,
   "metadata": {},
   "outputs": [],
   "source": [
    "# Approach 2: prompt with weighted embeddings\n",
    "generator.generate_and_save(save_dir=generation_paths[1], generation_type=generation_types[1])"
   ]
  },
  {
   "cell_type": "code",
   "execution_count": null,
   "metadata": {},
   "outputs": [],
   "source": [
    "# Approach 3: modified cfg\n",
    "generator.generate_and_save(save_dir=generation_paths[2], generation_type=generation_types[2])"
   ]
  }
 ],
 "metadata": {
  "kernelspec": {
   "display_name": "mldl-ecole",
   "language": "python",
   "name": "python3"
  },
  "language_info": {
   "codemirror_mode": {
    "name": "ipython",
    "version": 3
   },
   "file_extension": ".py",
   "mimetype": "text/x-python",
   "name": "python",
   "nbconvert_exporter": "python",
   "pygments_lexer": "ipython3",
   "version": "3.11.10"
  }
 },
 "nbformat": 4,
 "nbformat_minor": 2
}
