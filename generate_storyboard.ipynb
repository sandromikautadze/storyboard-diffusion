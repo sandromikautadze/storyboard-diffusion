{
 "cells": [
  {
   "cell_type": "markdown",
   "metadata": {},
   "source": [
    "# Preamble"
   ]
  },
  {
   "cell_type": "code",
   "execution_count": 1,
   "metadata": {},
   "outputs": [],
   "source": [
    "from src.storyboard_generator import StoryboardGenerator\n",
    "from src.movies import get_movie_data\n",
    "import torch \n",
    "device = torch.device(\"cuda\" if torch.cuda.is_available() else \"cpu\")\n",
    "generation_types = [\"unique\", \"prompt_weights\", \"modified-cfg\"] # Define the available generation approaches"
   ]
  },
  {
   "cell_type": "markdown",
   "metadata": {},
   "source": [
    "# Example - The Godfather"
   ]
  },
  {
   "cell_type": "markdown",
   "metadata": {},
   "source": [
    "The example below runs with the script of \"The Godfather\". The results are saved in `storyboards/the_godfather`."
   ]
  },
  {
   "cell_type": "markdown",
   "metadata": {},
   "source": [
    "## Data"
   ]
  },
  {
   "cell_type": "markdown",
   "metadata": {},
   "source": [
    "You either load a predefined movie script and its character descriptions, or you can manually input them. \n",
    "\n",
    "Predefined movies are \"The Godfather\", \"Titanic\", \"The Dictator\", \"Oppenheimer\" and the corresponding data can be accessed with with `get_movie_data` function from the `movies.py` module. The script must be a string, while characters must be in a dictionary with a key for every character in the script, each with specific attributes (see code below)."
   ]
  },
  {
   "cell_type": "code",
   "execution_count": null,
   "metadata": {},
   "outputs": [
    {
     "name": "stdout",
     "output_type": "stream",
     "text": [
      "Loaded script and character data for movie: The Godfather\n"
     ]
    }
   ],
   "source": [
    "# PREDEFINED SCRIPT\n",
    "movie_title = \"The Godfather\" # change movie title to any movie in the list of movies\n",
    "script, characters = get_movie_data(movie_title)\n",
    "print(\"Loaded script and character data for movie:\", movie_title)\n",
    "\n",
    "# # USE CODE BELOW TO USE A CUSTOM SCRIPT AND CHARACTER DESCRIPTIONS AND COMMENT OUT THE ABOVE CODE\n",
    "# # MANUALLY SPECIFY DATA\n",
    "# movie_title = \"My Custom Movie\"\n",
    "# script = \"\"\"\n",
    "# INSERT YOUR SCRIPT HERE.\n",
    "# \"\"\"\n",
    "# characters = {\n",
    "#     # Provide a key for each character with their attributes.\n",
    "#     \"Character Name\": {\n",
    "#         \"age\": \"example age\",\n",
    "#         \"gender\": \"example gender\",\n",
    "#         \"hair\": \"example hair description\",\n",
    "#         \"clothing\": \"example clothing\",\n",
    "#         \"body_type\": \"example body type\",\n",
    "#         \"ethnicity\": \"example ethnicity\"\n",
    "#         # Optional\n",
    "#         # \"facial_hair\": \"example facial hair description\"\n",
    "#         # \"accessories\": \"example accessories\",\n",
    "#     },\n",
    "#     # Add additional characters as needed.\n",
    "# }\n",
    "# print(\"Manually specified script and character data for movie:\", movie_title)"
   ]
  },
  {
   "cell_type": "markdown",
   "metadata": {},
   "source": [
    "## Generation"
   ]
  },
  {
   "cell_type": "code",
   "execution_count": 4,
   "metadata": {},
   "outputs": [],
   "source": [
    "# Instantiate the storyboard generator with the loaded script and characters.\n",
    "generator = StoryboardGenerator(script, characters, device=device)"
   ]
  },
  {
   "cell_type": "code",
   "execution_count": null,
   "metadata": {},
   "outputs": [],
   "source": [
    "# Define the paths for saving the generated storyboards\n",
    "movie_title_dir = movie_title.lower().replace(' ', '_')\n",
    "generation_paths = [f\"storyboards/{movie_title_dir}/{generation_type}\" for generation_type in generation_types]"
   ]
  },
  {
   "cell_type": "code",
   "execution_count": 6,
   "metadata": {},
   "outputs": [
    {
     "data": {
      "application/vnd.jupyter.widget-view+json": {
       "model_id": "429cd4248c7341b2a7a5ceec0bff6be9",
       "version_major": 2,
       "version_minor": 0
      },
      "text/plain": [
       "Loading pipeline components...:   0%|          | 0/7 [00:00<?, ?it/s]"
      ]
     },
     "metadata": {},
     "output_type": "display_data"
    },
    {
     "name": "stderr",
     "output_type": "stream",
     "text": [
      "2025-03-23 14:08:15,710 INFO: Generating formatted prompts...\n",
      "2025-03-23 14:08:29,781 INFO: Formatted prompts generated successfully.\n"
     ]
    },
    {
     "data": {
      "application/vnd.jupyter.widget-view+json": {
       "model_id": "0b0c210501d14356a26a305363ffe135",
       "version_major": 2,
       "version_minor": 0
      },
      "text/plain": [
       "  0%|          | 0/50 [00:00<?, ?it/s]"
      ]
     },
     "metadata": {},
     "output_type": "display_data"
    },
    {
     "name": "stderr",
     "output_type": "stream",
     "text": [
      "2025-03-23 14:08:50,163 INFO: Image saved to storyboards/the_godfather/unique\\image_1.png\n",
      "Token indices sequence length is longer than the specified maximum sequence length for this model (78 > 77). Running this sequence through the model will result in indexing errors\n",
      "The following part of your input was truncated because CLIP can only handle sequences up to 77 tokens: ['.']\n"
     ]
    },
    {
     "data": {
      "application/vnd.jupyter.widget-view+json": {
       "model_id": "8ed00314b1fd4731869a34ef12911546",
       "version_major": 2,
       "version_minor": 0
      },
      "text/plain": [
       "  0%|          | 0/50 [00:00<?, ?it/s]"
      ]
     },
     "metadata": {},
     "output_type": "display_data"
    },
    {
     "name": "stderr",
     "output_type": "stream",
     "text": [
      "2025-03-23 14:09:09,815 INFO: Image saved to storyboards/the_godfather/unique\\image_2.png\n"
     ]
    },
    {
     "data": {
      "application/vnd.jupyter.widget-view+json": {
       "model_id": "6aa58d8fe82a4524b89c986024d2838c",
       "version_major": 2,
       "version_minor": 0
      },
      "text/plain": [
       "  0%|          | 0/50 [00:00<?, ?it/s]"
      ]
     },
     "metadata": {},
     "output_type": "display_data"
    },
    {
     "name": "stderr",
     "output_type": "stream",
     "text": [
      "2025-03-23 14:09:31,444 INFO: Image saved to storyboards/the_godfather/unique\\image_3.png\n"
     ]
    },
    {
     "data": {
      "application/vnd.jupyter.widget-view+json": {
       "model_id": "d3dcd687ac4f460c84031d7bf1c5bb01",
       "version_major": 2,
       "version_minor": 0
      },
      "text/plain": [
       "  0%|          | 0/50 [00:00<?, ?it/s]"
      ]
     },
     "metadata": {},
     "output_type": "display_data"
    },
    {
     "name": "stderr",
     "output_type": "stream",
     "text": [
      "2025-03-23 14:09:53,878 INFO: Image saved to storyboards/the_godfather/unique\\image_4.png\n"
     ]
    },
    {
     "data": {
      "application/vnd.jupyter.widget-view+json": {
       "model_id": "2a54b63f07994b17824f94594266bdd3",
       "version_major": 2,
       "version_minor": 0
      },
      "text/plain": [
       "  0%|          | 0/50 [00:00<?, ?it/s]"
      ]
     },
     "metadata": {},
     "output_type": "display_data"
    },
    {
     "name": "stderr",
     "output_type": "stream",
     "text": [
      "2025-03-23 14:10:16,780 INFO: Image saved to storyboards/the_godfather/unique\\image_5.png\n",
      "The following part of your input was truncated because CLIP can only handle sequences up to 77 tokens: ['instructions about hospital visit .']\n"
     ]
    },
    {
     "data": {
      "application/vnd.jupyter.widget-view+json": {
       "model_id": "9ac7a904a908433f97d742121351dbe3",
       "version_major": 2,
       "version_minor": 0
      },
      "text/plain": [
       "  0%|          | 0/50 [00:00<?, ?it/s]"
      ]
     },
     "metadata": {},
     "output_type": "display_data"
    },
    {
     "name": "stderr",
     "output_type": "stream",
     "text": [
      "2025-03-23 14:10:40,189 INFO: Image saved to storyboards/the_godfather/unique\\image_6.png\n"
     ]
    },
    {
     "data": {
      "application/vnd.jupyter.widget-view+json": {
       "model_id": "1956fc9cb7a443d99b6916a3ac8f4a47",
       "version_major": 2,
       "version_minor": 0
      },
      "text/plain": [
       "  0%|          | 0/50 [00:00<?, ?it/s]"
      ]
     },
     "metadata": {},
     "output_type": "display_data"
    },
    {
     "name": "stderr",
     "output_type": "stream",
     "text": [
      "2025-03-23 14:11:03,792 INFO: Image saved to storyboards/the_godfather/unique\\image_7.png\n",
      "2025-03-23 14:11:03,795 INFO: Prompts saved to storyboards/the_godfather/unique\\prompts.txt\n",
      "2025-03-23 14:11:03,796 INFO: Storyboard generation completed successfully.\n"
     ]
    }
   ],
   "source": [
    "# Generate and save images for each generation approach.\n",
    "# Approach 1: unique prompt\n",
    "generator.generate_and_save(save_dir=generation_paths[0], generation_type=generation_types[0])"
   ]
  },
  {
   "cell_type": "code",
   "execution_count": 7,
   "metadata": {},
   "outputs": [
    {
     "data": {
      "application/vnd.jupyter.widget-view+json": {
       "model_id": "2c8bf0a229b04e1f9c21fca0e9df6d62",
       "version_major": 2,
       "version_minor": 0
      },
      "text/plain": [
       "Loading pipeline components...:   0%|          | 0/7 [00:00<?, ?it/s]"
      ]
     },
     "metadata": {},
     "output_type": "display_data"
    },
    {
     "data": {
      "application/vnd.jupyter.widget-view+json": {
       "model_id": "ab34704765784350a2237e7bfa9d2a1e",
       "version_major": 2,
       "version_minor": 0
      },
      "text/plain": [
       "  0%|          | 0/50 [00:00<?, ?it/s]"
      ]
     },
     "metadata": {},
     "output_type": "display_data"
    },
    {
     "name": "stderr",
     "output_type": "stream",
     "text": [
      "2025-03-23 14:11:36,574 INFO: Image saved to storyboards/the_godfather/prompt_weights\\image_1.png\n"
     ]
    },
    {
     "data": {
      "application/vnd.jupyter.widget-view+json": {
       "model_id": "53508bcdad9740f09423635acdf9923f",
       "version_major": 2,
       "version_minor": 0
      },
      "text/plain": [
       "  0%|          | 0/50 [00:00<?, ?it/s]"
      ]
     },
     "metadata": {},
     "output_type": "display_data"
    },
    {
     "name": "stderr",
     "output_type": "stream",
     "text": [
      "2025-03-23 14:12:00,789 INFO: Image saved to storyboards/the_godfather/prompt_weights\\image_2.png\n"
     ]
    },
    {
     "data": {
      "application/vnd.jupyter.widget-view+json": {
       "model_id": "4d7388562c9c4bcdae50db7b5d8a6b78",
       "version_major": 2,
       "version_minor": 0
      },
      "text/plain": [
       "  0%|          | 0/50 [00:00<?, ?it/s]"
      ]
     },
     "metadata": {},
     "output_type": "display_data"
    },
    {
     "name": "stderr",
     "output_type": "stream",
     "text": [
      "2025-03-23 14:12:25,696 INFO: Image saved to storyboards/the_godfather/prompt_weights\\image_3.png\n"
     ]
    },
    {
     "data": {
      "application/vnd.jupyter.widget-view+json": {
       "model_id": "58783793669f40e8b3c777da39408593",
       "version_major": 2,
       "version_minor": 0
      },
      "text/plain": [
       "  0%|          | 0/50 [00:00<?, ?it/s]"
      ]
     },
     "metadata": {},
     "output_type": "display_data"
    },
    {
     "name": "stderr",
     "output_type": "stream",
     "text": [
      "2025-03-23 14:12:52,032 INFO: Image saved to storyboards/the_godfather/prompt_weights\\image_4.png\n"
     ]
    },
    {
     "data": {
      "application/vnd.jupyter.widget-view+json": {
       "model_id": "396646b46d094202a78844c1f68042ae",
       "version_major": 2,
       "version_minor": 0
      },
      "text/plain": [
       "  0%|          | 0/50 [00:00<?, ?it/s]"
      ]
     },
     "metadata": {},
     "output_type": "display_data"
    },
    {
     "name": "stderr",
     "output_type": "stream",
     "text": [
      "2025-03-23 14:13:17,762 INFO: Image saved to storyboards/the_godfather/prompt_weights\\image_5.png\n"
     ]
    },
    {
     "data": {
      "application/vnd.jupyter.widget-view+json": {
       "model_id": "4232518f85d247999660e8d0da5b990c",
       "version_major": 2,
       "version_minor": 0
      },
      "text/plain": [
       "  0%|          | 0/50 [00:00<?, ?it/s]"
      ]
     },
     "metadata": {},
     "output_type": "display_data"
    },
    {
     "name": "stderr",
     "output_type": "stream",
     "text": [
      "2025-03-23 14:13:43,608 INFO: Image saved to storyboards/the_godfather/prompt_weights\\image_6.png\n"
     ]
    },
    {
     "data": {
      "application/vnd.jupyter.widget-view+json": {
       "model_id": "1459fb0decdd41cb8dfb0bfc5909efdd",
       "version_major": 2,
       "version_minor": 0
      },
      "text/plain": [
       "  0%|          | 0/50 [00:00<?, ?it/s]"
      ]
     },
     "metadata": {},
     "output_type": "display_data"
    },
    {
     "name": "stderr",
     "output_type": "stream",
     "text": [
      "2025-03-23 14:14:09,033 INFO: Image saved to storyboards/the_godfather/prompt_weights\\image_7.png\n",
      "2025-03-23 14:14:09,041 INFO: Prompts saved to storyboards/the_godfather/prompt_weights\\prompts.txt\n",
      "2025-03-23 14:14:09,041 INFO: Storyboard generation completed successfully.\n"
     ]
    }
   ],
   "source": [
    "# Approach 2: prompt with weighted embeddings\n",
    "generator.generate_and_save(save_dir=generation_paths[1], generation_type=generation_types[1])"
   ]
  },
  {
   "cell_type": "code",
   "execution_count": 8,
   "metadata": {},
   "outputs": [
    {
     "data": {
      "application/vnd.jupyter.widget-view+json": {
       "model_id": "68af6986fb954a8a98cf0d075500df05",
       "version_major": 2,
       "version_minor": 0
      },
      "text/plain": [
       "Loading pipeline components...:   0%|          | 0/7 [00:00<?, ?it/s]"
      ]
     },
     "metadata": {},
     "output_type": "display_data"
    },
    {
     "name": "stderr",
     "output_type": "stream",
     "text": [
      "2025-03-23 14:14:22,919 INFO: Generating image for scene 1...\n",
      "2025-03-23 14:16:11,992 INFO: Image saved to storyboards/the_godfather/modified-cfg\\image_1.png\n",
      "2025-03-23 14:16:12,318 INFO: Generating image for scene 2...\n",
      "2025-03-23 14:18:22,348 INFO: Image saved to storyboards/the_godfather/modified-cfg\\image_2.png\n",
      "2025-03-23 14:18:22,527 INFO: Generating image for scene 3...\n",
      "2025-03-23 14:19:50,623 INFO: Image saved to storyboards/the_godfather/modified-cfg\\image_3.png\n",
      "2025-03-23 14:19:50,804 INFO: Generating image for scene 4...\n",
      "2025-03-23 14:21:33,556 INFO: Image saved to storyboards/the_godfather/modified-cfg\\image_4.png\n",
      "2025-03-23 14:21:33,734 INFO: Generating image for scene 5...\n",
      "2025-03-23 14:23:21,518 INFO: Image saved to storyboards/the_godfather/modified-cfg\\image_5.png\n",
      "2025-03-23 14:23:21,692 INFO: Generating image for scene 6...\n",
      "2025-03-23 14:25:21,969 INFO: Image saved to storyboards/the_godfather/modified-cfg\\image_6.png\n",
      "2025-03-23 14:25:22,132 INFO: Generating image for scene 7...\n",
      "2025-03-23 14:27:13,958 INFO: Image saved to storyboards/the_godfather/modified-cfg\\image_7.png\n",
      "2025-03-23 14:27:13,967 INFO: Prompts saved to storyboards/the_godfather/modified-cfg\\prompts.txt\n",
      "2025-03-23 14:27:13,968 INFO: Storyboard generation completed successfully.\n"
     ]
    }
   ],
   "source": [
    "# Approach 3: modified cfg\n",
    "generator.generate_and_save(save_dir=generation_paths[2], generation_type=generation_types[2])"
   ]
  },
  {
   "cell_type": "markdown",
   "metadata": {},
   "source": [
    "# Other Examples"
   ]
  },
  {
   "cell_type": "markdown",
   "metadata": {},
   "source": [
    "## Titanic"
   ]
  },
  {
   "cell_type": "code",
   "execution_count": 7,
   "metadata": {},
   "outputs": [
    {
     "name": "stdout",
     "output_type": "stream",
     "text": [
      "Loaded script and character data for movie: Titanic\n"
     ]
    }
   ],
   "source": [
    "movie_title = \"Titanic\" # change movie title to any movie in the list of movies\n",
    "script, characters = get_movie_data(movie_title)\n",
    "print(\"Loaded script and character data for movie:\", movie_title)\n",
    "generator = StoryboardGenerator(script, characters, device=device)\n",
    "# Define the paths for saving the generated storyboards\n",
    "movie_title_dir = movie_title.lower().replace(' ', '_')\n",
    "generation_paths = [f\"storyboards/{movie_title_dir}/{generation_type}\" for generation_type in generation_types]"
   ]
  },
  {
   "cell_type": "code",
   "execution_count": 8,
   "metadata": {},
   "outputs": [
    {
     "data": {
      "application/vnd.jupyter.widget-view+json": {
       "model_id": "a089e6122b28431e961ab7a321c3bc83",
       "version_major": 2,
       "version_minor": 0
      },
      "text/plain": [
       "Loading pipeline components...:   0%|          | 0/7 [00:00<?, ?it/s]"
      ]
     },
     "metadata": {},
     "output_type": "display_data"
    },
    {
     "name": "stderr",
     "output_type": "stream",
     "text": [
      "2025-03-23 22:15:07,656 INFO: Generating formatted prompts...\n",
      "2025-03-23 22:15:19,463 INFO: Formatted prompts generated successfully.\n"
     ]
    },
    {
     "data": {
      "application/vnd.jupyter.widget-view+json": {
       "model_id": "8d0ca69cbbd9460aaa10cd5669027512",
       "version_major": 2,
       "version_minor": 0
      },
      "text/plain": [
       "  0%|          | 0/50 [00:00<?, ?it/s]"
      ]
     },
     "metadata": {},
     "output_type": "display_data"
    },
    {
     "name": "stderr",
     "output_type": "stream",
     "text": [
      "2025-03-23 22:15:40,354 INFO: Image saved to storyboards/titanic/unique\\image_1.png\n"
     ]
    },
    {
     "data": {
      "application/vnd.jupyter.widget-view+json": {
       "model_id": "a26e4fa983b045898b8e2ecb046a557f",
       "version_major": 2,
       "version_minor": 0
      },
      "text/plain": [
       "  0%|          | 0/50 [00:00<?, ?it/s]"
      ]
     },
     "metadata": {},
     "output_type": "display_data"
    },
    {
     "name": "stderr",
     "output_type": "stream",
     "text": [
      "2025-03-23 22:16:00,211 INFO: Image saved to storyboards/titanic/unique\\image_2.png\n"
     ]
    },
    {
     "data": {
      "application/vnd.jupyter.widget-view+json": {
       "model_id": "e150b84267c849dfa048fd2e9c3e192b",
       "version_major": 2,
       "version_minor": 0
      },
      "text/plain": [
       "  0%|          | 0/50 [00:00<?, ?it/s]"
      ]
     },
     "metadata": {},
     "output_type": "display_data"
    },
    {
     "name": "stderr",
     "output_type": "stream",
     "text": [
      "2025-03-23 22:16:20,941 INFO: Image saved to storyboards/titanic/unique\\image_3.png\n"
     ]
    },
    {
     "data": {
      "application/vnd.jupyter.widget-view+json": {
       "model_id": "b4edd640ef87498384eca8e80069a7ff",
       "version_major": 2,
       "version_minor": 0
      },
      "text/plain": [
       "  0%|          | 0/50 [00:00<?, ?it/s]"
      ]
     },
     "metadata": {},
     "output_type": "display_data"
    },
    {
     "name": "stderr",
     "output_type": "stream",
     "text": [
      "2025-03-23 22:16:42,323 INFO: Image saved to storyboards/titanic/unique\\image_4.png\n"
     ]
    },
    {
     "data": {
      "application/vnd.jupyter.widget-view+json": {
       "model_id": "88bab38242e7479abd6cbb509b619a0a",
       "version_major": 2,
       "version_minor": 0
      },
      "text/plain": [
       "  0%|          | 0/50 [00:00<?, ?it/s]"
      ]
     },
     "metadata": {},
     "output_type": "display_data"
    },
    {
     "name": "stderr",
     "output_type": "stream",
     "text": [
      "2025-03-23 22:17:04,499 INFO: Image saved to storyboards/titanic/unique\\image_5.png\n"
     ]
    },
    {
     "data": {
      "application/vnd.jupyter.widget-view+json": {
       "model_id": "f8d290c5465b4a57bc65e50a2e20b21c",
       "version_major": 2,
       "version_minor": 0
      },
      "text/plain": [
       "  0%|          | 0/50 [00:00<?, ?it/s]"
      ]
     },
     "metadata": {},
     "output_type": "display_data"
    },
    {
     "name": "stderr",
     "output_type": "stream",
     "text": [
      "2025-03-23 22:17:27,392 INFO: Image saved to storyboards/titanic/unique\\image_6.png\n"
     ]
    },
    {
     "data": {
      "application/vnd.jupyter.widget-view+json": {
       "model_id": "06cb976b351544d39d9c462fdc09215e",
       "version_major": 2,
       "version_minor": 0
      },
      "text/plain": [
       "  0%|          | 0/50 [00:00<?, ?it/s]"
      ]
     },
     "metadata": {},
     "output_type": "display_data"
    },
    {
     "name": "stderr",
     "output_type": "stream",
     "text": [
      "2025-03-23 22:17:50,300 INFO: Image saved to storyboards/titanic/unique\\image_7.png\n"
     ]
    },
    {
     "data": {
      "application/vnd.jupyter.widget-view+json": {
       "model_id": "265c98b7bd444cad800f2cf5588fdbfa",
       "version_major": 2,
       "version_minor": 0
      },
      "text/plain": [
       "  0%|          | 0/50 [00:00<?, ?it/s]"
      ]
     },
     "metadata": {},
     "output_type": "display_data"
    },
    {
     "name": "stderr",
     "output_type": "stream",
     "text": [
      "2025-03-23 22:18:13,791 INFO: Image saved to storyboards/titanic/unique\\image_8.png\n"
     ]
    },
    {
     "data": {
      "application/vnd.jupyter.widget-view+json": {
       "model_id": "d85b2c3745c44a7b828168a9a896c9c0",
       "version_major": 2,
       "version_minor": 0
      },
      "text/plain": [
       "  0%|          | 0/50 [00:00<?, ?it/s]"
      ]
     },
     "metadata": {},
     "output_type": "display_data"
    },
    {
     "name": "stderr",
     "output_type": "stream",
     "text": [
      "2025-03-23 22:18:37,783 INFO: Image saved to storyboards/titanic/unique\\image_9.png\n"
     ]
    },
    {
     "data": {
      "application/vnd.jupyter.widget-view+json": {
       "model_id": "bfdc06682eeb45bd8fb2a335155f3a02",
       "version_major": 2,
       "version_minor": 0
      },
      "text/plain": [
       "  0%|          | 0/50 [00:00<?, ?it/s]"
      ]
     },
     "metadata": {},
     "output_type": "display_data"
    },
    {
     "name": "stderr",
     "output_type": "stream",
     "text": [
      "2025-03-23 22:19:02,339 INFO: Image saved to storyboards/titanic/unique\\image_10.png\n",
      "2025-03-23 22:19:02,343 INFO: Prompts saved to storyboards/titanic/unique\\prompts.txt\n",
      "2025-03-23 22:19:02,345 INFO: Storyboard generation completed successfully.\n"
     ]
    }
   ],
   "source": [
    "# Approach 1: unique prompt\n",
    "generator.generate_and_save(save_dir=generation_paths[0], generation_type=generation_types[0])"
   ]
  },
  {
   "cell_type": "code",
   "execution_count": 11,
   "metadata": {},
   "outputs": [
    {
     "data": {
      "application/vnd.jupyter.widget-view+json": {
       "model_id": "c14a959396cd47cfa1e2faa5923a42b8",
       "version_major": 2,
       "version_minor": 0
      },
      "text/plain": [
       "Loading pipeline components...:   0%|          | 0/7 [00:00<?, ?it/s]"
      ]
     },
     "metadata": {},
     "output_type": "display_data"
    },
    {
     "data": {
      "application/vnd.jupyter.widget-view+json": {
       "model_id": "a4e7494cf99c4512a446336de07046b2",
       "version_major": 2,
       "version_minor": 0
      },
      "text/plain": [
       "  0%|          | 0/50 [00:00<?, ?it/s]"
      ]
     },
     "metadata": {},
     "output_type": "display_data"
    },
    {
     "name": "stderr",
     "output_type": "stream",
     "text": [
      "2025-03-23 22:40:07,910 INFO: Image saved to storyboards/titanic/prompt_weights\\image_1.png\n"
     ]
    },
    {
     "data": {
      "application/vnd.jupyter.widget-view+json": {
       "model_id": "2d2f44fe7b804020925f3ea14d64a299",
       "version_major": 2,
       "version_minor": 0
      },
      "text/plain": [
       "  0%|          | 0/50 [00:00<?, ?it/s]"
      ]
     },
     "metadata": {},
     "output_type": "display_data"
    },
    {
     "name": "stderr",
     "output_type": "stream",
     "text": [
      "2025-03-23 22:40:31,634 INFO: Image saved to storyboards/titanic/prompt_weights\\image_2.png\n"
     ]
    },
    {
     "data": {
      "application/vnd.jupyter.widget-view+json": {
       "model_id": "6eff805371ee443a9152911114d3864c",
       "version_major": 2,
       "version_minor": 0
      },
      "text/plain": [
       "  0%|          | 0/50 [00:00<?, ?it/s]"
      ]
     },
     "metadata": {},
     "output_type": "display_data"
    },
    {
     "name": "stderr",
     "output_type": "stream",
     "text": [
      "2025-03-23 22:40:58,527 INFO: Image saved to storyboards/titanic/prompt_weights\\image_3.png\n"
     ]
    },
    {
     "data": {
      "application/vnd.jupyter.widget-view+json": {
       "model_id": "ab92ec3a705c4dd29551cc410fc1e5cf",
       "version_major": 2,
       "version_minor": 0
      },
      "text/plain": [
       "  0%|          | 0/50 [00:00<?, ?it/s]"
      ]
     },
     "metadata": {},
     "output_type": "display_data"
    },
    {
     "name": "stderr",
     "output_type": "stream",
     "text": [
      "Potential NSFW content was detected in one or more images. A black image will be returned instead. Try again with a different prompt and/or seed.\n",
      "2025-03-23 22:41:26,342 INFO: Image saved to storyboards/titanic/prompt_weights\\image_4.png\n"
     ]
    },
    {
     "data": {
      "application/vnd.jupyter.widget-view+json": {
       "model_id": "d2e3dd41175f440d95d18046a5cf15e3",
       "version_major": 2,
       "version_minor": 0
      },
      "text/plain": [
       "  0%|          | 0/50 [00:00<?, ?it/s]"
      ]
     },
     "metadata": {},
     "output_type": "display_data"
    },
    {
     "name": "stderr",
     "output_type": "stream",
     "text": [
      "2025-03-23 22:41:52,867 INFO: Image saved to storyboards/titanic/prompt_weights\\image_5.png\n"
     ]
    },
    {
     "data": {
      "application/vnd.jupyter.widget-view+json": {
       "model_id": "723d3d8a0f0c4e03b20454063c29a8c5",
       "version_major": 2,
       "version_minor": 0
      },
      "text/plain": [
       "  0%|          | 0/50 [00:00<?, ?it/s]"
      ]
     },
     "metadata": {},
     "output_type": "display_data"
    },
    {
     "name": "stderr",
     "output_type": "stream",
     "text": [
      "2025-03-23 22:42:19,378 INFO: Image saved to storyboards/titanic/prompt_weights\\image_6.png\n"
     ]
    },
    {
     "data": {
      "application/vnd.jupyter.widget-view+json": {
       "model_id": "7b9eb886ef69492db0e22f3c27d23ea8",
       "version_major": 2,
       "version_minor": 0
      },
      "text/plain": [
       "  0%|          | 0/50 [00:00<?, ?it/s]"
      ]
     },
     "metadata": {},
     "output_type": "display_data"
    },
    {
     "name": "stderr",
     "output_type": "stream",
     "text": [
      "Potential NSFW content was detected in one or more images. A black image will be returned instead. Try again with a different prompt and/or seed.\n",
      "2025-03-23 22:42:51,031 INFO: Image saved to storyboards/titanic/prompt_weights\\image_7.png\n"
     ]
    },
    {
     "data": {
      "application/vnd.jupyter.widget-view+json": {
       "model_id": "16873cb58ff84c17af10e0b02cf14fd0",
       "version_major": 2,
       "version_minor": 0
      },
      "text/plain": [
       "  0%|          | 0/50 [00:00<?, ?it/s]"
      ]
     },
     "metadata": {},
     "output_type": "display_data"
    },
    {
     "name": "stderr",
     "output_type": "stream",
     "text": [
      "Potential NSFW content was detected in one or more images. A black image will be returned instead. Try again with a different prompt and/or seed.\n",
      "2025-03-23 22:43:19,942 INFO: Image saved to storyboards/titanic/prompt_weights\\image_8.png\n"
     ]
    },
    {
     "data": {
      "application/vnd.jupyter.widget-view+json": {
       "model_id": "5f647a161b05469886db2c2cd17cbfc1",
       "version_major": 2,
       "version_minor": 0
      },
      "text/plain": [
       "  0%|          | 0/50 [00:00<?, ?it/s]"
      ]
     },
     "metadata": {},
     "output_type": "display_data"
    },
    {
     "name": "stderr",
     "output_type": "stream",
     "text": [
      "Potential NSFW content was detected in one or more images. A black image will be returned instead. Try again with a different prompt and/or seed.\n",
      "2025-03-23 22:43:48,756 INFO: Image saved to storyboards/titanic/prompt_weights\\image_9.png\n"
     ]
    },
    {
     "data": {
      "application/vnd.jupyter.widget-view+json": {
       "model_id": "e500766b5f57493abab132b441920404",
       "version_major": 2,
       "version_minor": 0
      },
      "text/plain": [
       "  0%|          | 0/50 [00:00<?, ?it/s]"
      ]
     },
     "metadata": {},
     "output_type": "display_data"
    },
    {
     "name": "stderr",
     "output_type": "stream",
     "text": [
      "2025-03-23 22:44:20,317 INFO: Image saved to storyboards/titanic/prompt_weights\\image_10.png\n",
      "2025-03-23 22:44:20,323 INFO: Prompts saved to storyboards/titanic/prompt_weights\\prompts.txt\n",
      "2025-03-23 22:44:20,324 INFO: Storyboard generation completed successfully.\n"
     ]
    }
   ],
   "source": [
    "# Approach 2: prompt with weighted embeddings\n",
    "generator.generate_and_save(save_dir=generation_paths[1], generation_type=generation_types[1])"
   ]
  },
  {
   "cell_type": "code",
   "execution_count": 10,
   "metadata": {},
   "outputs": [
    {
     "data": {
      "application/vnd.jupyter.widget-view+json": {
       "model_id": "63b6225f9eb6458b82e7e50aaf1de32f",
       "version_major": 2,
       "version_minor": 0
      },
      "text/plain": [
       "Loading pipeline components...:   0%|          | 0/7 [00:00<?, ?it/s]"
      ]
     },
     "metadata": {},
     "output_type": "display_data"
    },
    {
     "name": "stderr",
     "output_type": "stream",
     "text": [
      "2025-03-23 22:23:47,256 INFO: Generating image for scene 1...\n",
      "2025-03-23 22:25:09,571 INFO: Image saved to storyboards/titanic/modified-cfg\\image_1.png\n",
      "2025-03-23 22:25:09,738 INFO: Generating image for scene 2...\n",
      "2025-03-23 22:26:36,967 INFO: Image saved to storyboards/titanic/modified-cfg\\image_2.png\n",
      "2025-03-23 22:26:37,120 INFO: Generating image for scene 3...\n",
      "2025-03-23 22:28:07,015 INFO: Image saved to storyboards/titanic/modified-cfg\\image_3.png\n",
      "2025-03-23 22:28:07,182 INFO: Generating image for scene 4...\n",
      "2025-03-23 22:29:39,176 INFO: Image saved to storyboards/titanic/modified-cfg\\image_4.png\n",
      "2025-03-23 22:29:39,400 INFO: Generating image for scene 5...\n",
      "2025-03-23 22:31:25,000 INFO: Image saved to storyboards/titanic/modified-cfg\\image_5.png\n",
      "2025-03-23 22:31:25,207 INFO: Generating image for scene 6...\n",
      "2025-03-23 22:32:56,746 INFO: Image saved to storyboards/titanic/modified-cfg\\image_6.png\n",
      "2025-03-23 22:32:56,891 INFO: Generating image for scene 7...\n",
      "2025-03-23 22:34:23,985 INFO: Image saved to storyboards/titanic/modified-cfg\\image_7.png\n",
      "2025-03-23 22:34:24,117 INFO: Generating image for scene 8...\n",
      "2025-03-23 22:35:52,411 INFO: Image saved to storyboards/titanic/modified-cfg\\image_8.png\n",
      "2025-03-23 22:35:52,545 INFO: Generating image for scene 9...\n",
      "2025-03-23 22:37:26,195 INFO: Image saved to storyboards/titanic/modified-cfg\\image_9.png\n",
      "2025-03-23 22:37:26,354 INFO: Generating image for scene 10...\n",
      "2025-03-23 22:38:58,391 INFO: Image saved to storyboards/titanic/modified-cfg\\image_10.png\n",
      "2025-03-23 22:38:58,399 INFO: Prompts saved to storyboards/titanic/modified-cfg\\prompts.txt\n",
      "2025-03-23 22:38:58,400 INFO: Storyboard generation completed successfully.\n"
     ]
    }
   ],
   "source": [
    "# Approach 3: modified cfg\n",
    "generator.generate_and_save(save_dir=generation_paths[2], generation_type=generation_types[2])"
   ]
  },
  {
   "cell_type": "markdown",
   "metadata": {},
   "source": [
    "## The Dictator"
   ]
  },
  {
   "cell_type": "code",
   "execution_count": 12,
   "metadata": {},
   "outputs": [
    {
     "name": "stdout",
     "output_type": "stream",
     "text": [
      "Loaded script and character data for movie: The Dictator\n"
     ]
    }
   ],
   "source": [
    "movie_title = \"The Dictator\" # change movie title to any movie in the list of movies\n",
    "script, characters = get_movie_data(movie_title)\n",
    "print(\"Loaded script and character data for movie:\", movie_title)\n",
    "generator = StoryboardGenerator(script, characters, device=device)\n",
    "# Define the paths for saving the generated storyboards\n",
    "movie_title_dir = movie_title.lower().replace(' ', '_')\n",
    "generation_paths = [f\"storyboards/{movie_title_dir}/{generation_type}\" for generation_type in generation_types]"
   ]
  },
  {
   "cell_type": "code",
   "execution_count": 13,
   "metadata": {},
   "outputs": [
    {
     "data": {
      "application/vnd.jupyter.widget-view+json": {
       "model_id": "5566be7821c34126af0a37c8889ba6e1",
       "version_major": 2,
       "version_minor": 0
      },
      "text/plain": [
       "Loading pipeline components...:   0%|          | 0/7 [00:00<?, ?it/s]"
      ]
     },
     "metadata": {},
     "output_type": "display_data"
    },
    {
     "name": "stderr",
     "output_type": "stream",
     "text": [
      "2025-03-23 22:45:23,505 INFO: Generating formatted prompts...\n",
      "2025-03-23 22:45:33,806 INFO: Formatted prompts generated successfully.\n"
     ]
    },
    {
     "data": {
      "application/vnd.jupyter.widget-view+json": {
       "model_id": "f954e4e42d0e4fcbb3740f0cb045320b",
       "version_major": 2,
       "version_minor": 0
      },
      "text/plain": [
       "  0%|          | 0/50 [00:00<?, ?it/s]"
      ]
     },
     "metadata": {},
     "output_type": "display_data"
    },
    {
     "name": "stderr",
     "output_type": "stream",
     "text": [
      "2025-03-23 22:45:53,562 INFO: Image saved to storyboards/the_dictator/unique\\image_1.png\n"
     ]
    },
    {
     "data": {
      "application/vnd.jupyter.widget-view+json": {
       "model_id": "04baf47897604c29b0b1d3a123722300",
       "version_major": 2,
       "version_minor": 0
      },
      "text/plain": [
       "  0%|          | 0/50 [00:00<?, ?it/s]"
      ]
     },
     "metadata": {},
     "output_type": "display_data"
    },
    {
     "name": "stderr",
     "output_type": "stream",
     "text": [
      "2025-03-23 22:46:16,412 INFO: Image saved to storyboards/the_dictator/unique\\image_2.png\n"
     ]
    },
    {
     "data": {
      "application/vnd.jupyter.widget-view+json": {
       "model_id": "0d8be469395e43eeb7ac103deffc7fd8",
       "version_major": 2,
       "version_minor": 0
      },
      "text/plain": [
       "  0%|          | 0/50 [00:00<?, ?it/s]"
      ]
     },
     "metadata": {},
     "output_type": "display_data"
    },
    {
     "name": "stderr",
     "output_type": "stream",
     "text": [
      "2025-03-23 22:46:41,494 INFO: Image saved to storyboards/the_dictator/unique\\image_3.png\n"
     ]
    },
    {
     "data": {
      "application/vnd.jupyter.widget-view+json": {
       "model_id": "458bb1d29c954522a14d1c3ca4f31a5f",
       "version_major": 2,
       "version_minor": 0
      },
      "text/plain": [
       "  0%|          | 0/50 [00:00<?, ?it/s]"
      ]
     },
     "metadata": {},
     "output_type": "display_data"
    },
    {
     "name": "stderr",
     "output_type": "stream",
     "text": [
      "2025-03-23 22:47:07,532 INFO: Image saved to storyboards/the_dictator/unique\\image_4.png\n"
     ]
    },
    {
     "data": {
      "application/vnd.jupyter.widget-view+json": {
       "model_id": "9abab72d9e0b4e62bfb6c236b9b29371",
       "version_major": 2,
       "version_minor": 0
      },
      "text/plain": [
       "  0%|          | 0/50 [00:00<?, ?it/s]"
      ]
     },
     "metadata": {},
     "output_type": "display_data"
    },
    {
     "name": "stderr",
     "output_type": "stream",
     "text": [
      "2025-03-23 22:47:35,870 INFO: Image saved to storyboards/the_dictator/unique\\image_5.png\n"
     ]
    },
    {
     "data": {
      "application/vnd.jupyter.widget-view+json": {
       "model_id": "2ea6be69cacd48219b877a2747674cf1",
       "version_major": 2,
       "version_minor": 0
      },
      "text/plain": [
       "  0%|          | 0/50 [00:00<?, ?it/s]"
      ]
     },
     "metadata": {},
     "output_type": "display_data"
    },
    {
     "name": "stderr",
     "output_type": "stream",
     "text": [
      "2025-03-23 22:48:03,687 INFO: Image saved to storyboards/the_dictator/unique\\image_6.png\n",
      "2025-03-23 22:48:03,689 INFO: Prompts saved to storyboards/the_dictator/unique\\prompts.txt\n",
      "2025-03-23 22:48:03,690 INFO: Storyboard generation completed successfully.\n"
     ]
    }
   ],
   "source": [
    "# Approach 1: unique prompt\n",
    "generator.generate_and_save(save_dir=generation_paths[0], generation_type=generation_types[0])"
   ]
  },
  {
   "cell_type": "code",
   "execution_count": 14,
   "metadata": {},
   "outputs": [
    {
     "data": {
      "application/vnd.jupyter.widget-view+json": {
       "model_id": "9e84a31298f2472b845562ca6d92728f",
       "version_major": 2,
       "version_minor": 0
      },
      "text/plain": [
       "Loading pipeline components...:   0%|          | 0/7 [00:00<?, ?it/s]"
      ]
     },
     "metadata": {},
     "output_type": "display_data"
    },
    {
     "data": {
      "application/vnd.jupyter.widget-view+json": {
       "model_id": "0676af466ef34be989aa36dc6d448b76",
       "version_major": 2,
       "version_minor": 0
      },
      "text/plain": [
       "  0%|          | 0/50 [00:00<?, ?it/s]"
      ]
     },
     "metadata": {},
     "output_type": "display_data"
    },
    {
     "name": "stderr",
     "output_type": "stream",
     "text": [
      "2025-03-23 22:48:37,121 INFO: Image saved to storyboards/the_dictator/prompt_weights\\image_1.png\n"
     ]
    },
    {
     "data": {
      "application/vnd.jupyter.widget-view+json": {
       "model_id": "bd4dca2da0bc4e3882b1d628c2d9d4d2",
       "version_major": 2,
       "version_minor": 0
      },
      "text/plain": [
       "  0%|          | 0/50 [00:00<?, ?it/s]"
      ]
     },
     "metadata": {},
     "output_type": "display_data"
    },
    {
     "name": "stderr",
     "output_type": "stream",
     "text": [
      "2025-03-23 22:49:04,014 INFO: Image saved to storyboards/the_dictator/prompt_weights\\image_2.png\n"
     ]
    },
    {
     "data": {
      "application/vnd.jupyter.widget-view+json": {
       "model_id": "37a2a5a3a12a4c1998b49afcbcc92bc3",
       "version_major": 2,
       "version_minor": 0
      },
      "text/plain": [
       "  0%|          | 0/50 [00:00<?, ?it/s]"
      ]
     },
     "metadata": {},
     "output_type": "display_data"
    },
    {
     "name": "stderr",
     "output_type": "stream",
     "text": [
      "2025-03-23 22:49:35,758 INFO: Image saved to storyboards/the_dictator/prompt_weights\\image_3.png\n"
     ]
    },
    {
     "data": {
      "application/vnd.jupyter.widget-view+json": {
       "model_id": "ebb4431c3a8a43edb0d2b6f6c8657e62",
       "version_major": 2,
       "version_minor": 0
      },
      "text/plain": [
       "  0%|          | 0/50 [00:00<?, ?it/s]"
      ]
     },
     "metadata": {},
     "output_type": "display_data"
    },
    {
     "name": "stderr",
     "output_type": "stream",
     "text": [
      "2025-03-23 22:50:05,696 INFO: Image saved to storyboards/the_dictator/prompt_weights\\image_4.png\n"
     ]
    },
    {
     "data": {
      "application/vnd.jupyter.widget-view+json": {
       "model_id": "57b00a8764284239a3bb12cd85f29d03",
       "version_major": 2,
       "version_minor": 0
      },
      "text/plain": [
       "  0%|          | 0/50 [00:00<?, ?it/s]"
      ]
     },
     "metadata": {},
     "output_type": "display_data"
    },
    {
     "name": "stderr",
     "output_type": "stream",
     "text": [
      "2025-03-23 22:50:32,792 INFO: Image saved to storyboards/the_dictator/prompt_weights\\image_5.png\n"
     ]
    },
    {
     "data": {
      "application/vnd.jupyter.widget-view+json": {
       "model_id": "b452aeeda75b43d080cd5ace043e4dc6",
       "version_major": 2,
       "version_minor": 0
      },
      "text/plain": [
       "  0%|          | 0/50 [00:00<?, ?it/s]"
      ]
     },
     "metadata": {},
     "output_type": "display_data"
    },
    {
     "name": "stderr",
     "output_type": "stream",
     "text": [
      "2025-03-23 22:51:03,036 INFO: Image saved to storyboards/the_dictator/prompt_weights\\image_6.png\n",
      "2025-03-23 22:51:03,042 INFO: Prompts saved to storyboards/the_dictator/prompt_weights\\prompts.txt\n",
      "2025-03-23 22:51:03,042 INFO: Storyboard generation completed successfully.\n"
     ]
    }
   ],
   "source": [
    "# Approach 2: prompt with weighted embeddings\n",
    "generator.generate_and_save(save_dir=generation_paths[1], generation_type=generation_types[1])"
   ]
  },
  {
   "cell_type": "code",
   "execution_count": 15,
   "metadata": {},
   "outputs": [
    {
     "data": {
      "application/vnd.jupyter.widget-view+json": {
       "model_id": "76ae6b6e9a684e09be4135ddd2f60a58",
       "version_major": 2,
       "version_minor": 0
      },
      "text/plain": [
       "Loading pipeline components...:   0%|          | 0/7 [00:00<?, ?it/s]"
      ]
     },
     "metadata": {},
     "output_type": "display_data"
    },
    {
     "name": "stderr",
     "output_type": "stream",
     "text": [
      "2025-03-23 22:51:14,160 INFO: Generating image for scene 1...\n",
      "2025-03-23 22:52:45,562 INFO: Image saved to storyboards/the_dictator/modified-cfg\\image_1.png\n",
      "2025-03-23 22:52:45,726 INFO: Generating image for scene 2...\n",
      "2025-03-23 22:54:39,167 INFO: Image saved to storyboards/the_dictator/modified-cfg\\image_2.png\n",
      "2025-03-23 22:54:39,321 INFO: Generating image for scene 3...\n",
      "2025-03-23 22:56:18,053 INFO: Image saved to storyboards/the_dictator/modified-cfg\\image_3.png\n",
      "2025-03-23 22:56:18,213 INFO: Generating image for scene 4...\n",
      "2025-03-23 22:57:58,873 INFO: Image saved to storyboards/the_dictator/modified-cfg\\image_4.png\n",
      "2025-03-23 22:57:59,045 INFO: Generating image for scene 5...\n",
      "2025-03-23 22:59:54,772 INFO: Image saved to storyboards/the_dictator/modified-cfg\\image_5.png\n",
      "2025-03-23 22:59:54,966 INFO: Generating image for scene 6...\n",
      "2025-03-23 23:01:43,733 INFO: Image saved to storyboards/the_dictator/modified-cfg\\image_6.png\n",
      "2025-03-23 23:01:43,741 INFO: Prompts saved to storyboards/the_dictator/modified-cfg\\prompts.txt\n",
      "2025-03-23 23:01:43,742 INFO: Storyboard generation completed successfully.\n"
     ]
    }
   ],
   "source": [
    "# Approach 3: modified cfg\n",
    "generator.generate_and_save(save_dir=generation_paths[2], generation_type=generation_types[2])"
   ]
  },
  {
   "cell_type": "markdown",
   "metadata": {},
   "source": [
    "## Oppenheimer"
   ]
  },
  {
   "cell_type": "code",
   "execution_count": 16,
   "metadata": {},
   "outputs": [
    {
     "name": "stdout",
     "output_type": "stream",
     "text": [
      "Loaded script and character data for movie: Oppenheimer\n"
     ]
    }
   ],
   "source": [
    "movie_title = \"Oppenheimer\" # change movie title to any movie in the list of movies\n",
    "script, characters = get_movie_data(movie_title)\n",
    "print(\"Loaded script and character data for movie:\", movie_title)\n",
    "generator = StoryboardGenerator(script, characters, device=device)\n",
    "# Define the paths for saving the generated storyboards\n",
    "movie_title_dir = movie_title.lower().replace(' ', '_')\n",
    "generation_paths = [f\"storyboards/{movie_title_dir}/{generation_type}\" for generation_type in generation_types]"
   ]
  },
  {
   "cell_type": "code",
   "execution_count": 17,
   "metadata": {},
   "outputs": [
    {
     "data": {
      "application/vnd.jupyter.widget-view+json": {
       "model_id": "1a15a13411694675ace2f183a44eba67",
       "version_major": 2,
       "version_minor": 0
      },
      "text/plain": [
       "Loading pipeline components...:   0%|          | 0/7 [00:00<?, ?it/s]"
      ]
     },
     "metadata": {},
     "output_type": "display_data"
    },
    {
     "name": "stderr",
     "output_type": "stream",
     "text": [
      "2025-03-23 23:01:52,338 INFO: Generating formatted prompts...\n",
      "2025-03-23 23:02:05,595 INFO: Formatted prompts generated successfully.\n"
     ]
    },
    {
     "data": {
      "application/vnd.jupyter.widget-view+json": {
       "model_id": "9406a5cf37b746d2a27d057318b0cd80",
       "version_major": 2,
       "version_minor": 0
      },
      "text/plain": [
       "  0%|          | 0/50 [00:00<?, ?it/s]"
      ]
     },
     "metadata": {},
     "output_type": "display_data"
    },
    {
     "name": "stderr",
     "output_type": "stream",
     "text": [
      "2025-03-23 23:02:27,600 INFO: Image saved to storyboards/oppenheimer/unique\\image_1.png\n"
     ]
    },
    {
     "data": {
      "application/vnd.jupyter.widget-view+json": {
       "model_id": "f0e8f34712bb48fdbb453183bdf494ed",
       "version_major": 2,
       "version_minor": 0
      },
      "text/plain": [
       "  0%|          | 0/50 [00:00<?, ?it/s]"
      ]
     },
     "metadata": {},
     "output_type": "display_data"
    },
    {
     "name": "stderr",
     "output_type": "stream",
     "text": [
      "2025-03-23 23:02:55,470 INFO: Image saved to storyboards/oppenheimer/unique\\image_2.png\n"
     ]
    },
    {
     "data": {
      "application/vnd.jupyter.widget-view+json": {
       "model_id": "e38be53733234887a59bf16bdecbaa1f",
       "version_major": 2,
       "version_minor": 0
      },
      "text/plain": [
       "  0%|          | 0/50 [00:00<?, ?it/s]"
      ]
     },
     "metadata": {},
     "output_type": "display_data"
    },
    {
     "name": "stderr",
     "output_type": "stream",
     "text": [
      "2025-03-23 23:03:24,182 INFO: Image saved to storyboards/oppenheimer/unique\\image_3.png\n"
     ]
    },
    {
     "data": {
      "application/vnd.jupyter.widget-view+json": {
       "model_id": "1146432a497c42e2a8e6b73ef8a1b65c",
       "version_major": 2,
       "version_minor": 0
      },
      "text/plain": [
       "  0%|          | 0/50 [00:00<?, ?it/s]"
      ]
     },
     "metadata": {},
     "output_type": "display_data"
    },
    {
     "name": "stderr",
     "output_type": "stream",
     "text": [
      "2025-03-23 23:03:53,493 INFO: Image saved to storyboards/oppenheimer/unique\\image_4.png\n"
     ]
    },
    {
     "data": {
      "application/vnd.jupyter.widget-view+json": {
       "model_id": "1488b15a85da43559194c39555795e0f",
       "version_major": 2,
       "version_minor": 0
      },
      "text/plain": [
       "  0%|          | 0/50 [00:00<?, ?it/s]"
      ]
     },
     "metadata": {},
     "output_type": "display_data"
    },
    {
     "name": "stderr",
     "output_type": "stream",
     "text": [
      "2025-03-23 23:04:22,519 INFO: Image saved to storyboards/oppenheimer/unique\\image_5.png\n"
     ]
    },
    {
     "data": {
      "application/vnd.jupyter.widget-view+json": {
       "model_id": "5b97b782859147bba4d7a28dcc3c033c",
       "version_major": 2,
       "version_minor": 0
      },
      "text/plain": [
       "  0%|          | 0/50 [00:00<?, ?it/s]"
      ]
     },
     "metadata": {},
     "output_type": "display_data"
    },
    {
     "name": "stderr",
     "output_type": "stream",
     "text": [
      "2025-03-23 23:04:51,437 INFO: Image saved to storyboards/oppenheimer/unique\\image_6.png\n"
     ]
    },
    {
     "data": {
      "application/vnd.jupyter.widget-view+json": {
       "model_id": "5d4a591116854bd393e99414a299b4d6",
       "version_major": 2,
       "version_minor": 0
      },
      "text/plain": [
       "  0%|          | 0/50 [00:00<?, ?it/s]"
      ]
     },
     "metadata": {},
     "output_type": "display_data"
    },
    {
     "name": "stderr",
     "output_type": "stream",
     "text": [
      "2025-03-23 23:05:22,652 INFO: Image saved to storyboards/oppenheimer/unique\\image_7.png\n"
     ]
    },
    {
     "data": {
      "application/vnd.jupyter.widget-view+json": {
       "model_id": "edad0b948ffb49f8a2bf35e03e262fb0",
       "version_major": 2,
       "version_minor": 0
      },
      "text/plain": [
       "  0%|          | 0/50 [00:00<?, ?it/s]"
      ]
     },
     "metadata": {},
     "output_type": "display_data"
    },
    {
     "name": "stderr",
     "output_type": "stream",
     "text": [
      "2025-03-23 23:05:54,945 INFO: Image saved to storyboards/oppenheimer/unique\\image_8.png\n",
      "2025-03-23 23:05:54,947 INFO: Prompts saved to storyboards/oppenheimer/unique\\prompts.txt\n",
      "2025-03-23 23:05:54,947 INFO: Storyboard generation completed successfully.\n"
     ]
    }
   ],
   "source": [
    "# Approach 1: unique prompt\n",
    "generator.generate_and_save(save_dir=generation_paths[0], generation_type=generation_types[0])"
   ]
  },
  {
   "cell_type": "code",
   "execution_count": 18,
   "metadata": {},
   "outputs": [
    {
     "data": {
      "application/vnd.jupyter.widget-view+json": {
       "model_id": "a7cc2c069d2b478f9ea820ca64f45e7d",
       "version_major": 2,
       "version_minor": 0
      },
      "text/plain": [
       "Loading pipeline components...:   0%|          | 0/7 [00:00<?, ?it/s]"
      ]
     },
     "metadata": {},
     "output_type": "display_data"
    },
    {
     "data": {
      "application/vnd.jupyter.widget-view+json": {
       "model_id": "65772048f5d344279e97275e4a6aa2c0",
       "version_major": 2,
       "version_minor": 0
      },
      "text/plain": [
       "  0%|          | 0/50 [00:00<?, ?it/s]"
      ]
     },
     "metadata": {},
     "output_type": "display_data"
    },
    {
     "name": "stderr",
     "output_type": "stream",
     "text": [
      "2025-03-23 23:06:32,067 INFO: Image saved to storyboards/oppenheimer/prompt_weights\\image_1.png\n"
     ]
    },
    {
     "data": {
      "application/vnd.jupyter.widget-view+json": {
       "model_id": "ed1dbed905544e80a5237fd4a26e6ba9",
       "version_major": 2,
       "version_minor": 0
      },
      "text/plain": [
       "  0%|          | 0/50 [00:00<?, ?it/s]"
      ]
     },
     "metadata": {},
     "output_type": "display_data"
    },
    {
     "name": "stderr",
     "output_type": "stream",
     "text": [
      "2025-03-23 23:07:03,383 INFO: Image saved to storyboards/oppenheimer/prompt_weights\\image_2.png\n"
     ]
    },
    {
     "data": {
      "application/vnd.jupyter.widget-view+json": {
       "model_id": "60c18f62b8294d70a3a687e3de20d656",
       "version_major": 2,
       "version_minor": 0
      },
      "text/plain": [
       "  0%|          | 0/50 [00:00<?, ?it/s]"
      ]
     },
     "metadata": {},
     "output_type": "display_data"
    },
    {
     "name": "stderr",
     "output_type": "stream",
     "text": [
      "2025-03-23 23:07:34,943 INFO: Image saved to storyboards/oppenheimer/prompt_weights\\image_3.png\n"
     ]
    },
    {
     "data": {
      "application/vnd.jupyter.widget-view+json": {
       "model_id": "d84451b9f9e747c6b4f8f2cdf2cc4d8c",
       "version_major": 2,
       "version_minor": 0
      },
      "text/plain": [
       "  0%|          | 0/50 [00:00<?, ?it/s]"
      ]
     },
     "metadata": {},
     "output_type": "display_data"
    },
    {
     "name": "stderr",
     "output_type": "stream",
     "text": [
      "2025-03-23 23:08:06,071 INFO: Image saved to storyboards/oppenheimer/prompt_weights\\image_4.png\n"
     ]
    },
    {
     "data": {
      "application/vnd.jupyter.widget-view+json": {
       "model_id": "deafe326b2ef4500aa65caa46d85c18f",
       "version_major": 2,
       "version_minor": 0
      },
      "text/plain": [
       "  0%|          | 0/50 [00:00<?, ?it/s]"
      ]
     },
     "metadata": {},
     "output_type": "display_data"
    },
    {
     "name": "stderr",
     "output_type": "stream",
     "text": [
      "2025-03-23 23:08:36,206 INFO: Image saved to storyboards/oppenheimer/prompt_weights\\image_5.png\n"
     ]
    },
    {
     "data": {
      "application/vnd.jupyter.widget-view+json": {
       "model_id": "161e09a128db4d62bcd860e31bf2b070",
       "version_major": 2,
       "version_minor": 0
      },
      "text/plain": [
       "  0%|          | 0/50 [00:00<?, ?it/s]"
      ]
     },
     "metadata": {},
     "output_type": "display_data"
    },
    {
     "name": "stderr",
     "output_type": "stream",
     "text": [
      "2025-03-23 23:09:07,112 INFO: Image saved to storyboards/oppenheimer/prompt_weights\\image_6.png\n"
     ]
    },
    {
     "data": {
      "application/vnd.jupyter.widget-view+json": {
       "model_id": "209a6d59d08c417ea1bae22b5833cb44",
       "version_major": 2,
       "version_minor": 0
      },
      "text/plain": [
       "  0%|          | 0/50 [00:00<?, ?it/s]"
      ]
     },
     "metadata": {},
     "output_type": "display_data"
    },
    {
     "name": "stderr",
     "output_type": "stream",
     "text": [
      "2025-03-23 23:09:38,680 INFO: Image saved to storyboards/oppenheimer/prompt_weights\\image_7.png\n"
     ]
    },
    {
     "data": {
      "application/vnd.jupyter.widget-view+json": {
       "model_id": "cba3b1c068374b78820abc88bdae99a4",
       "version_major": 2,
       "version_minor": 0
      },
      "text/plain": [
       "  0%|          | 0/50 [00:00<?, ?it/s]"
      ]
     },
     "metadata": {},
     "output_type": "display_data"
    },
    {
     "name": "stderr",
     "output_type": "stream",
     "text": [
      "2025-03-23 23:10:11,471 INFO: Image saved to storyboards/oppenheimer/prompt_weights\\image_8.png\n",
      "2025-03-23 23:10:11,478 INFO: Prompts saved to storyboards/oppenheimer/prompt_weights\\prompts.txt\n",
      "2025-03-23 23:10:11,478 INFO: Storyboard generation completed successfully.\n"
     ]
    }
   ],
   "source": [
    "# Approach 2: prompt with weighted embeddings\n",
    "generator.generate_and_save(save_dir=generation_paths[1], generation_type=generation_types[1])"
   ]
  },
  {
   "cell_type": "code",
   "execution_count": 19,
   "metadata": {},
   "outputs": [
    {
     "data": {
      "application/vnd.jupyter.widget-view+json": {
       "model_id": "04595e24c13b4a4eb4ee7660efc4060d",
       "version_major": 2,
       "version_minor": 0
      },
      "text/plain": [
       "Loading pipeline components...:   0%|          | 0/7 [00:00<?, ?it/s]"
      ]
     },
     "metadata": {},
     "output_type": "display_data"
    },
    {
     "name": "stderr",
     "output_type": "stream",
     "text": [
      "2025-03-23 23:10:22,486 INFO: Generating image for scene 1...\n",
      "2025-03-23 23:11:51,788 INFO: Image saved to storyboards/oppenheimer/modified-cfg\\image_1.png\n",
      "2025-03-23 23:11:51,957 INFO: Generating image for scene 2...\n",
      "2025-03-23 23:13:48,279 INFO: Image saved to storyboards/oppenheimer/modified-cfg\\image_2.png\n",
      "2025-03-23 23:13:48,436 INFO: Generating image for scene 3...\n",
      "2025-03-23 23:15:40,341 INFO: Image saved to storyboards/oppenheimer/modified-cfg\\image_3.png\n",
      "2025-03-23 23:15:40,479 INFO: Generating image for scene 4...\n",
      "2025-03-23 23:17:16,566 INFO: Image saved to storyboards/oppenheimer/modified-cfg\\image_4.png\n",
      "2025-03-23 23:17:16,742 INFO: Generating image for scene 5...\n",
      "2025-03-23 23:19:28,188 INFO: Image saved to storyboards/oppenheimer/modified-cfg\\image_5.png\n",
      "2025-03-23 23:19:28,345 INFO: Generating image for scene 6...\n",
      "2025-03-23 23:21:24,352 INFO: Image saved to storyboards/oppenheimer/modified-cfg\\image_6.png\n",
      "2025-03-23 23:21:24,505 INFO: Generating image for scene 7...\n",
      "2025-03-23 23:23:21,187 INFO: Image saved to storyboards/oppenheimer/modified-cfg\\image_7.png\n",
      "2025-03-23 23:23:21,347 INFO: Generating image for scene 8...\n",
      "2025-03-23 23:24:57,170 INFO: Image saved to storyboards/oppenheimer/modified-cfg\\image_8.png\n",
      "2025-03-23 23:24:57,177 INFO: Prompts saved to storyboards/oppenheimer/modified-cfg\\prompts.txt\n",
      "2025-03-23 23:24:57,177 INFO: Storyboard generation completed successfully.\n"
     ]
    }
   ],
   "source": [
    "# Approach 3: modified cfg\n",
    "generator.generate_and_save(save_dir=generation_paths[2], generation_type=generation_types[2])"
   ]
  }
 ],
 "metadata": {
  "kernelspec": {
   "display_name": "mldl-ecole",
   "language": "python",
   "name": "python3"
  },
  "language_info": {
   "codemirror_mode": {
    "name": "ipython",
    "version": 3
   },
   "file_extension": ".py",
   "mimetype": "text/x-python",
   "name": "python",
   "nbconvert_exporter": "python",
   "pygments_lexer": "ipython3",
   "version": "3.11.10"
  }
 },
 "nbformat": 4,
 "nbformat_minor": 2
}
