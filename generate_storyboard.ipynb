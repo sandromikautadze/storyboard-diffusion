{
 "cells": [
  {
   "cell_type": "code",
   "execution_count": null,
   "metadata": {},
   "outputs": [],
   "source": [
    "from src.movies import get_movie_script\n",
    "from src.storyboard_generator import StoryboardGenerator\n",
    "import torch \n",
    "device = torch.device(\"cuda\" if torch.cuda.is_available() else \"cpu\")"
   ]
  },
  {
   "cell_type": "markdown",
   "metadata": {},
   "source": [
    "# Data Loading"
   ]
  },
  {
   "cell_type": "markdown",
   "metadata": {},
   "source": [
    "You either load a predefined movie script and its character descriptions, or you can manually input them. \n",
    "\n",
    "Predefined movies include: \"The Godfather\", \"Titanic\", \"The Dictator\", \"Pulp Fiction\", \"Forrest Gump\" and the corresponding data can be accessed with with `get_movie_data` function from the `movies.py` module.\n",
    "\n",
    "The script must be a string, while characters must be in a dictionary with a key for every character in the script, each with specific attributes (see code below)."
   ]
  },
  {
   "cell_type": "code",
   "execution_count": null,
   "metadata": {},
   "outputs": [],
   "source": [
    "use_predefined_script = True # Set to True to use a predefined movie script. Set to False to manually specify your movie script and character descriptions\n",
    "\n",
    "if use_predefined_script:\n",
    "    movie_title = \"the godfather\"\n",
    "    from src.movies import get_movie_data # Import the function to get movie script data\n",
    "    script, characters = get_movie_data(movie_title)\n",
    "    print(\"Loaded script and character data for movie:\", movie_title)\n",
    "else:\n",
    "    # Manually specify your movie script and character descriptions\n",
    "    movie_title = \"My Custom Movie\"\n",
    "    script = \"\"\"\n",
    "    INSERT YOUR MOVIE SCRIPT HERE.\n",
    "    \"\"\"\n",
    "    characters = {\n",
    "        # Provide a key for each character with their attributes.\n",
    "        \"Character Name\": {\n",
    "            \"age\": \"example age\",\n",
    "            \"gender\": \"example gender\",\n",
    "            \"hair\": \"example hair description\",\n",
    "            \"clothing\": \"example clothing\",\n",
    "            \"body_type\": \"example body type\",\n",
    "            \"ethnicity\": \"example ethnicity\"\n",
    "            # Optional\n",
    "            # \"facial_hair\": \"example facial hair description\"\n",
    "            # \"accessories\": \"example accessories\",\n",
    "        },\n",
    "        # Add additional characters as needed.\n",
    "    }"
   ]
  },
  {
   "cell_type": "markdown",
   "metadata": {},
   "source": [
    "# Generation"
   ]
  },
  {
   "cell_type": "code",
   "execution_count": null,
   "metadata": {},
   "outputs": [],
   "source": [
    "# Instantiate the storyboard generator with the loaded script and characters.\n",
    "generator = StoryboardGenerator(script, characters, device=device)"
   ]
  },
  {
   "cell_type": "code",
   "execution_count": null,
   "metadata": {},
   "outputs": [],
   "source": [
    "# Define the available generation approaches and directories to save images and prompts at.\n",
    "generation_types = [\"unique\", \"prompt_weights\", \"modified-cfg\"]\n",
    "movie_title_dir = movie_title.lower().replace(' ', '_')\n",
    "generation_paths = [f\"{movie_title_dir}/{generation_type}\" for generation_type in generation_types]"
   ]
  },
  {
   "cell_type": "code",
   "execution_count": null,
   "metadata": {},
   "outputs": [],
   "source": [
    "# Generate and save images for each generation approach.\n",
    "# Approach 1: unique prompt\n",
    "generator.generate_and_save(save_dir=generation_paths[0], generation_type=generation_types[0])"
   ]
  },
  {
   "cell_type": "code",
   "execution_count": null,
   "metadata": {},
   "outputs": [],
   "source": [
    "# Approach 2: prompt with weighted embeddings\n",
    "generator.generate_and_save(save_dir=generation_paths[1], generation_type=generation_types[1])"
   ]
  },
  {
   "cell_type": "code",
   "execution_count": null,
   "metadata": {},
   "outputs": [],
   "source": [
    "# Approach 3: modified cfg\n",
    "generator.generate_and_save(save_dir=generation_paths[2], generation_type=generation_types[2])"
   ]
  }
 ],
 "metadata": {
  "kernelspec": {
   "display_name": "mldl-ecole",
   "language": "python",
   "name": "python3"
  },
  "language_info": {
   "codemirror_mode": {
    "name": "ipython",
    "version": 3
   },
   "file_extension": ".py",
   "mimetype": "text/x-python",
   "name": "python",
   "nbconvert_exporter": "python",
   "pygments_lexer": "ipython3",
   "version": "3.11.10"
  }
 },
 "nbformat": 4,
 "nbformat_minor": 2
}
