{
 "cells": [
  {
   "cell_type": "markdown",
   "metadata": {},
   "source": [
    "# Preamble"
   ]
  },
  {
   "cell_type": "code",
   "execution_count": null,
   "metadata": {},
   "outputs": [],
   "source": [
    "from src.storyboard_generator import StoryboardGenerator\n",
    "from src.movies import get_movie_data\n",
    "import torch \n",
    "device = torch.device(\"cuda\" if torch.cuda.is_available() else \"cpu\")\n",
    "generation_types = [\"unique\", \"prompt_weights\", \"modified-cfg\"] # Define the available generation approaches"
   ]
  },
  {
   "cell_type": "markdown",
   "metadata": {},
   "source": [
    "# Example - The Godfather"
   ]
  },
  {
   "cell_type": "markdown",
   "metadata": {},
   "source": [
    "The example below runs with the script of \"The Godfather\". The results are saved in `storyboards/the_godfather`."
   ]
  },
  {
   "cell_type": "markdown",
   "metadata": {},
   "source": [
    "## Data"
   ]
  },
  {
   "cell_type": "markdown",
   "metadata": {},
   "source": [
    "You either load a predefined movie script and its character descriptions, or you can manually input them. \n",
    "\n",
    "Predefined movies are \"The Godfather\", \"Titanic\", \"The Dictator\", \"Oppenheimer\" and the corresponding data can be accessed with with `get_movie_data` function from the `movies.py` module. The script must be a string, while characters must be in a dictionary with a key for every character in the script, each with specific attributes (see code below)."
   ]
  },
  {
   "cell_type": "code",
   "execution_count": null,
   "metadata": {},
   "outputs": [],
   "source": [
    "# PREDEFINED SCRIPT\n",
    "movie_title = \"The Godfather\" # change movie title to any movie in the list of movies\n",
    "script, characters = get_movie_data(movie_title)\n",
    "print(\"Loaded script and character data for movie:\", movie_title)\n",
    "\n",
    "# # USE CODE BELOW TO USE A CUSTOM SCRIPT AND CHARACTER DESCRIPTIONS AND COMMENT OUT THE ABOVE CODE\n",
    "# # MANUALLY SPECIFY DATA\n",
    "# movie_title = \"My Custom Movie\"\n",
    "# script = \"\"\"\n",
    "# INSERT YOUR SCRIPT HERE.\n",
    "# \"\"\"\n",
    "# characters = {\n",
    "#     # Provide a key for each character with their attributes.\n",
    "#     \"Character Name\": {\n",
    "#         \"age\": \"example age\",\n",
    "#         \"gender\": \"example gender\",\n",
    "#         \"hair\": \"example hair description\",\n",
    "#         \"clothing\": \"example clothing\",\n",
    "#         \"body_type\": \"example body type\",\n",
    "#         \"ethnicity\": \"example ethnicity\"\n",
    "#         # Optional\n",
    "#         # \"facial_hair\": \"example facial hair description\"\n",
    "#         # \"accessories\": \"example accessories\",\n",
    "#     },\n",
    "#     # Add additional characters as needed.\n",
    "# }\n",
    "# print(\"Manually specified script and character data for movie:\", movie_title)"
   ]
  },
  {
   "cell_type": "markdown",
   "metadata": {},
   "source": [
    "## Generation"
   ]
  },
  {
   "cell_type": "code",
   "execution_count": null,
   "metadata": {},
   "outputs": [],
   "source": [
    "# Instantiate the storyboard generator with the loaded script and characters.\n",
    "generator = StoryboardGenerator(script, characters, device=device)"
   ]
  },
  {
   "cell_type": "code",
   "execution_count": null,
   "metadata": {},
   "outputs": [],
   "source": [
    "# Define the paths for saving the generated storyboards\n",
    "movie_title_dir = movie_title.lower().replace(' ', '_')\n",
    "generation_paths = [f\"storyboards_testing/{movie_title_dir}/{generation_type}\" for generation_type in generation_types]"
   ]
  },
  {
   "cell_type": "code",
   "execution_count": null,
   "metadata": {},
   "outputs": [],
   "source": [
    "# Generate and save images for each generation approach.\n",
    "# Approach 1: unique prompt\n",
    "generator.generate_and_save(save_dir=generation_paths[0], generation_type=generation_types[0])"
   ]
  },
  {
   "cell_type": "code",
   "execution_count": null,
   "metadata": {},
   "outputs": [],
   "source": [
    "# Approach 2: prompt with weighted embeddings\n",
    "generator.generate_and_save(save_dir=generation_paths[1], generation_type=generation_types[1])"
   ]
  },
  {
   "cell_type": "code",
   "execution_count": null,
   "metadata": {},
   "outputs": [],
   "source": [
    "# Approach 3: modified cfg\n",
    "generator.generate_and_save(save_dir=generation_paths[2], generation_type=generation_types[2])"
   ]
  },
  {
   "cell_type": "markdown",
   "metadata": {},
   "source": [
    "# Other Examples"
   ]
  },
  {
   "cell_type": "markdown",
   "metadata": {},
   "source": [
    "## Titanic"
   ]
  },
  {
   "cell_type": "code",
   "execution_count": null,
   "metadata": {},
   "outputs": [],
   "source": [
    "movie_title = \"Titanic\" # change movie title to any movie in the list of movies\n",
    "script, characters = get_movie_data(movie_title)\n",
    "print(\"Loaded script and character data for movie:\", movie_title)\n",
    "generator = StoryboardGenerator(script, characters, device=device)\n",
    "# Define the paths for saving the generated storyboards\n",
    "movie_title_dir = movie_title.lower().replace(' ', '_')\n",
    "generation_paths = [f\"storyboards/{movie_title_dir}/{generation_type}\" for generation_type in generation_types]"
   ]
  },
  {
   "cell_type": "code",
   "execution_count": null,
   "metadata": {},
   "outputs": [],
   "source": [
    "# Approach 1: unique prompt\n",
    "generator.generate_and_save(save_dir=generation_paths[0], generation_type=generation_types[0])"
   ]
  },
  {
   "cell_type": "code",
   "execution_count": null,
   "metadata": {},
   "outputs": [],
   "source": [
    "# Approach 2: prompt with weighted embeddings\n",
    "generator.generate_and_save(save_dir=generation_paths[1], generation_type=generation_types[1])"
   ]
  },
  {
   "cell_type": "code",
   "execution_count": null,
   "metadata": {},
   "outputs": [],
   "source": [
    "# Approach 3: modified cfg\n",
    "generator.generate_and_save(save_dir=generation_paths[2], generation_type=generation_types[2])"
   ]
  },
  {
   "cell_type": "markdown",
   "metadata": {},
   "source": [
    "## The Dictator"
   ]
  },
  {
   "cell_type": "code",
   "execution_count": null,
   "metadata": {},
   "outputs": [],
   "source": [
    "movie_title = \"The Dictator\" # change movie title to any movie in the list of movies\n",
    "script, characters = get_movie_data(movie_title)\n",
    "print(\"Loaded script and character data for movie:\", movie_title)\n",
    "generator = StoryboardGenerator(script, characters, device=device)\n",
    "# Define the paths for saving the generated storyboards\n",
    "movie_title_dir = movie_title.lower().replace(' ', '_')\n",
    "generation_paths = [f\"storyboards/{movie_title_dir}/{generation_type}\" for generation_type in generation_types]"
   ]
  },
  {
   "cell_type": "code",
   "execution_count": null,
   "metadata": {},
   "outputs": [],
   "source": [
    "# Approach 1: unique prompt\n",
    "generator.generate_and_save(save_dir=generation_paths[0], generation_type=generation_types[0])"
   ]
  },
  {
   "cell_type": "code",
   "execution_count": null,
   "metadata": {},
   "outputs": [],
   "source": [
    "# Approach 2: prompt with weighted embeddings\n",
    "generator.generate_and_save(save_dir=generation_paths[1], generation_type=generation_types[1])"
   ]
  },
  {
   "cell_type": "code",
   "execution_count": null,
   "metadata": {},
   "outputs": [],
   "source": [
    "# Approach 3: modified cfg\n",
    "generator.generate_and_save(save_dir=generation_paths[2], generation_type=generation_types[2])"
   ]
  },
  {
   "cell_type": "markdown",
   "metadata": {},
   "source": [
    "## Oppenheimer"
   ]
  },
  {
   "cell_type": "code",
   "execution_count": null,
   "metadata": {},
   "outputs": [],
   "source": [
    "movie_title = \"Oppenheimer\" # change movie title to any movie in the list of movies\n",
    "script, characters = get_movie_data(movie_title)\n",
    "print(\"Loaded script and character data for movie:\", movie_title)\n",
    "generator = StoryboardGenerator(script, characters, device=device)\n",
    "# Define the paths for saving the generated storyboards\n",
    "movie_title_dir = movie_title.lower().replace(' ', '_')\n",
    "generation_paths = [f\"storyboards/{movie_title_dir}/{generation_type}\" for generation_type in generation_types]"
   ]
  },
  {
   "cell_type": "code",
   "execution_count": null,
   "metadata": {},
   "outputs": [],
   "source": [
    "# Approach 1: unique prompt\n",
    "generator.generate_and_save(save_dir=generation_paths[0], generation_type=generation_types[0])"
   ]
  },
  {
   "cell_type": "code",
   "execution_count": null,
   "metadata": {},
   "outputs": [],
   "source": [
    "# Approach 2: prompt with weighted embeddings\n",
    "generator.generate_and_save(save_dir=generation_paths[1], generation_type=generation_types[1])"
   ]
  },
  {
   "cell_type": "code",
   "execution_count": null,
   "metadata": {},
   "outputs": [],
   "source": [
    "# Approach 3: modified cfg\n",
    "generator.generate_and_save(save_dir=generation_paths[2], generation_type=generation_types[2])"
   ]
  }
 ],
 "metadata": {
  "kernelspec": {
   "display_name": "mldl-ecole",
   "language": "python",
   "name": "python3"
  },
  "language_info": {
   "codemirror_mode": {
    "name": "ipython",
    "version": 3
   },
   "file_extension": ".py",
   "mimetype": "text/x-python",
   "name": "python",
   "nbconvert_exporter": "python",
   "pygments_lexer": "ipython3",
   "version": "3.11.10"
  }
 },
 "nbformat": 4,
 "nbformat_minor": 2
}
